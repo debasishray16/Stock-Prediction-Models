{
  "cells": [
    {
      "cell_type": "code",
      "execution_count": 1,
      "metadata": {
        "colab": {
          "base_uri": "https://localhost:8080/"
        },
        "id": "8Uc4lIavF1Te",
        "outputId": "e208c0ee-ae6f-4a9c-8bfa-2cdceda4fa1e"
      },
      "outputs": [
        {
          "name": "stdout",
          "output_type": "stream",
          "text": [
            "Requirement already satisfied: pandas-datareader in c:\\users\\sinha\\appdata\\local\\programs\\python\\python312\\lib\\site-packages (0.10.0)\n",
            "Requirement already satisfied: lxml in c:\\users\\sinha\\appdata\\local\\programs\\python\\python312\\lib\\site-packages (from pandas-datareader) (5.2.1)\n",
            "Requirement already satisfied: pandas>=0.23 in c:\\users\\sinha\\appdata\\local\\programs\\python\\python312\\lib\\site-packages (from pandas-datareader) (2.2.1)\n",
            "Requirement already satisfied: requests>=2.19.0 in c:\\users\\sinha\\appdata\\local\\programs\\python\\python312\\lib\\site-packages (from pandas-datareader) (2.31.0)\n",
            "Requirement already satisfied: numpy<2,>=1.26.0 in c:\\users\\sinha\\appdata\\local\\programs\\python\\python312\\lib\\site-packages (from pandas>=0.23->pandas-datareader) (1.26.4)\n",
            "Requirement already satisfied: python-dateutil>=2.8.2 in c:\\users\\sinha\\appdata\\local\\programs\\python\\python312\\lib\\site-packages (from pandas>=0.23->pandas-datareader) (2.9.0.post0)\n",
            "Requirement already satisfied: pytz>=2020.1 in c:\\users\\sinha\\appdata\\local\\programs\\python\\python312\\lib\\site-packages (from pandas>=0.23->pandas-datareader) (2024.1)\n",
            "Requirement already satisfied: tzdata>=2022.7 in c:\\users\\sinha\\appdata\\local\\programs\\python\\python312\\lib\\site-packages (from pandas>=0.23->pandas-datareader) (2024.1)\n",
            "Requirement already satisfied: charset-normalizer<4,>=2 in c:\\users\\sinha\\appdata\\local\\programs\\python\\python312\\lib\\site-packages (from requests>=2.19.0->pandas-datareader) (3.3.2)\n",
            "Requirement already satisfied: idna<4,>=2.5 in c:\\users\\sinha\\appdata\\local\\programs\\python\\python312\\lib\\site-packages (from requests>=2.19.0->pandas-datareader) (3.6)\n",
            "Requirement already satisfied: urllib3<3,>=1.21.1 in c:\\users\\sinha\\appdata\\local\\programs\\python\\python312\\lib\\site-packages (from requests>=2.19.0->pandas-datareader) (2.2.1)\n",
            "Requirement already satisfied: certifi>=2017.4.17 in c:\\users\\sinha\\appdata\\local\\programs\\python\\python312\\lib\\site-packages (from requests>=2.19.0->pandas-datareader) (2024.2.2)\n",
            "Requirement already satisfied: six>=1.5 in c:\\users\\sinha\\appdata\\local\\programs\\python\\python312\\lib\\site-packages (from python-dateutil>=2.8.2->pandas>=0.23->pandas-datareader) (1.16.0)\n"
          ]
        }
      ],
      "source": [
        "!pip install pandas-datareader"
      ]
    },
    {
      "cell_type": "code",
      "execution_count": 2,
      "metadata": {
        "id": "moPEPeDaGAmf"
      },
      "outputs": [],
      "source": [
        "import numpy as np\n",
        "import pandas as pd\n",
        "import matplotlib.pyplot as plt\n",
        "import pandas_datareader as data"
      ]
    },
    {
      "cell_type": "code",
      "execution_count": 3,
      "metadata": {
        "colab": {
          "base_uri": "https://localhost:8080/",
          "height": 237
        },
        "id": "7BkfhhO_GCEC",
        "outputId": "3fb71959-21ef-42fd-a659-f1d1d2da2b32"
      },
      "outputs": [
        {
          "data": {
            "text/html": [
              "<div>\n",
              "<style scoped>\n",
              "    .dataframe tbody tr th:only-of-type {\n",
              "        vertical-align: middle;\n",
              "    }\n",
              "\n",
              "    .dataframe tbody tr th {\n",
              "        vertical-align: top;\n",
              "    }\n",
              "\n",
              "    .dataframe thead th {\n",
              "        text-align: right;\n",
              "    }\n",
              "</style>\n",
              "<table border=\"1\" class=\"dataframe\">\n",
              "  <thead>\n",
              "    <tr style=\"text-align: right;\">\n",
              "      <th></th>\n",
              "      <th>Open</th>\n",
              "      <th>High</th>\n",
              "      <th>Low</th>\n",
              "      <th>Close</th>\n",
              "      <th>Volume</th>\n",
              "    </tr>\n",
              "    <tr>\n",
              "      <th>Date</th>\n",
              "      <th></th>\n",
              "      <th></th>\n",
              "      <th></th>\n",
              "      <th></th>\n",
              "      <th></th>\n",
              "    </tr>\n",
              "  </thead>\n",
              "  <tbody>\n",
              "    <tr>\n",
              "      <th>2022-12-30</th>\n",
              "      <td>132.81</td>\n",
              "      <td>134.33</td>\n",
              "      <td>132.44</td>\n",
              "      <td>134.10</td>\n",
              "      <td>9292519.0</td>\n",
              "    </tr>\n",
              "    <tr>\n",
              "      <th>2022-12-29</th>\n",
              "      <td>132.93</td>\n",
              "      <td>133.27</td>\n",
              "      <td>132.31</td>\n",
              "      <td>133.22</td>\n",
              "      <td>6585228.0</td>\n",
              "    </tr>\n",
              "    <tr>\n",
              "      <th>2022-12-28</th>\n",
              "      <td>131.85</td>\n",
              "      <td>133.41</td>\n",
              "      <td>131.01</td>\n",
              "      <td>132.46</td>\n",
              "      <td>8827738.0</td>\n",
              "    </tr>\n",
              "    <tr>\n",
              "      <th>2022-12-27</th>\n",
              "      <td>131.57</td>\n",
              "      <td>132.22</td>\n",
              "      <td>130.55</td>\n",
              "      <td>131.74</td>\n",
              "      <td>5410991.0</td>\n",
              "    </tr>\n",
              "    <tr>\n",
              "      <th>2022-12-23</th>\n",
              "      <td>130.58</td>\n",
              "      <td>131.44</td>\n",
              "      <td>129.64</td>\n",
              "      <td>131.28</td>\n",
              "      <td>5091905.0</td>\n",
              "    </tr>\n",
              "  </tbody>\n",
              "</table>\n",
              "</div>"
            ],
            "text/plain": [
              "              Open    High     Low   Close     Volume\n",
              "Date                                                 \n",
              "2022-12-30  132.81  134.33  132.44  134.10  9292519.0\n",
              "2022-12-29  132.93  133.27  132.31  133.22  6585228.0\n",
              "2022-12-28  131.85  133.41  131.01  132.46  8827738.0\n",
              "2022-12-27  131.57  132.22  130.55  131.74  5410991.0\n",
              "2022-12-23  130.58  131.44  129.64  131.28  5091905.0"
            ]
          },
          "execution_count": 3,
          "metadata": {},
          "output_type": "execute_result"
        }
      ],
      "source": [
        "import pandas_datareader.data as web\n",
        "start='2015-01-01'\n",
        "end='2023-01-01'\n",
        "\n",
        "df=web.DataReader('JPM','stooq',start,end)\n",
        "df.head()"
      ]
    },
    {
      "cell_type": "code",
      "execution_count": 4,
      "metadata": {
        "colab": {
          "base_uri": "https://localhost:8080/",
          "height": 237
        },
        "id": "2Y0r9hQ4GOkv",
        "outputId": "bfbcaf1c-06b2-4bcf-ffa8-ad3fe154ad79"
      },
      "outputs": [
        {
          "data": {
            "text/html": [
              "<div>\n",
              "<style scoped>\n",
              "    .dataframe tbody tr th:only-of-type {\n",
              "        vertical-align: middle;\n",
              "    }\n",
              "\n",
              "    .dataframe tbody tr th {\n",
              "        vertical-align: top;\n",
              "    }\n",
              "\n",
              "    .dataframe thead th {\n",
              "        text-align: right;\n",
              "    }\n",
              "</style>\n",
              "<table border=\"1\" class=\"dataframe\">\n",
              "  <thead>\n",
              "    <tr style=\"text-align: right;\">\n",
              "      <th></th>\n",
              "      <th>Open</th>\n",
              "      <th>High</th>\n",
              "      <th>Low</th>\n",
              "      <th>Close</th>\n",
              "      <th>Volume</th>\n",
              "    </tr>\n",
              "    <tr>\n",
              "      <th>Date</th>\n",
              "      <th></th>\n",
              "      <th></th>\n",
              "      <th></th>\n",
              "      <th></th>\n",
              "      <th></th>\n",
              "    </tr>\n",
              "  </thead>\n",
              "  <tbody>\n",
              "    <tr>\n",
              "      <th>2015-01-08</th>\n",
              "      <td>48.2753</td>\n",
              "      <td>49.0259</td>\n",
              "      <td>48.2753</td>\n",
              "      <td>48.6122</td>\n",
              "      <td>2.107993e+07</td>\n",
              "    </tr>\n",
              "    <tr>\n",
              "      <th>2015-01-07</th>\n",
              "      <td>48.2143</td>\n",
              "      <td>48.2143</td>\n",
              "      <td>47.2329</td>\n",
              "      <td>47.5512</td>\n",
              "      <td>2.961840e+07</td>\n",
              "    </tr>\n",
              "    <tr>\n",
              "      <th>2015-01-06</th>\n",
              "      <td>48.8155</td>\n",
              "      <td>48.9040</td>\n",
              "      <td>46.9735</td>\n",
              "      <td>47.4804</td>\n",
              "      <td>3.611625e+07</td>\n",
              "    </tr>\n",
              "    <tr>\n",
              "      <th>2015-01-05</th>\n",
              "      <td>49.9581</td>\n",
              "      <td>50.1369</td>\n",
              "      <td>48.4845</td>\n",
              "      <td>48.7429</td>\n",
              "      <td>2.496834e+07</td>\n",
              "    </tr>\n",
              "    <tr>\n",
              "      <th>2015-01-02</th>\n",
              "      <td>50.4111</td>\n",
              "      <td>50.6861</td>\n",
              "      <td>49.9670</td>\n",
              "      <td>50.3059</td>\n",
              "      <td>1.564852e+07</td>\n",
              "    </tr>\n",
              "  </tbody>\n",
              "</table>\n",
              "</div>"
            ],
            "text/plain": [
              "               Open     High      Low    Close        Volume\n",
              "Date                                                        \n",
              "2015-01-08  48.2753  49.0259  48.2753  48.6122  2.107993e+07\n",
              "2015-01-07  48.2143  48.2143  47.2329  47.5512  2.961840e+07\n",
              "2015-01-06  48.8155  48.9040  46.9735  47.4804  3.611625e+07\n",
              "2015-01-05  49.9581  50.1369  48.4845  48.7429  2.496834e+07\n",
              "2015-01-02  50.4111  50.6861  49.9670  50.3059  1.564852e+07"
            ]
          },
          "execution_count": 4,
          "metadata": {},
          "output_type": "execute_result"
        }
      ],
      "source": [
        "df.tail()"
      ]
    },
    {
      "cell_type": "code",
      "execution_count": 5,
      "metadata": {
        "colab": {
          "base_uri": "https://localhost:8080/",
          "height": 206
        },
        "id": "U3ivPfLhGP92",
        "outputId": "c267d405-27f6-410e-e9d9-0d60394b2235"
      },
      "outputs": [
        {
          "data": {
            "text/html": [
              "<div>\n",
              "<style scoped>\n",
              "    .dataframe tbody tr th:only-of-type {\n",
              "        vertical-align: middle;\n",
              "    }\n",
              "\n",
              "    .dataframe tbody tr th {\n",
              "        vertical-align: top;\n",
              "    }\n",
              "\n",
              "    .dataframe thead th {\n",
              "        text-align: right;\n",
              "    }\n",
              "</style>\n",
              "<table border=\"1\" class=\"dataframe\">\n",
              "  <thead>\n",
              "    <tr style=\"text-align: right;\">\n",
              "      <th></th>\n",
              "      <th>Date</th>\n",
              "      <th>Open</th>\n",
              "      <th>High</th>\n",
              "      <th>Low</th>\n",
              "      <th>Close</th>\n",
              "      <th>Volume</th>\n",
              "    </tr>\n",
              "  </thead>\n",
              "  <tbody>\n",
              "    <tr>\n",
              "      <th>0</th>\n",
              "      <td>2022-12-30</td>\n",
              "      <td>132.81</td>\n",
              "      <td>134.33</td>\n",
              "      <td>132.44</td>\n",
              "      <td>134.10</td>\n",
              "      <td>9292519.0</td>\n",
              "    </tr>\n",
              "    <tr>\n",
              "      <th>1</th>\n",
              "      <td>2022-12-29</td>\n",
              "      <td>132.93</td>\n",
              "      <td>133.27</td>\n",
              "      <td>132.31</td>\n",
              "      <td>133.22</td>\n",
              "      <td>6585228.0</td>\n",
              "    </tr>\n",
              "    <tr>\n",
              "      <th>2</th>\n",
              "      <td>2022-12-28</td>\n",
              "      <td>131.85</td>\n",
              "      <td>133.41</td>\n",
              "      <td>131.01</td>\n",
              "      <td>132.46</td>\n",
              "      <td>8827738.0</td>\n",
              "    </tr>\n",
              "    <tr>\n",
              "      <th>3</th>\n",
              "      <td>2022-12-27</td>\n",
              "      <td>131.57</td>\n",
              "      <td>132.22</td>\n",
              "      <td>130.55</td>\n",
              "      <td>131.74</td>\n",
              "      <td>5410991.0</td>\n",
              "    </tr>\n",
              "    <tr>\n",
              "      <th>4</th>\n",
              "      <td>2022-12-23</td>\n",
              "      <td>130.58</td>\n",
              "      <td>131.44</td>\n",
              "      <td>129.64</td>\n",
              "      <td>131.28</td>\n",
              "      <td>5091905.0</td>\n",
              "    </tr>\n",
              "  </tbody>\n",
              "</table>\n",
              "</div>"
            ],
            "text/plain": [
              "        Date    Open    High     Low   Close     Volume\n",
              "0 2022-12-30  132.81  134.33  132.44  134.10  9292519.0\n",
              "1 2022-12-29  132.93  133.27  132.31  133.22  6585228.0\n",
              "2 2022-12-28  131.85  133.41  131.01  132.46  8827738.0\n",
              "3 2022-12-27  131.57  132.22  130.55  131.74  5410991.0\n",
              "4 2022-12-23  130.58  131.44  129.64  131.28  5091905.0"
            ]
          },
          "execution_count": 5,
          "metadata": {},
          "output_type": "execute_result"
        }
      ],
      "source": [
        "#  Date becomes column and are removable.\n",
        "df=df.reset_index()\n",
        "df.head()"
      ]
    },
    {
      "cell_type": "code",
      "execution_count": 6,
      "metadata": {
        "colab": {
          "base_uri": "https://localhost:8080/",
          "height": 206
        },
        "id": "wIHsMsmxGSJC",
        "outputId": "52e2da7e-78d2-457d-b49a-907d67dd1fde"
      },
      "outputs": [
        {
          "data": {
            "text/html": [
              "<div>\n",
              "<style scoped>\n",
              "    .dataframe tbody tr th:only-of-type {\n",
              "        vertical-align: middle;\n",
              "    }\n",
              "\n",
              "    .dataframe tbody tr th {\n",
              "        vertical-align: top;\n",
              "    }\n",
              "\n",
              "    .dataframe thead th {\n",
              "        text-align: right;\n",
              "    }\n",
              "</style>\n",
              "<table border=\"1\" class=\"dataframe\">\n",
              "  <thead>\n",
              "    <tr style=\"text-align: right;\">\n",
              "      <th></th>\n",
              "      <th>Open</th>\n",
              "      <th>High</th>\n",
              "      <th>Low</th>\n",
              "      <th>Close</th>\n",
              "      <th>Volume</th>\n",
              "    </tr>\n",
              "  </thead>\n",
              "  <tbody>\n",
              "    <tr>\n",
              "      <th>0</th>\n",
              "      <td>132.81</td>\n",
              "      <td>134.33</td>\n",
              "      <td>132.44</td>\n",
              "      <td>134.10</td>\n",
              "      <td>9292519.0</td>\n",
              "    </tr>\n",
              "    <tr>\n",
              "      <th>1</th>\n",
              "      <td>132.93</td>\n",
              "      <td>133.27</td>\n",
              "      <td>132.31</td>\n",
              "      <td>133.22</td>\n",
              "      <td>6585228.0</td>\n",
              "    </tr>\n",
              "    <tr>\n",
              "      <th>2</th>\n",
              "      <td>131.85</td>\n",
              "      <td>133.41</td>\n",
              "      <td>131.01</td>\n",
              "      <td>132.46</td>\n",
              "      <td>8827738.0</td>\n",
              "    </tr>\n",
              "    <tr>\n",
              "      <th>3</th>\n",
              "      <td>131.57</td>\n",
              "      <td>132.22</td>\n",
              "      <td>130.55</td>\n",
              "      <td>131.74</td>\n",
              "      <td>5410991.0</td>\n",
              "    </tr>\n",
              "    <tr>\n",
              "      <th>4</th>\n",
              "      <td>130.58</td>\n",
              "      <td>131.44</td>\n",
              "      <td>129.64</td>\n",
              "      <td>131.28</td>\n",
              "      <td>5091905.0</td>\n",
              "    </tr>\n",
              "  </tbody>\n",
              "</table>\n",
              "</div>"
            ],
            "text/plain": [
              "     Open    High     Low   Close     Volume\n",
              "0  132.81  134.33  132.44  134.10  9292519.0\n",
              "1  132.93  133.27  132.31  133.22  6585228.0\n",
              "2  131.85  133.41  131.01  132.46  8827738.0\n",
              "3  131.57  132.22  130.55  131.74  5410991.0\n",
              "4  130.58  131.44  129.64  131.28  5091905.0"
            ]
          },
          "execution_count": 6,
          "metadata": {},
          "output_type": "execute_result"
        }
      ],
      "source": [
        "df=df.drop(['Date'],axis=1)\n",
        "df.head()"
      ]
    },
    {
      "cell_type": "code",
      "execution_count": 7,
      "metadata": {
        "colab": {
          "base_uri": "https://localhost:8080/",
          "height": 607
        },
        "id": "72QtumHDGToX",
        "outputId": "9147eeb4-673d-4654-f586-74508f60e918"
      },
      "outputs": [
        {
          "data": {
            "image/png": "[encoded data removed]",
            "text/plain": [
              "<Figure size 1000x600 with 1 Axes>"
            ]
          },
          "metadata": {},
          "output_type": "display_data"
        }
      ],
      "source": [
        "import matplotlib.pyplot as plt\n",
        "import pandas as pd\n",
        "\n",
        "fig=plt.figure(figsize=(10,6))\n",
        "fig.patch.set_facecolor('#42A5F5')\n",
        "\n",
        "ax=plt.axes()\n",
        "ax.set_facecolor('#C7E1F4')\n",
        "\n",
        "plt.plot(df.Close, '#FF8F00', label='Closing Price')\n",
        "\n",
        "plt.legend()\n",
        "plt.xlabel('Date')\n",
        "plt.ylabel('Closing Price (USD)')\n",
        "plt.xticks(rotation=45)\n",
        "\n",
        "plt.grid(True,linestyle='--',color='#BDBDBD')\n",
        "plt.tight_layout()\n",
        "plt.show()"
      ]
    },
    {
      "cell_type": "code",
      "execution_count": 8,
      "metadata": {
        "colab": {
          "base_uri": "https://localhost:8080/",
          "height": 424
        },
        "id": "cDZfmvIlGVks",
        "outputId": "bdde3df1-3ade-4989-c7a5-0753ed6da2a4"
      },
      "outputs": [
        {
          "data": {
            "text/html": [
              "<div>\n",
              "<style scoped>\n",
              "    .dataframe tbody tr th:only-of-type {\n",
              "        vertical-align: middle;\n",
              "    }\n",
              "\n",
              "    .dataframe tbody tr th {\n",
              "        vertical-align: top;\n",
              "    }\n",
              "\n",
              "    .dataframe thead th {\n",
              "        text-align: right;\n",
              "    }\n",
              "</style>\n",
              "<table border=\"1\" class=\"dataframe\">\n",
              "  <thead>\n",
              "    <tr style=\"text-align: right;\">\n",
              "      <th></th>\n",
              "      <th>Open</th>\n",
              "      <th>High</th>\n",
              "      <th>Low</th>\n",
              "      <th>Close</th>\n",
              "      <th>Volume</th>\n",
              "    </tr>\n",
              "  </thead>\n",
              "  <tbody>\n",
              "    <tr>\n",
              "      <th>0</th>\n",
              "      <td>132.8100</td>\n",
              "      <td>134.3300</td>\n",
              "      <td>132.4400</td>\n",
              "      <td>134.1000</td>\n",
              "      <td>9.292519e+06</td>\n",
              "    </tr>\n",
              "    <tr>\n",
              "      <th>1</th>\n",
              "      <td>132.9300</td>\n",
              "      <td>133.2700</td>\n",
              "      <td>132.3100</td>\n",
              "      <td>133.2200</td>\n",
              "      <td>6.585228e+06</td>\n",
              "    </tr>\n",
              "    <tr>\n",
              "      <th>2</th>\n",
              "      <td>131.8500</td>\n",
              "      <td>133.4100</td>\n",
              "      <td>131.0100</td>\n",
              "      <td>132.4600</td>\n",
              "      <td>8.827738e+06</td>\n",
              "    </tr>\n",
              "    <tr>\n",
              "      <th>3</th>\n",
              "      <td>131.5700</td>\n",
              "      <td>132.2200</td>\n",
              "      <td>130.5500</td>\n",
              "      <td>131.7400</td>\n",
              "      <td>5.410991e+06</td>\n",
              "    </tr>\n",
              "    <tr>\n",
              "      <th>4</th>\n",
              "      <td>130.5800</td>\n",
              "      <td>131.4400</td>\n",
              "      <td>129.6400</td>\n",
              "      <td>131.2800</td>\n",
              "      <td>5.091905e+06</td>\n",
              "    </tr>\n",
              "    <tr>\n",
              "      <th>...</th>\n",
              "      <td>...</td>\n",
              "      <td>...</td>\n",
              "      <td>...</td>\n",
              "      <td>...</td>\n",
              "      <td>...</td>\n",
              "    </tr>\n",
              "    <tr>\n",
              "      <th>2009</th>\n",
              "      <td>48.2753</td>\n",
              "      <td>49.0259</td>\n",
              "      <td>48.2753</td>\n",
              "      <td>48.6122</td>\n",
              "      <td>2.107993e+07</td>\n",
              "    </tr>\n",
              "    <tr>\n",
              "      <th>2010</th>\n",
              "      <td>48.2143</td>\n",
              "      <td>48.2143</td>\n",
              "      <td>47.2329</td>\n",
              "      <td>47.5512</td>\n",
              "      <td>2.961840e+07</td>\n",
              "    </tr>\n",
              "    <tr>\n",
              "      <th>2011</th>\n",
              "      <td>48.8155</td>\n",
              "      <td>48.9040</td>\n",
              "      <td>46.9735</td>\n",
              "      <td>47.4804</td>\n",
              "      <td>3.611625e+07</td>\n",
              "    </tr>\n",
              "    <tr>\n",
              "      <th>2012</th>\n",
              "      <td>49.9581</td>\n",
              "      <td>50.1369</td>\n",
              "      <td>48.4845</td>\n",
              "      <td>48.7429</td>\n",
              "      <td>2.496834e+07</td>\n",
              "    </tr>\n",
              "    <tr>\n",
              "      <th>2013</th>\n",
              "      <td>50.4111</td>\n",
              "      <td>50.6861</td>\n",
              "      <td>49.9670</td>\n",
              "      <td>50.3059</td>\n",
              "      <td>1.564852e+07</td>\n",
              "    </tr>\n",
              "  </tbody>\n",
              "</table>\n",
              "<p>2014 rows × 5 columns</p>\n",
              "</div>"
            ],
            "text/plain": [
              "          Open      High       Low     Close        Volume\n",
              "0     132.8100  134.3300  132.4400  134.1000  9.292519e+06\n",
              "1     132.9300  133.2700  132.3100  133.2200  6.585228e+06\n",
              "2     131.8500  133.4100  131.0100  132.4600  8.827738e+06\n",
              "3     131.5700  132.2200  130.5500  131.7400  5.410991e+06\n",
              "4     130.5800  131.4400  129.6400  131.2800  5.091905e+06\n",
              "...        ...       ...       ...       ...           ...\n",
              "2009   48.2753   49.0259   48.2753   48.6122  2.107993e+07\n",
              "2010   48.2143   48.2143   47.2329   47.5512  2.961840e+07\n",
              "2011   48.8155   48.9040   46.9735   47.4804  3.611625e+07\n",
              "2012   49.9581   50.1369   48.4845   48.7429  2.496834e+07\n",
              "2013   50.4111   50.6861   49.9670   50.3059  1.564852e+07\n",
              "\n",
              "[2014 rows x 5 columns]"
            ]
          },
          "execution_count": 8,
          "metadata": {},
          "output_type": "execute_result"
        }
      ],
      "source": [
        "df"
      ]
    },
    {
      "cell_type": "code",
      "execution_count": 9,
      "metadata": {
        "colab": {
          "base_uri": "https://localhost:8080/",
          "height": 458
        },
        "id": "UG_FGvSlGXC3",
        "outputId": "2ca8580c-96a7-474a-d46b-435a351821af"
      },
      "outputs": [
        {
          "data": {
            "text/plain": [
              "0             NaN\n",
              "1             NaN\n",
              "2             NaN\n",
              "3             NaN\n",
              "4             NaN\n",
              "          ...    \n",
              "2009    49.436667\n",
              "2010    49.377171\n",
              "2011    49.316465\n",
              "2012    49.270830\n",
              "2013    49.237437\n",
              "Name: Close, Length: 2014, dtype: float64"
            ]
          },
          "execution_count": 9,
          "metadata": {},
          "output_type": "execute_result"
        }
      ],
      "source": [
        "# ma100 is created for finding the mean of the 100 values and displaying them.\n",
        "# for that rolling() function is used.\n",
        "\n",
        "ma100=df.Close.rolling(100).mean()\n",
        "ma100"
      ]
    },
    {
      "cell_type": "code",
      "execution_count": 10,
      "metadata": {
        "colab": {
          "base_uri": "https://localhost:8080/",
          "height": 621
        },
        "id": "-_mMtOTGGYwa",
        "outputId": "3381f1e9-3add-4fc5-cb64-aba768c59307"
      },
      "outputs": [
        {
          "data": {
            "image/png": "[encoded data removed]",
            "text/plain": [
              "<Figure size 1000x600 with 1 Axes>"
            ]
          },
          "metadata": {},
          "output_type": "display_data"
        }
      ],
      "source": [
        "import matplotlib.pyplot as plt\n",
        "\n",
        "plt.figure(figsize=(10,6))\n",
        "fig.patch.set_facecolor('#42A5F5')\n",
        "\n",
        "ax=plt.axes()\n",
        "ax.set_facecolor('#C7E1F4')\n",
        "\n",
        "plt.grid(True,linestyle='--',color='#BDBDBD')\n",
        "plt.tight_layout()\n",
        "\n",
        "plt.plot(df.Close, '#FF8F00', label='Openign Price')\n",
        "plt.plot(ma100,'g--',label='Mean (100 val)') # this is the mean of 100 values\n",
        "\n",
        "plt.legend()\n",
        "plt.xlabel('Date')\n",
        "plt.ylabel('Closing Price (USD)')\n",
        "plt.show()"
      ]
    },
    {
      "cell_type": "code",
      "execution_count": 11,
      "metadata": {
        "id": "0RhyVJnqGaWj"
      },
      "outputs": [],
      "source": [
        "ma200=df.Close.rolling(200).mean()\n",
        "ma50=df.Close.rolling(50).mean()\n",
        "ma75=df.Close.rolling(75).mean()\n",
        "ma150=df.Close.rolling(150).mean()"
      ]
    },
    {
      "cell_type": "code",
      "execution_count": 12,
      "metadata": {
        "colab": {
          "base_uri": "https://localhost:8080/",
          "height": 598
        },
        "id": "EvRw-YeJGcrZ",
        "outputId": "a49156cb-f3f4-434f-ef91-e257800f01f7"
      },
      "outputs": [
        {
          "data": {
            "text/plain": [
              "Text(0, 0.5, 'Opening Price (USD)')"
            ]
          },
          "execution_count": 12,
          "metadata": {},
          "output_type": "execute_result"
        },
        {
          "data": {
            "text/plain": [
              "<Figure size 1200x600 with 0 Axes>"
            ]
          },
          "metadata": {},
          "output_type": "display_data"
        },
        {
          "data": {
            "image/png": "[encoded data removed]",
            "text/plain": [
              "<Figure size 1200x600 with 1 Axes>"
            ]
          },
          "metadata": {},
          "output_type": "display_data"
        }
      ],
      "source": [
        "import matplotlib.pyplot as plt\n",
        "\n",
        "plt.figure(figsize=(12,6))\n",
        "\n",
        "ma100=df.Close.rolling(100).mean()\n",
        "ma100\n",
        "\n",
        "fig=plt.figure(figsize=(12,6))\n",
        "fig.patch.set_facecolor('#A59DDF')\n",
        "\n",
        "ax=plt.axes()\n",
        "ax.set_facecolor('#211970')\n",
        "\n",
        "plt.grid(True,linestyle='--',color='#626784')\n",
        "plt.xticks(rotation=45)\n",
        "\n",
        "plt.plot(df.Close,'#A720C4',label='Opening Price')\n",
        "plt.plot(ma50,'y',label='Mean (50 val)')\n",
        "plt.plot(ma75,'b',label='Mean (75 val)')\n",
        "plt.plot(ma100,'g',label='Mean (100 val)') # this is the mean of 100 values\n",
        "plt.plot(ma200,'r',label='Mean (200 val)') # this is the mean of 200 values\n",
        "\n",
        "plt.legend()\n",
        "plt.xlabel('Date')\n",
        "plt.ylabel('Opening Price (USD)')"
      ]
    },
    {
      "cell_type": "code",
      "execution_count": 13,
      "metadata": {
        "colab": {
          "base_uri": "https://localhost:8080/"
        },
        "id": "VUYMtUqkGg9b",
        "outputId": "b1b963bb-e999-482c-a5c3-a4a5a9412cb2"
      },
      "outputs": [
        {
          "data": {
            "text/plain": [
              "(2014, 5)"
            ]
          },
          "execution_count": 13,
          "metadata": {},
          "output_type": "execute_result"
        }
      ],
      "source": [
        "df.shape"
      ]
    },
    {
      "cell_type": "code",
      "execution_count": 14,
      "metadata": {
        "colab": {
          "base_uri": "https://localhost:8080/"
        },
        "id": "egA11-0FGkip",
        "outputId": "7ee8356f-2ea6-4d9d-a4f6-2bc4b75c9235"
      },
      "outputs": [
        {
          "name": "stdout",
          "output_type": "stream",
          "text": [
            "Used data for training:  (1409, 1)\n",
            "Used data for testing:  (605, 1)\n"
          ]
        }
      ],
      "source": [
        "# splitting the data into training and testing\n",
        "import pandas as pd\n",
        "\n",
        "data_training = pd.DataFrame(df['Close'][0:int(len(df)*0.70)])\n",
        "data_testing = pd.DataFrame(df['Close'][int(len(df)*0.70):int(len(df))])\n",
        "\n",
        "print(\"Used data for training: \", data_training.shape)\n",
        "print(\"Used data for testing: \", data_testing.shape)"
      ]
    },
    {
      "cell_type": "code",
      "execution_count": 15,
      "metadata": {
        "colab": {
          "base_uri": "https://localhost:8080/",
          "height": 206
        },
        "id": "zp5Q3pJrGmiq",
        "outputId": "d692af86-8f11-4d2c-c7a1-4549d030011c"
      },
      "outputs": [
        {
          "data": {
            "text/html": [
              "<div>\n",
              "<style scoped>\n",
              "    .dataframe tbody tr th:only-of-type {\n",
              "        vertical-align: middle;\n",
              "    }\n",
              "\n",
              "    .dataframe tbody tr th {\n",
              "        vertical-align: top;\n",
              "    }\n",
              "\n",
              "    .dataframe thead th {\n",
              "        text-align: right;\n",
              "    }\n",
              "</style>\n",
              "<table border=\"1\" class=\"dataframe\">\n",
              "  <thead>\n",
              "    <tr style=\"text-align: right;\">\n",
              "      <th></th>\n",
              "      <th>Close</th>\n",
              "    </tr>\n",
              "  </thead>\n",
              "  <tbody>\n",
              "    <tr>\n",
              "      <th>0</th>\n",
              "      <td>134.10</td>\n",
              "    </tr>\n",
              "    <tr>\n",
              "      <th>1</th>\n",
              "      <td>133.22</td>\n",
              "    </tr>\n",
              "    <tr>\n",
              "      <th>2</th>\n",
              "      <td>132.46</td>\n",
              "    </tr>\n",
              "    <tr>\n",
              "      <th>3</th>\n",
              "      <td>131.74</td>\n",
              "    </tr>\n",
              "    <tr>\n",
              "      <th>4</th>\n",
              "      <td>131.28</td>\n",
              "    </tr>\n",
              "  </tbody>\n",
              "</table>\n",
              "</div>"
            ],
            "text/plain": [
              "    Close\n",
              "0  134.10\n",
              "1  133.22\n",
              "2  132.46\n",
              "3  131.74\n",
              "4  131.28"
            ]
          },
          "execution_count": 15,
          "metadata": {},
          "output_type": "execute_result"
        }
      ],
      "source": [
        "data_training.head()"
      ]
    },
    {
      "cell_type": "code",
      "execution_count": 16,
      "metadata": {
        "colab": {
          "base_uri": "https://localhost:8080/",
          "height": 206
        },
        "id": "QSW9UigXGn-f",
        "outputId": "00af63a4-62fd-482c-a79e-43ffaf2ed4a7"
      },
      "outputs": [
        {
          "data": {
            "text/html": [
              "<div>\n",
              "<style scoped>\n",
              "    .dataframe tbody tr th:only-of-type {\n",
              "        vertical-align: middle;\n",
              "    }\n",
              "\n",
              "    .dataframe tbody tr th {\n",
              "        vertical-align: top;\n",
              "    }\n",
              "\n",
              "    .dataframe thead th {\n",
              "        text-align: right;\n",
              "    }\n",
              "</style>\n",
              "<table border=\"1\" class=\"dataframe\">\n",
              "  <thead>\n",
              "    <tr style=\"text-align: right;\">\n",
              "      <th></th>\n",
              "      <th>Close</th>\n",
              "    </tr>\n",
              "  </thead>\n",
              "  <tbody>\n",
              "    <tr>\n",
              "      <th>1409</th>\n",
              "      <td>73.0102</td>\n",
              "    </tr>\n",
              "    <tr>\n",
              "      <th>1410</th>\n",
              "      <td>73.0024</td>\n",
              "    </tr>\n",
              "    <tr>\n",
              "      <th>1411</th>\n",
              "      <td>73.3138</td>\n",
              "    </tr>\n",
              "    <tr>\n",
              "      <th>1412</th>\n",
              "      <td>73.3520</td>\n",
              "    </tr>\n",
              "    <tr>\n",
              "      <th>1413</th>\n",
              "      <td>72.4482</td>\n",
              "    </tr>\n",
              "  </tbody>\n",
              "</table>\n",
              "</div>"
            ],
            "text/plain": [
              "        Close\n",
              "1409  73.0102\n",
              "1410  73.0024\n",
              "1411  73.3138\n",
              "1412  73.3520\n",
              "1413  72.4482"
            ]
          },
          "execution_count": 16,
          "metadata": {},
          "output_type": "execute_result"
        }
      ],
      "source": [
        "data_testing.head()"
      ]
    },
    {
      "cell_type": "code",
      "execution_count": 17,
      "metadata": {
        "colab": {
          "base_uri": "https://localhost:8080/"
        },
        "id": "QUOkXv2mGqN3",
        "outputId": "ac083bc1-958d-40c0-c1aa-9377c49ca40b"
      },
      "outputs": [
        {
          "data": {
            "text/plain": [
              "array([[0.66315807],\n",
              "       [0.65401605],\n",
              "       [0.64612067],\n",
              "       ...,\n",
              "       [0.00807407],\n",
              "       [0.        ],\n",
              "       [0.01556429]])"
            ]
          },
          "execution_count": 17,
          "metadata": {},
          "output_type": "execute_result"
        }
      ],
      "source": [
        "from sklearn.preprocessing import MinMaxScaler\n",
        "scaler = MinMaxScaler(feature_range=(0,1))\n",
        "\n",
        "data_training_array = scaler.fit_transform(data_training)\n",
        "data_training_array"
      ]
    },
    {
      "cell_type": "code",
      "execution_count": 18,
      "metadata": {
        "id": "xdoWv08nGrgo"
      },
      "outputs": [],
      "source": [
        "import numpy as np\n",
        "\n",
        "# The data is dependant on the previous result. (ma100) and (ma200)\n",
        "# So, to calculate the next day value we train the following array.\n",
        "# 100 days are x_train and 101 day is y_train and it goes on changing.\n",
        "\n",
        "x_train = []\n",
        "y_train = []\n",
        "\n",
        "\n",
        "for i in range(100,data_training_array.shape[0]):\n",
        "  x_train.append(data_training_array[i-100: i])\n",
        "  y_train.append(data_training_array[i, 0])\n",
        "\n",
        "\n",
        "x_train\n",
        "\n",
        "# Now, converting x_train into numpy value, so that it can be provided to LSTM.\n",
        "x_train,y_train = np.array(x_train), np.array(y_train)"
      ]
    },
    {
      "cell_type": "code",
      "execution_count": 19,
      "metadata": {
        "colab": {
          "base_uri": "https://localhost:8080/"
        },
        "id": "peb5Uqz7G8wj",
        "outputId": "ab9da0a7-860e-4f66-a83f-2ecc8b8b70d7"
      },
      "outputs": [
        {
          "name": "stdout",
          "output_type": "stream",
          "text": [
            "Requirement already satisfied: tensorflow in c:\\users\\sinha\\appdata\\local\\programs\\python\\python312\\lib\\site-packages (2.17.0)\n",
            "Requirement already satisfied: tensorflow-intel==2.17.0 in c:\\users\\sinha\\appdata\\local\\programs\\python\\python312\\lib\\site-packages (from tensorflow) (2.17.0)\n",
            "Requirement already satisfied: absl-py>=1.0.0 in c:\\users\\sinha\\appdata\\local\\programs\\python\\python312\\lib\\site-packages (from tensorflow-intel==2.17.0->tensorflow) (2.1.0)\n",
            "Requirement already satisfied: astunparse>=1.6.0 in c:\\users\\sinha\\appdata\\local\\programs\\python\\python312\\lib\\site-packages (from tensorflow-intel==2.17.0->tensorflow) (1.6.3)\n",
            "Requirement already satisfied: flatbuffers>=24.3.25 in c:\\users\\sinha\\appdata\\local\\programs\\python\\python312\\lib\\site-packages (from tensorflow-intel==2.17.0->tensorflow) (24.3.25)\n",
            "Requirement already satisfied: gast!=0.5.0,!=0.5.1,!=0.5.2,>=0.2.1 in c:\\users\\sinha\\appdata\\local\\programs\\python\\python312\\lib\\site-packages (from tensorflow-intel==2.17.0->tensorflow) (0.5.4)\n",
            "Requirement already satisfied: google-pasta>=0.1.1 in c:\\users\\sinha\\appdata\\local\\programs\\python\\python312\\lib\\site-packages (from tensorflow-intel==2.17.0->tensorflow) (0.2.0)\n",
            "Requirement already satisfied: h5py>=3.10.0 in c:\\users\\sinha\\appdata\\local\\programs\\python\\python312\\lib\\site-packages (from tensorflow-intel==2.17.0->tensorflow) (3.10.0)\n",
            "Requirement already satisfied: libclang>=13.0.0 in c:\\users\\sinha\\appdata\\local\\programs\\python\\python312\\lib\\site-packages (from tensorflow-intel==2.17.0->tensorflow) (18.1.1)\n",
            "Requirement already satisfied: ml-dtypes<0.5.0,>=0.3.1 in c:\\users\\sinha\\appdata\\local\\programs\\python\\python312\\lib\\site-packages (from tensorflow-intel==2.17.0->tensorflow) (0.3.2)\n",
            "Requirement already satisfied: opt-einsum>=2.3.2 in c:\\users\\sinha\\appdata\\local\\programs\\python\\python312\\lib\\site-packages (from tensorflow-intel==2.17.0->tensorflow) (3.3.0)\n",
            "Requirement already satisfied: packaging in c:\\users\\sinha\\appdata\\local\\programs\\python\\python312\\lib\\site-packages (from tensorflow-intel==2.17.0->tensorflow) (20.9)\n",
            "Requirement already satisfied: protobuf!=4.21.0,!=4.21.1,!=4.21.2,!=4.21.3,!=4.21.4,!=4.21.5,<5.0.0dev,>=3.20.3 in c:\\users\\sinha\\appdata\\local\\programs\\python\\python312\\lib\\site-packages (from tensorflow-intel==2.17.0->tensorflow) (4.25.3)\n",
            "Requirement already satisfied: requests<3,>=2.21.0 in c:\\users\\sinha\\appdata\\local\\programs\\python\\python312\\lib\\site-packages (from tensorflow-intel==2.17.0->tensorflow) (2.31.0)\n",
            "Requirement already satisfied: setuptools in c:\\users\\sinha\\appdata\\local\\programs\\python\\python312\\lib\\site-packages (from tensorflow-intel==2.17.0->tensorflow) (69.1.1)\n",
            "Requirement already satisfied: six>=1.12.0 in c:\\users\\sinha\\appdata\\local\\programs\\python\\python312\\lib\\site-packages (from tensorflow-intel==2.17.0->tensorflow) (1.16.0)\n",
            "Requirement already satisfied: termcolor>=1.1.0 in c:\\users\\sinha\\appdata\\local\\programs\\python\\python312\\lib\\site-packages (from tensorflow-intel==2.17.0->tensorflow) (2.4.0)\n",
            "Requirement already satisfied: typing-extensions>=3.6.6 in c:\\users\\sinha\\appdata\\local\\programs\\python\\python312\\lib\\site-packages (from tensorflow-intel==2.17.0->tensorflow) (4.12.2)\n",
            "Requirement already satisfied: wrapt>=1.11.0 in c:\\users\\sinha\\appdata\\local\\programs\\python\\python312\\lib\\site-packages (from tensorflow-intel==2.17.0->tensorflow) (1.16.0)\n",
            "Requirement already satisfied: grpcio<2.0,>=1.24.3 in c:\\users\\sinha\\appdata\\local\\programs\\python\\python312\\lib\\site-packages (from tensorflow-intel==2.17.0->tensorflow) (1.62.1)\n",
            "Requirement already satisfied: tensorboard<2.18,>=2.17 in c:\\users\\sinha\\appdata\\local\\programs\\python\\python312\\lib\\site-packages (from tensorflow-intel==2.17.0->tensorflow) (2.17.0)\n",
            "Requirement already satisfied: keras>=3.2.0 in c:\\users\\sinha\\appdata\\local\\programs\\python\\python312\\lib\\site-packages (from tensorflow-intel==2.17.0->tensorflow) (3.4.1)\n",
            "Requirement already satisfied: numpy<2.0.0,>=1.26.0 in c:\\users\\sinha\\appdata\\local\\programs\\python\\python312\\lib\\site-packages (from tensorflow-intel==2.17.0->tensorflow) (1.26.4)\n",
            "Requirement already satisfied: wheel<1.0,>=0.23.0 in c:\\users\\sinha\\appdata\\local\\programs\\python\\python312\\lib\\site-packages (from astunparse>=1.6.0->tensorflow-intel==2.17.0->tensorflow) (0.43.0)\n",
            "Requirement already satisfied: rich in c:\\users\\sinha\\appdata\\local\\programs\\python\\python312\\lib\\site-packages (from keras>=3.2.0->tensorflow-intel==2.17.0->tensorflow) (13.7.1)\n",
            "Requirement already satisfied: namex in c:\\users\\sinha\\appdata\\local\\programs\\python\\python312\\lib\\site-packages (from keras>=3.2.0->tensorflow-intel==2.17.0->tensorflow) (0.0.7)\n",
            "Requirement already satisfied: optree in c:\\users\\sinha\\appdata\\local\\programs\\python\\python312\\lib\\site-packages (from keras>=3.2.0->tensorflow-intel==2.17.0->tensorflow) (0.11.0)\n",
            "Requirement already satisfied: charset-normalizer<4,>=2 in c:\\users\\sinha\\appdata\\local\\programs\\python\\python312\\lib\\site-packages (from requests<3,>=2.21.0->tensorflow-intel==2.17.0->tensorflow) (3.3.2)\n",
            "Requirement already satisfied: idna<4,>=2.5 in c:\\users\\sinha\\appdata\\local\\programs\\python\\python312\\lib\\site-packages (from requests<3,>=2.21.0->tensorflow-intel==2.17.0->tensorflow) (3.6)\n",
            "Requirement already satisfied: urllib3<3,>=1.21.1 in c:\\users\\sinha\\appdata\\local\\programs\\python\\python312\\lib\\site-packages (from requests<3,>=2.21.0->tensorflow-intel==2.17.0->tensorflow) (2.2.1)\n",
            "Requirement already satisfied: certifi>=2017.4.17 in c:\\users\\sinha\\appdata\\local\\programs\\python\\python312\\lib\\site-packages (from requests<3,>=2.21.0->tensorflow-intel==2.17.0->tensorflow) (2024.2.2)\n",
            "Requirement already satisfied: markdown>=2.6.8 in c:\\users\\sinha\\appdata\\local\\programs\\python\\python312\\lib\\site-packages (from tensorboard<2.18,>=2.17->tensorflow-intel==2.17.0->tensorflow) (3.6)\n",
            "Requirement already satisfied: tensorboard-data-server<0.8.0,>=0.7.0 in c:\\users\\sinha\\appdata\\local\\programs\\python\\python312\\lib\\site-packages (from tensorboard<2.18,>=2.17->tensorflow-intel==2.17.0->tensorflow) (0.7.2)\n",
            "Requirement already satisfied: werkzeug>=1.0.1 in c:\\users\\sinha\\appdata\\local\\programs\\python\\python312\\lib\\site-packages (from tensorboard<2.18,>=2.17->tensorflow-intel==2.17.0->tensorflow) (3.0.2)\n",
            "Requirement already satisfied: pyparsing>=2.0.2 in c:\\users\\sinha\\appdata\\local\\programs\\python\\python312\\lib\\site-packages (from packaging->tensorflow-intel==2.17.0->tensorflow) (3.1.2)\n",
            "Requirement already satisfied: MarkupSafe>=2.1.1 in c:\\users\\sinha\\appdata\\local\\programs\\python\\python312\\lib\\site-packages (from werkzeug>=1.0.1->tensorboard<2.18,>=2.17->tensorflow-intel==2.17.0->tensorflow) (2.1.5)\n",
            "Requirement already satisfied: markdown-it-py>=2.2.0 in c:\\users\\sinha\\appdata\\local\\programs\\python\\python312\\lib\\site-packages (from rich->keras>=3.2.0->tensorflow-intel==2.17.0->tensorflow) (3.0.0)\n",
            "Requirement already satisfied: pygments<3.0.0,>=2.13.0 in c:\\users\\sinha\\appdata\\local\\programs\\python\\python312\\lib\\site-packages (from rich->keras>=3.2.0->tensorflow-intel==2.17.0->tensorflow) (2.17.2)\n",
            "Requirement already satisfied: mdurl~=0.1 in c:\\users\\sinha\\appdata\\local\\programs\\python\\python312\\lib\\site-packages (from markdown-it-py>=2.2.0->rich->keras>=3.2.0->tensorflow-intel==2.17.0->tensorflow) (0.1.2)\n"
          ]
        },
        {
          "name": "stderr",
          "output_type": "stream",
          "text": [
            "ERROR: Could not find a version that satisfies the requirement tensorflow-addons==0.17.1 (from versions: none)\n",
            "ERROR: No matching distribution found for tensorflow-addons==0.17.1\n"
          ]
        },
        {
          "name": "stdout",
          "output_type": "stream",
          "text": [
            "Requirement already satisfied: tensorflow in c:\\users\\sinha\\appdata\\local\\programs\\python\\python312\\lib\\site-packages (2.17.0)\n",
            "Requirement already satisfied: tensorflow-intel==2.17.0 in c:\\users\\sinha\\appdata\\local\\programs\\python\\python312\\lib\\site-packages (from tensorflow) (2.17.0)\n",
            "Requirement already satisfied: absl-py>=1.0.0 in c:\\users\\sinha\\appdata\\local\\programs\\python\\python312\\lib\\site-packages (from tensorflow-intel==2.17.0->tensorflow) (2.1.0)\n",
            "Requirement already satisfied: astunparse>=1.6.0 in c:\\users\\sinha\\appdata\\local\\programs\\python\\python312\\lib\\site-packages (from tensorflow-intel==2.17.0->tensorflow) (1.6.3)\n",
            "Requirement already satisfied: flatbuffers>=24.3.25 in c:\\users\\sinha\\appdata\\local\\programs\\python\\python312\\lib\\site-packages (from tensorflow-intel==2.17.0->tensorflow) (24.3.25)\n",
            "Requirement already satisfied: gast!=0.5.0,!=0.5.1,!=0.5.2,>=0.2.1 in c:\\users\\sinha\\appdata\\local\\programs\\python\\python312\\lib\\site-packages (from tensorflow-intel==2.17.0->tensorflow) (0.5.4)\n",
            "Requirement already satisfied: google-pasta>=0.1.1 in c:\\users\\sinha\\appdata\\local\\programs\\python\\python312\\lib\\site-packages (from tensorflow-intel==2.17.0->tensorflow) (0.2.0)\n",
            "Requirement already satisfied: h5py>=3.10.0 in c:\\users\\sinha\\appdata\\local\\programs\\python\\python312\\lib\\site-packages (from tensorflow-intel==2.17.0->tensorflow) (3.10.0)\n",
            "Requirement already satisfied: libclang>=13.0.0 in c:\\users\\sinha\\appdata\\local\\programs\\python\\python312\\lib\\site-packages (from tensorflow-intel==2.17.0->tensorflow) (18.1.1)\n",
            "Requirement already satisfied: ml-dtypes<0.5.0,>=0.3.1 in c:\\users\\sinha\\appdata\\local\\programs\\python\\python312\\lib\\site-packages (from tensorflow-intel==2.17.0->tensorflow) (0.3.2)\n",
            "Requirement already satisfied: opt-einsum>=2.3.2 in c:\\users\\sinha\\appdata\\local\\programs\\python\\python312\\lib\\site-packages (from tensorflow-intel==2.17.0->tensorflow) (3.3.0)\n",
            "Requirement already satisfied: packaging in c:\\users\\sinha\\appdata\\local\\programs\\python\\python312\\lib\\site-packages (from tensorflow-intel==2.17.0->tensorflow) (20.9)\n",
            "Requirement already satisfied: protobuf!=4.21.0,!=4.21.1,!=4.21.2,!=4.21.3,!=4.21.4,!=4.21.5,<5.0.0dev,>=3.20.3 in c:\\users\\sinha\\appdata\\local\\programs\\python\\python312\\lib\\site-packages (from tensorflow-intel==2.17.0->tensorflow) (4.25.3)\n",
            "Requirement already satisfied: requests<3,>=2.21.0 in c:\\users\\sinha\\appdata\\local\\programs\\python\\python312\\lib\\site-packages (from tensorflow-intel==2.17.0->tensorflow) (2.31.0)\n",
            "Requirement already satisfied: setuptools in c:\\users\\sinha\\appdata\\local\\programs\\python\\python312\\lib\\site-packages (from tensorflow-intel==2.17.0->tensorflow) (69.1.1)\n",
            "Requirement already satisfied: six>=1.12.0 in c:\\users\\sinha\\appdata\\local\\programs\\python\\python312\\lib\\site-packages (from tensorflow-intel==2.17.0->tensorflow) (1.16.0)\n",
            "Requirement already satisfied: termcolor>=1.1.0 in c:\\users\\sinha\\appdata\\local\\programs\\python\\python312\\lib\\site-packages (from tensorflow-intel==2.17.0->tensorflow) (2.4.0)\n",
            "Requirement already satisfied: typing-extensions>=3.6.6 in c:\\users\\sinha\\appdata\\local\\programs\\python\\python312\\lib\\site-packages (from tensorflow-intel==2.17.0->tensorflow) (4.12.2)\n",
            "Requirement already satisfied: wrapt>=1.11.0 in c:\\users\\sinha\\appdata\\local\\programs\\python\\python312\\lib\\site-packages (from tensorflow-intel==2.17.0->tensorflow) (1.16.0)\n",
            "Requirement already satisfied: grpcio<2.0,>=1.24.3 in c:\\users\\sinha\\appdata\\local\\programs\\python\\python312\\lib\\site-packages (from tensorflow-intel==2.17.0->tensorflow) (1.62.1)\n",
            "Requirement already satisfied: tensorboard<2.18,>=2.17 in c:\\users\\sinha\\appdata\\local\\programs\\python\\python312\\lib\\site-packages (from tensorflow-intel==2.17.0->tensorflow) (2.17.0)\n",
            "Requirement already satisfied: keras>=3.2.0 in c:\\users\\sinha\\appdata\\local\\programs\\python\\python312\\lib\\site-packages (from tensorflow-intel==2.17.0->tensorflow) (3.4.1)\n",
            "Requirement already satisfied: numpy<2.0.0,>=1.26.0 in c:\\users\\sinha\\appdata\\local\\programs\\python\\python312\\lib\\site-packages (from tensorflow-intel==2.17.0->tensorflow) (1.26.4)\n",
            "Requirement already satisfied: wheel<1.0,>=0.23.0 in c:\\users\\sinha\\appdata\\local\\programs\\python\\python312\\lib\\site-packages (from astunparse>=1.6.0->tensorflow-intel==2.17.0->tensorflow) (0.43.0)\n",
            "Requirement already satisfied: rich in c:\\users\\sinha\\appdata\\local\\programs\\python\\python312\\lib\\site-packages (from keras>=3.2.0->tensorflow-intel==2.17.0->tensorflow) (13.7.1)\n",
            "Requirement already satisfied: namex in c:\\users\\sinha\\appdata\\local\\programs\\python\\python312\\lib\\site-packages (from keras>=3.2.0->tensorflow-intel==2.17.0->tensorflow) (0.0.7)\n",
            "Requirement already satisfied: optree in c:\\users\\sinha\\appdata\\local\\programs\\python\\python312\\lib\\site-packages (from keras>=3.2.0->tensorflow-intel==2.17.0->tensorflow) (0.11.0)\n",
            "Requirement already satisfied: charset-normalizer<4,>=2 in c:\\users\\sinha\\appdata\\local\\programs\\python\\python312\\lib\\site-packages (from requests<3,>=2.21.0->tensorflow-intel==2.17.0->tensorflow) (3.3.2)\n",
            "Requirement already satisfied: idna<4,>=2.5 in c:\\users\\sinha\\appdata\\local\\programs\\python\\python312\\lib\\site-packages (from requests<3,>=2.21.0->tensorflow-intel==2.17.0->tensorflow) (3.6)\n",
            "Requirement already satisfied: urllib3<3,>=1.21.1 in c:\\users\\sinha\\appdata\\local\\programs\\python\\python312\\lib\\site-packages (from requests<3,>=2.21.0->tensorflow-intel==2.17.0->tensorflow) (2.2.1)\n",
            "Requirement already satisfied: certifi>=2017.4.17 in c:\\users\\sinha\\appdata\\local\\programs\\python\\python312\\lib\\site-packages (from requests<3,>=2.21.0->tensorflow-intel==2.17.0->tensorflow) (2024.2.2)\n",
            "Requirement already satisfied: markdown>=2.6.8 in c:\\users\\sinha\\appdata\\local\\programs\\python\\python312\\lib\\site-packages (from tensorboard<2.18,>=2.17->tensorflow-intel==2.17.0->tensorflow) (3.6)\n",
            "Requirement already satisfied: tensorboard-data-server<0.8.0,>=0.7.0 in c:\\users\\sinha\\appdata\\local\\programs\\python\\python312\\lib\\site-packages (from tensorboard<2.18,>=2.17->tensorflow-intel==2.17.0->tensorflow) (0.7.2)\n",
            "Requirement already satisfied: werkzeug>=1.0.1 in c:\\users\\sinha\\appdata\\local\\programs\\python\\python312\\lib\\site-packages (from tensorboard<2.18,>=2.17->tensorflow-intel==2.17.0->tensorflow) (3.0.2)\n",
            "Requirement already satisfied: pyparsing>=2.0.2 in c:\\users\\sinha\\appdata\\local\\programs\\python\\python312\\lib\\site-packages (from packaging->tensorflow-intel==2.17.0->tensorflow) (3.1.2)\n",
            "Requirement already satisfied: MarkupSafe>=2.1.1 in c:\\users\\sinha\\appdata\\local\\programs\\python\\python312\\lib\\site-packages (from werkzeug>=1.0.1->tensorboard<2.18,>=2.17->tensorflow-intel==2.17.0->tensorflow) (2.1.5)\n",
            "Requirement already satisfied: markdown-it-py>=2.2.0 in c:\\users\\sinha\\appdata\\local\\programs\\python\\python312\\lib\\site-packages (from rich->keras>=3.2.0->tensorflow-intel==2.17.0->tensorflow) (3.0.0)\n",
            "Requirement already satisfied: pygments<3.0.0,>=2.13.0 in c:\\users\\sinha\\appdata\\local\\programs\\python\\python312\\lib\\site-packages (from rich->keras>=3.2.0->tensorflow-intel==2.17.0->tensorflow) (2.17.2)\n",
            "Requirement already satisfied: mdurl~=0.1 in c:\\users\\sinha\\appdata\\local\\programs\\python\\python312\\lib\\site-packages (from markdown-it-py>=2.2.0->rich->keras>=3.2.0->tensorflow-intel==2.17.0->tensorflow) (0.1.2)\n"
          ]
        },
        {
          "name": "stderr",
          "output_type": "stream",
          "text": [
            "ERROR: Could not find a version that satisfies the requirement tensorflow-addons (from versions: none)\n",
            "ERROR: No matching distribution found for tensorflow-addons\n"
          ]
        }
      ],
      "source": [
        "!pip install tensorflow\n",
        "!pip install tensorflow-addons==0.17.1\n",
        "\n",
        "!pip install --upgrade tensorflow\n",
        "!pip install --upgrade tensorflow-addons"
      ]
    },
    {
      "cell_type": "code",
      "execution_count": 20,
      "metadata": {
        "id": "vmNnI8vNG_cv"
      },
      "outputs": [],
      "source": [
        "import tensorflow as tf\n",
        "\n",
        "# Use the recommended import path for LSTM\n",
        "from tensorflow.keras.layers import Dense, Dropout, LSTM\n",
        "from tensorflow.keras.models import Sequential\n",
        "from tensorflow.keras.layers import BatchNormalization\n",
        "from tensorflow.keras.callbacks import TensorBoard\n",
        "from tensorflow.keras.callbacks import ModelCheckpoint\n",
        "from tensorflow.keras.optimizers import Adam\n",
        "import tensorflow as tf"
      ]
    },
    {
      "cell_type": "code",
      "execution_count": 21,
      "metadata": {
        "colab": {
          "base_uri": "https://localhost:8080/"
        },
        "id": "0q59FGqEHAt7",
        "outputId": "56337697-5238-4610-b56d-bdc11f2e113a"
      },
      "outputs": [
        {
          "name": "stderr",
          "output_type": "stream",
          "text": [
            "c:\\Users\\sinha\\AppData\\Local\\Programs\\Python\\Python312\\Lib\\site-packages\\keras\\src\\layers\\rnn\\rnn.py:204: UserWarning: Do not pass an `input_shape`/`input_dim` argument to a layer. When using Sequential models, prefer using an `Input(shape)` object as the first layer in the model instead.\n",
            "  super().__init__(**kwargs)\n"
          ]
        }
      ],
      "source": [
        "\n",
        "# Use the recommended import path for LSTM\n",
        "from tensorflow.keras.layers import Dense, Dropout, LSTM, BatchNormalization\n",
        "from tensorflow.keras.callbacks import TensorBoard\n",
        "from tensorflow.keras.callbacks import ModelCheckpoint\n",
        "from tensorflow.keras.optimizers import Adam\n",
        "from tensorflow.keras.initializers import Orthogonal\n",
        "\n",
        "# ... rest of your code ...\n",
        "import tensorflow as tf\n",
        "\n",
        "\n",
        "model = tf.keras.Sequential()\n",
        "model.add(LSTM(units=50,\n",
        "               activation ='relu',\n",
        "               return_sequences = True,\n",
        "               input_shape=(x_train.shape[1],1),\n",
        "                recurrent_initializer=\"orthogonal\"\n",
        "               )\n",
        ")\n",
        "model.add(Dropout(0.2))\n",
        "\n",
        "\n",
        "# Second Layer\n",
        "model.add(LSTM(units=60,\n",
        "               activation ='relu',\n",
        "               return_sequences = True,\n",
        "               recurrent_initializer=\"orthogonal\"\n",
        "               )\n",
        ")\n",
        "model.add(Dropout(0.3))\n",
        "\n",
        "\n",
        "\n",
        "model.add(LSTM(units=80,\n",
        "               activation ='relu',\n",
        "               return_sequences = True,\n",
        "               recurrent_initializer=\"orthogonal\"\n",
        "               )\n",
        ")\n",
        "model.add(Dropout(0.4))\n",
        "\n",
        "\n",
        "\n",
        "model.add(LSTM(units=120,\n",
        "               activation ='relu',\n",
        "               recurrent_initializer=\"orthogonal\"\n",
        "               )\n",
        ")\n",
        "model.add(Dropout(0.5))\n",
        "\n",
        "\n",
        "\n",
        "# Dense Layer - to connect all the layers\n",
        "# model.add(Dense(units=1))\n",
        "model.add(tf.keras.layers.Dense(units=1, kernel_initializer=Orthogonal(gain=1.0, seed=None)))\n",
        "\n",
        "# Set Optimizer\n",
        "opt = Adam(learning_rate=0.001, beta_1=0.9, beta_2=0.999, epsilon=1e-07)\n"
      ]
    },
    {
      "cell_type": "code",
      "execution_count": 22,
      "metadata": {
        "colab": {
          "base_uri": "https://localhost:8080/",
          "height": 405
        },
        "id": "nJMjacjMHJ7o",
        "outputId": "e60e9fd3-2eb5-459a-9b96-10275abeb3f6"
      },
      "outputs": [
        {
          "data": {
            "text/html": [
              "<pre style=\"white-space:pre;overflow-x:auto;line-height:normal;font-family:Menlo,'DejaVu Sans Mono',consolas,'Courier New',monospace\"><span style=\"font-weight: bold\">Model: \"sequential\"</span>\n",
              "</pre>\n"
            ],
            "text/plain": [
              "\u001b[1mModel: \"sequential\"\u001b[0m\n"
            ]
          },
          "metadata": {},
          "output_type": "display_data"
        },
        {
          "data": {
            "text/html": [
              "<pre style=\"white-space:pre;overflow-x:auto;line-height:normal;font-family:Menlo,'DejaVu Sans Mono',consolas,'Courier New',monospace\">┏━━━━━━━━━━━━━━━━━━━━━━━━━━━━━━━━━┳━━━━━━━━━━━━━━━━━━━━━━━━┳━━━━━━━━━━━━━━━┓\n",
              "┃<span style=\"font-weight: bold\"> Layer (type)                    </span>┃<span style=\"font-weight: bold\"> Output Shape           </span>┃<span style=\"font-weight: bold\">       Param # </span>┃\n",
              "┡━━━━━━━━━━━━━━━━━━━━━━━━━━━━━━━━━╇━━━━━━━━━━━━━━━━━━━━━━━━╇━━━━━━━━━━━━━━━┩\n",
              "│ lstm (<span style=\"color: #0087ff; text-decoration-color: #0087ff\">LSTM</span>)                     │ (<span style=\"color: #00d7ff; text-decoration-color: #00d7ff\">None</span>, <span style=\"color: #00af00; text-decoration-color: #00af00\">100</span>, <span style=\"color: #00af00; text-decoration-color: #00af00\">50</span>)        │        <span style=\"color: #00af00; text-decoration-color: #00af00\">10,400</span> │\n",
              "├─────────────────────────────────┼────────────────────────┼───────────────┤\n",
              "│ dropout (<span style=\"color: #0087ff; text-decoration-color: #0087ff\">Dropout</span>)               │ (<span style=\"color: #00d7ff; text-decoration-color: #00d7ff\">None</span>, <span style=\"color: #00af00; text-decoration-color: #00af00\">100</span>, <span style=\"color: #00af00; text-decoration-color: #00af00\">50</span>)        │             <span style=\"color: #00af00; text-decoration-color: #00af00\">0</span> │\n",
              "├─────────────────────────────────┼────────────────────────┼───────────────┤\n",
              "│ lstm_1 (<span style=\"color: #0087ff; text-decoration-color: #0087ff\">LSTM</span>)                   │ (<span style=\"color: #00d7ff; text-decoration-color: #00d7ff\">None</span>, <span style=\"color: #00af00; text-decoration-color: #00af00\">100</span>, <span style=\"color: #00af00; text-decoration-color: #00af00\">60</span>)        │        <span style=\"color: #00af00; text-decoration-color: #00af00\">26,640</span> │\n",
              "├─────────────────────────────────┼────────────────────────┼───────────────┤\n",
              "│ dropout_1 (<span style=\"color: #0087ff; text-decoration-color: #0087ff\">Dropout</span>)             │ (<span style=\"color: #00d7ff; text-decoration-color: #00d7ff\">None</span>, <span style=\"color: #00af00; text-decoration-color: #00af00\">100</span>, <span style=\"color: #00af00; text-decoration-color: #00af00\">60</span>)        │             <span style=\"color: #00af00; text-decoration-color: #00af00\">0</span> │\n",
              "├─────────────────────────────────┼────────────────────────┼───────────────┤\n",
              "│ lstm_2 (<span style=\"color: #0087ff; text-decoration-color: #0087ff\">LSTM</span>)                   │ (<span style=\"color: #00d7ff; text-decoration-color: #00d7ff\">None</span>, <span style=\"color: #00af00; text-decoration-color: #00af00\">100</span>, <span style=\"color: #00af00; text-decoration-color: #00af00\">80</span>)        │        <span style=\"color: #00af00; text-decoration-color: #00af00\">45,120</span> │\n",
              "├─────────────────────────────────┼────────────────────────┼───────────────┤\n",
              "│ dropout_2 (<span style=\"color: #0087ff; text-decoration-color: #0087ff\">Dropout</span>)             │ (<span style=\"color: #00d7ff; text-decoration-color: #00d7ff\">None</span>, <span style=\"color: #00af00; text-decoration-color: #00af00\">100</span>, <span style=\"color: #00af00; text-decoration-color: #00af00\">80</span>)        │             <span style=\"color: #00af00; text-decoration-color: #00af00\">0</span> │\n",
              "├─────────────────────────────────┼────────────────────────┼───────────────┤\n",
              "│ lstm_3 (<span style=\"color: #0087ff; text-decoration-color: #0087ff\">LSTM</span>)                   │ (<span style=\"color: #00d7ff; text-decoration-color: #00d7ff\">None</span>, <span style=\"color: #00af00; text-decoration-color: #00af00\">120</span>)            │        <span style=\"color: #00af00; text-decoration-color: #00af00\">96,480</span> │\n",
              "├─────────────────────────────────┼────────────────────────┼───────────────┤\n",
              "│ dropout_3 (<span style=\"color: #0087ff; text-decoration-color: #0087ff\">Dropout</span>)             │ (<span style=\"color: #00d7ff; text-decoration-color: #00d7ff\">None</span>, <span style=\"color: #00af00; text-decoration-color: #00af00\">120</span>)            │             <span style=\"color: #00af00; text-decoration-color: #00af00\">0</span> │\n",
              "├─────────────────────────────────┼────────────────────────┼───────────────┤\n",
              "│ dense (<span style=\"color: #0087ff; text-decoration-color: #0087ff\">Dense</span>)                   │ (<span style=\"color: #00d7ff; text-decoration-color: #00d7ff\">None</span>, <span style=\"color: #00af00; text-decoration-color: #00af00\">1</span>)              │           <span style=\"color: #00af00; text-decoration-color: #00af00\">121</span> │\n",
              "└─────────────────────────────────┴────────────────────────┴───────────────┘\n",
              "</pre>\n"
            ],
            "text/plain": [
              "┏━━━━━━━━━━━━━━━━━━━━━━━━━━━━━━━━━┳━━━━━━━━━━━━━━━━━━━━━━━━┳━━━━━━━━━━━━━━━┓\n",
              "┃\u001b[1m \u001b[0m\u001b[1mLayer (type)                   \u001b[0m\u001b[1m \u001b[0m┃\u001b[1m \u001b[0m\u001b[1mOutput Shape          \u001b[0m\u001b[1m \u001b[0m┃\u001b[1m \u001b[0m\u001b[1m      Param #\u001b[0m\u001b[1m \u001b[0m┃\n",
              "┡━━━━━━━━━━━━━━━━━━━━━━━━━━━━━━━━━╇━━━━━━━━━━━━━━━━━━━━━━━━╇━━━━━━━━━━━━━━━┩\n",
              "│ lstm (\u001b[38;5;33mLSTM\u001b[0m)                     │ (\u001b[38;5;45mNone\u001b[0m, \u001b[38;5;34m100\u001b[0m, \u001b[38;5;34m50\u001b[0m)        │        \u001b[38;5;34m10,400\u001b[0m │\n",
              "├─────────────────────────────────┼────────────────────────┼───────────────┤\n",
              "│ dropout (\u001b[38;5;33mDropout\u001b[0m)               │ (\u001b[38;5;45mNone\u001b[0m, \u001b[38;5;34m100\u001b[0m, \u001b[38;5;34m50\u001b[0m)        │             \u001b[38;5;34m0\u001b[0m │\n",
              "├─────────────────────────────────┼────────────────────────┼───────────────┤\n",
              "│ lstm_1 (\u001b[38;5;33mLSTM\u001b[0m)                   │ (\u001b[38;5;45mNone\u001b[0m, \u001b[38;5;34m100\u001b[0m, \u001b[38;5;34m60\u001b[0m)        │        \u001b[38;5;34m26,640\u001b[0m │\n",
              "├─────────────────────────────────┼────────────────────────┼───────────────┤\n",
              "│ dropout_1 (\u001b[38;5;33mDropout\u001b[0m)             │ (\u001b[38;5;45mNone\u001b[0m, \u001b[38;5;34m100\u001b[0m, \u001b[38;5;34m60\u001b[0m)        │             \u001b[38;5;34m0\u001b[0m │\n",
              "├─────────────────────────────────┼────────────────────────┼───────────────┤\n",
              "│ lstm_2 (\u001b[38;5;33mLSTM\u001b[0m)                   │ (\u001b[38;5;45mNone\u001b[0m, \u001b[38;5;34m100\u001b[0m, \u001b[38;5;34m80\u001b[0m)        │        \u001b[38;5;34m45,120\u001b[0m │\n",
              "├─────────────────────────────────┼────────────────────────┼───────────────┤\n",
              "│ dropout_2 (\u001b[38;5;33mDropout\u001b[0m)             │ (\u001b[38;5;45mNone\u001b[0m, \u001b[38;5;34m100\u001b[0m, \u001b[38;5;34m80\u001b[0m)        │             \u001b[38;5;34m0\u001b[0m │\n",
              "├─────────────────────────────────┼────────────────────────┼───────────────┤\n",
              "│ lstm_3 (\u001b[38;5;33mLSTM\u001b[0m)                   │ (\u001b[38;5;45mNone\u001b[0m, \u001b[38;5;34m120\u001b[0m)            │        \u001b[38;5;34m96,480\u001b[0m │\n",
              "├─────────────────────────────────┼────────────────────────┼───────────────┤\n",
              "│ dropout_3 (\u001b[38;5;33mDropout\u001b[0m)             │ (\u001b[38;5;45mNone\u001b[0m, \u001b[38;5;34m120\u001b[0m)            │             \u001b[38;5;34m0\u001b[0m │\n",
              "├─────────────────────────────────┼────────────────────────┼───────────────┤\n",
              "│ dense (\u001b[38;5;33mDense\u001b[0m)                   │ (\u001b[38;5;45mNone\u001b[0m, \u001b[38;5;34m1\u001b[0m)              │           \u001b[38;5;34m121\u001b[0m │\n",
              "└─────────────────────────────────┴────────────────────────┴───────────────┘\n"
            ]
          },
          "metadata": {},
          "output_type": "display_data"
        },
        {
          "data": {
            "text/html": [
              "<pre style=\"white-space:pre;overflow-x:auto;line-height:normal;font-family:Menlo,'DejaVu Sans Mono',consolas,'Courier New',monospace\"><span style=\"font-weight: bold\"> Total params: </span><span style=\"color: #00af00; text-decoration-color: #00af00\">178,761</span> (698.29 KB)\n",
              "</pre>\n"
            ],
            "text/plain": [
              "\u001b[1m Total params: \u001b[0m\u001b[38;5;34m178,761\u001b[0m (698.29 KB)\n"
            ]
          },
          "metadata": {},
          "output_type": "display_data"
        },
        {
          "data": {
            "text/html": [
              "<pre style=\"white-space:pre;overflow-x:auto;line-height:normal;font-family:Menlo,'DejaVu Sans Mono',consolas,'Courier New',monospace\"><span style=\"font-weight: bold\"> Trainable params: </span><span style=\"color: #00af00; text-decoration-color: #00af00\">178,761</span> (698.29 KB)\n",
              "</pre>\n"
            ],
            "text/plain": [
              "\u001b[1m Trainable params: \u001b[0m\u001b[38;5;34m178,761\u001b[0m (698.29 KB)\n"
            ]
          },
          "metadata": {},
          "output_type": "display_data"
        },
        {
          "data": {
            "text/html": [
              "<pre style=\"white-space:pre;overflow-x:auto;line-height:normal;font-family:Menlo,'DejaVu Sans Mono',consolas,'Courier New',monospace\"><span style=\"font-weight: bold\"> Non-trainable params: </span><span style=\"color: #00af00; text-decoration-color: #00af00\">0</span> (0.00 B)\n",
              "</pre>\n"
            ],
            "text/plain": [
              "\u001b[1m Non-trainable params: \u001b[0m\u001b[38;5;34m0\u001b[0m (0.00 B)\n"
            ]
          },
          "metadata": {},
          "output_type": "display_data"
        }
      ],
      "source": [
        "model.summary()"
      ]
    },
    {
      "cell_type": "code",
      "execution_count": 23,
      "metadata": {
        "colab": {
          "base_uri": "https://localhost:8080/"
        },
        "id": "EGCc5GckHNlu",
        "outputId": "d2626083-7b17-44b7-9d0c-20b89374614b"
      },
      "outputs": [
        {
          "name": "stderr",
          "output_type": "stream",
          "text": [
            "ERROR: Could not find a version that satisfies the requirement tensorflow-addons==0.17.1 (from versions: none)\n",
            "ERROR: No matching distribution found for tensorflow-addons==0.17.1\n"
          ]
        },
        {
          "name": "stdout",
          "output_type": "stream",
          "text": [
            "Requirement already satisfied: tensorflow in c:\\users\\sinha\\appdata\\local\\programs\\python\\python312\\lib\\site-packages (2.17.0)\n",
            "Requirement already satisfied: tensorflow-intel==2.17.0 in c:\\users\\sinha\\appdata\\local\\programs\\python\\python312\\lib\\site-packages (from tensorflow) (2.17.0)\n",
            "Requirement already satisfied: absl-py>=1.0.0 in c:\\users\\sinha\\appdata\\local\\programs\\python\\python312\\lib\\site-packages (from tensorflow-intel==2.17.0->tensorflow) (2.1.0)\n",
            "Requirement already satisfied: astunparse>=1.6.0 in c:\\users\\sinha\\appdata\\local\\programs\\python\\python312\\lib\\site-packages (from tensorflow-intel==2.17.0->tensorflow) (1.6.3)\n",
            "Requirement already satisfied: flatbuffers>=24.3.25 in c:\\users\\sinha\\appdata\\local\\programs\\python\\python312\\lib\\site-packages (from tensorflow-intel==2.17.0->tensorflow) (24.3.25)\n",
            "Requirement already satisfied: gast!=0.5.0,!=0.5.1,!=0.5.2,>=0.2.1 in c:\\users\\sinha\\appdata\\local\\programs\\python\\python312\\lib\\site-packages (from tensorflow-intel==2.17.0->tensorflow) (0.5.4)\n",
            "Requirement already satisfied: google-pasta>=0.1.1 in c:\\users\\sinha\\appdata\\local\\programs\\python\\python312\\lib\\site-packages (from tensorflow-intel==2.17.0->tensorflow) (0.2.0)\n",
            "Requirement already satisfied: h5py>=3.10.0 in c:\\users\\sinha\\appdata\\local\\programs\\python\\python312\\lib\\site-packages (from tensorflow-intel==2.17.0->tensorflow) (3.10.0)\n",
            "Requirement already satisfied: libclang>=13.0.0 in c:\\users\\sinha\\appdata\\local\\programs\\python\\python312\\lib\\site-packages (from tensorflow-intel==2.17.0->tensorflow) (18.1.1)\n",
            "Requirement already satisfied: ml-dtypes<0.5.0,>=0.3.1 in c:\\users\\sinha\\appdata\\local\\programs\\python\\python312\\lib\\site-packages (from tensorflow-intel==2.17.0->tensorflow) (0.3.2)\n",
            "Requirement already satisfied: opt-einsum>=2.3.2 in c:\\users\\sinha\\appdata\\local\\programs\\python\\python312\\lib\\site-packages (from tensorflow-intel==2.17.0->tensorflow) (3.3.0)\n",
            "Requirement already satisfied: packaging in c:\\users\\sinha\\appdata\\local\\programs\\python\\python312\\lib\\site-packages (from tensorflow-intel==2.17.0->tensorflow) (20.9)\n",
            "Requirement already satisfied: protobuf!=4.21.0,!=4.21.1,!=4.21.2,!=4.21.3,!=4.21.4,!=4.21.5,<5.0.0dev,>=3.20.3 in c:\\users\\sinha\\appdata\\local\\programs\\python\\python312\\lib\\site-packages (from tensorflow-intel==2.17.0->tensorflow) (4.25.3)\n",
            "Requirement already satisfied: requests<3,>=2.21.0 in c:\\users\\sinha\\appdata\\local\\programs\\python\\python312\\lib\\site-packages (from tensorflow-intel==2.17.0->tensorflow) (2.31.0)\n",
            "Requirement already satisfied: setuptools in c:\\users\\sinha\\appdata\\local\\programs\\python\\python312\\lib\\site-packages (from tensorflow-intel==2.17.0->tensorflow) (69.1.1)\n",
            "Requirement already satisfied: six>=1.12.0 in c:\\users\\sinha\\appdata\\local\\programs\\python\\python312\\lib\\site-packages (from tensorflow-intel==2.17.0->tensorflow) (1.16.0)\n",
            "Requirement already satisfied: termcolor>=1.1.0 in c:\\users\\sinha\\appdata\\local\\programs\\python\\python312\\lib\\site-packages (from tensorflow-intel==2.17.0->tensorflow) (2.4.0)\n",
            "Requirement already satisfied: typing-extensions>=3.6.6 in c:\\users\\sinha\\appdata\\local\\programs\\python\\python312\\lib\\site-packages (from tensorflow-intel==2.17.0->tensorflow) (4.12.2)\n",
            "Requirement already satisfied: wrapt>=1.11.0 in c:\\users\\sinha\\appdata\\local\\programs\\python\\python312\\lib\\site-packages (from tensorflow-intel==2.17.0->tensorflow) (1.16.0)\n",
            "Requirement already satisfied: grpcio<2.0,>=1.24.3 in c:\\users\\sinha\\appdata\\local\\programs\\python\\python312\\lib\\site-packages (from tensorflow-intel==2.17.0->tensorflow) (1.62.1)\n",
            "Requirement already satisfied: tensorboard<2.18,>=2.17 in c:\\users\\sinha\\appdata\\local\\programs\\python\\python312\\lib\\site-packages (from tensorflow-intel==2.17.0->tensorflow) (2.17.0)\n",
            "Requirement already satisfied: keras>=3.2.0 in c:\\users\\sinha\\appdata\\local\\programs\\python\\python312\\lib\\site-packages (from tensorflow-intel==2.17.0->tensorflow) (3.4.1)\n",
            "Requirement already satisfied: numpy<2.0.0,>=1.26.0 in c:\\users\\sinha\\appdata\\local\\programs\\python\\python312\\lib\\site-packages (from tensorflow-intel==2.17.0->tensorflow) (1.26.4)\n",
            "Requirement already satisfied: wheel<1.0,>=0.23.0 in c:\\users\\sinha\\appdata\\local\\programs\\python\\python312\\lib\\site-packages (from astunparse>=1.6.0->tensorflow-intel==2.17.0->tensorflow) (0.43.0)\n",
            "Requirement already satisfied: rich in c:\\users\\sinha\\appdata\\local\\programs\\python\\python312\\lib\\site-packages (from keras>=3.2.0->tensorflow-intel==2.17.0->tensorflow) (13.7.1)\n",
            "Requirement already satisfied: namex in c:\\users\\sinha\\appdata\\local\\programs\\python\\python312\\lib\\site-packages (from keras>=3.2.0->tensorflow-intel==2.17.0->tensorflow) (0.0.7)\n",
            "Requirement already satisfied: optree in c:\\users\\sinha\\appdata\\local\\programs\\python\\python312\\lib\\site-packages (from keras>=3.2.0->tensorflow-intel==2.17.0->tensorflow) (0.11.0)\n",
            "Requirement already satisfied: charset-normalizer<4,>=2 in c:\\users\\sinha\\appdata\\local\\programs\\python\\python312\\lib\\site-packages (from requests<3,>=2.21.0->tensorflow-intel==2.17.0->tensorflow) (3.3.2)\n",
            "Requirement already satisfied: idna<4,>=2.5 in c:\\users\\sinha\\appdata\\local\\programs\\python\\python312\\lib\\site-packages (from requests<3,>=2.21.0->tensorflow-intel==2.17.0->tensorflow) (3.6)\n",
            "Requirement already satisfied: urllib3<3,>=1.21.1 in c:\\users\\sinha\\appdata\\local\\programs\\python\\python312\\lib\\site-packages (from requests<3,>=2.21.0->tensorflow-intel==2.17.0->tensorflow) (2.2.1)\n",
            "Requirement already satisfied: certifi>=2017.4.17 in c:\\users\\sinha\\appdata\\local\\programs\\python\\python312\\lib\\site-packages (from requests<3,>=2.21.0->tensorflow-intel==2.17.0->tensorflow) (2024.2.2)\n",
            "Requirement already satisfied: markdown>=2.6.8 in c:\\users\\sinha\\appdata\\local\\programs\\python\\python312\\lib\\site-packages (from tensorboard<2.18,>=2.17->tensorflow-intel==2.17.0->tensorflow) (3.6)\n",
            "Requirement already satisfied: tensorboard-data-server<0.8.0,>=0.7.0 in c:\\users\\sinha\\appdata\\local\\programs\\python\\python312\\lib\\site-packages (from tensorboard<2.18,>=2.17->tensorflow-intel==2.17.0->tensorflow) (0.7.2)\n",
            "Requirement already satisfied: werkzeug>=1.0.1 in c:\\users\\sinha\\appdata\\local\\programs\\python\\python312\\lib\\site-packages (from tensorboard<2.18,>=2.17->tensorflow-intel==2.17.0->tensorflow) (3.0.2)\n",
            "Requirement already satisfied: pyparsing>=2.0.2 in c:\\users\\sinha\\appdata\\local\\programs\\python\\python312\\lib\\site-packages (from packaging->tensorflow-intel==2.17.0->tensorflow) (3.1.2)\n",
            "Requirement already satisfied: MarkupSafe>=2.1.1 in c:\\users\\sinha\\appdata\\local\\programs\\python\\python312\\lib\\site-packages (from werkzeug>=1.0.1->tensorboard<2.18,>=2.17->tensorflow-intel==2.17.0->tensorflow) (2.1.5)\n",
            "Requirement already satisfied: markdown-it-py>=2.2.0 in c:\\users\\sinha\\appdata\\local\\programs\\python\\python312\\lib\\site-packages (from rich->keras>=3.2.0->tensorflow-intel==2.17.0->tensorflow) (3.0.0)\n",
            "Requirement already satisfied: pygments<3.0.0,>=2.13.0 in c:\\users\\sinha\\appdata\\local\\programs\\python\\python312\\lib\\site-packages (from rich->keras>=3.2.0->tensorflow-intel==2.17.0->tensorflow) (2.17.2)\n",
            "Requirement already satisfied: mdurl~=0.1 in c:\\users\\sinha\\appdata\\local\\programs\\python\\python312\\lib\\site-packages (from markdown-it-py>=2.2.0->rich->keras>=3.2.0->tensorflow-intel==2.17.0->tensorflow) (0.1.2)\n"
          ]
        },
        {
          "name": "stderr",
          "output_type": "stream",
          "text": [
            "ERROR: Could not find a version that satisfies the requirement tensorflow-addons (from versions: none)\n",
            "ERROR: No matching distribution found for tensorflow-addons\n"
          ]
        }
      ],
      "source": [
        "!pip install tensorflow-addons==0.17.1\n",
        "\n",
        "!pip install --upgrade tensorflow\n",
        "!pip install --upgrade tensorflow-addons"
      ]
    },
    {
      "cell_type": "code",
      "execution_count": 24,
      "metadata": {
        "colab": {
          "base_uri": "https://localhost:8080/"
        },
        "id": "a1QksPv1HPYj",
        "outputId": "af4453c3-aa45-48c3-de61-9636315c8d94"
      },
      "outputs": [
        {
          "name": "stdout",
          "output_type": "stream",
          "text": [
            "Epoch 1/150\n",
            "\u001b[1m41/41\u001b[0m \u001b[32m━━━━━━━━━━━━━━━━━━━━\u001b[0m\u001b[37m\u001b[0m \u001b[1m15s\u001b[0m 188ms/step - accuracy: 1.5567e-04 - loss: 0.1482 - mean_absolute_error: 0.3820 - mean_squared_error: 0.2166\n",
            "Epoch 2/150\n",
            "\u001b[1m41/41\u001b[0m \u001b[32m━━━━━━━━━━━━━━━━━━━━\u001b[0m\u001b[37m\u001b[0m \u001b[1m6s\u001b[0m 157ms/step - accuracy: 6.2124e-04 - loss: 0.0163 - mean_absolute_error: 0.1769 - mean_squared_error: 0.0633\n",
            "Epoch 3/150\n",
            "\u001b[1m41/41\u001b[0m \u001b[32m━━━━━━━━━━━━━━━━━━━━\u001b[0m\u001b[37m\u001b[0m \u001b[1m6s\u001b[0m 153ms/step - accuracy: 0.0033 - loss: 0.0156 - mean_absolute_error: 0.1390 - mean_squared_error: 0.0421\n",
            "Epoch 4/150\n",
            "\u001b[1m41/41\u001b[0m \u001b[32m━━━━━━━━━━━━━━━━━━━━\u001b[0m\u001b[37m\u001b[0m \u001b[1m6s\u001b[0m 155ms/step - accuracy: 0.0014 - loss: 0.0114 - mean_absolute_error: 0.1215 - mean_squared_error: 0.0331\n",
            "Epoch 5/150\n",
            "\u001b[1m41/41\u001b[0m \u001b[32m━━━━━━━━━━━━━━━━━━━━\u001b[0m\u001b[37m\u001b[0m \u001b[1m6s\u001b[0m 142ms/step - accuracy: 8.2749e-04 - loss: 0.0112 - mean_absolute_error: 0.1113 - mean_squared_error: 0.0280\n",
            "Epoch 6/150\n",
            "\u001b[1m41/41\u001b[0m \u001b[32m━━━━━━━━━━━━━━━━━━━━\u001b[0m\u001b[37m\u001b[0m \u001b[1m6s\u001b[0m 156ms/step - accuracy: 0.0027 - loss: 0.0109 - mean_absolute_error: 0.1048 - mean_squared_error: 0.0248\n",
            "Epoch 7/150\n",
            "\u001b[1m41/41\u001b[0m \u001b[32m━━━━━━━━━━━━━━━━━━━━\u001b[0m\u001b[37m\u001b[0m \u001b[1m7s\u001b[0m 170ms/step - accuracy: 0.0018 - loss: 0.0095 - mean_absolute_error: 0.0998 - mean_squared_error: 0.0225\n",
            "Epoch 8/150\n",
            "\u001b[1m41/41\u001b[0m \u001b[32m━━━━━━━━━━━━━━━━━━━━\u001b[0m\u001b[37m\u001b[0m \u001b[1m6s\u001b[0m 150ms/step - accuracy: 4.1694e-04 - loss: 0.0097 - mean_absolute_error: 0.0963 - mean_squared_error: 0.0208\n",
            "Epoch 9/150\n",
            "\u001b[1m41/41\u001b[0m \u001b[32m━━━━━━━━━━━━━━━━━━━━\u001b[0m\u001b[37m\u001b[0m \u001b[1m6s\u001b[0m 148ms/step - accuracy: 0.0031 - loss: 0.0113 - mean_absolute_error: 0.0936 - mean_squared_error: 0.0195\n",
            "Epoch 10/150\n",
            "\u001b[1m41/41\u001b[0m \u001b[32m━━━━━━━━━━━━━━━━━━━━\u001b[0m\u001b[37m\u001b[0m \u001b[1m10s\u001b[0m 145ms/step - accuracy: 8.2749e-04 - loss: 0.0099 - mean_absolute_error: 0.0911 - mean_squared_error: 0.0185\n",
            "Epoch 11/150\n",
            "\u001b[1m41/41\u001b[0m \u001b[32m━━━━━━━━━━━━━━━━━━━━\u001b[0m\u001b[37m\u001b[0m \u001b[1m6s\u001b[0m 147ms/step - accuracy: 0.0012 - loss: 0.0084 - mean_absolute_error: 0.0892 - mean_squared_error: 0.0176\n",
            "Epoch 12/150\n",
            "\u001b[1m41/41\u001b[0m \u001b[32m━━━━━━━━━━━━━━━━━━━━\u001b[0m\u001b[37m\u001b[0m \u001b[1m6s\u001b[0m 156ms/step - accuracy: 0.0020 - loss: 0.0099 - mean_absolute_error: 0.0875 - mean_squared_error: 0.0169\n",
            "Epoch 13/150\n",
            "\u001b[1m41/41\u001b[0m \u001b[32m━━━━━━━━━━━━━━━━━━━━\u001b[0m\u001b[37m\u001b[0m \u001b[1m6s\u001b[0m 148ms/step - accuracy: 0.0021 - loss: 0.0081 - mean_absolute_error: 0.0857 - mean_squared_error: 0.0162\n",
            "Epoch 14/150\n",
            "\u001b[1m41/41\u001b[0m \u001b[32m━━━━━━━━━━━━━━━━━━━━\u001b[0m\u001b[37m\u001b[0m \u001b[1m6s\u001b[0m 145ms/step - accuracy: 0.0010 - loss: 0.0083 - mean_absolute_error: 0.0841 - mean_squared_error: 0.0156    \n",
            "Epoch 15/150\n",
            "\u001b[1m41/41\u001b[0m \u001b[32m━━━━━━━━━━━━━━━━━━━━\u001b[0m\u001b[37m\u001b[0m \u001b[1m6s\u001b[0m 146ms/step - accuracy: 8.3688e-04 - loss: 0.0069 - mean_absolute_error: 0.0825 - mean_squared_error: 0.0150\n",
            "Epoch 16/150\n",
            "\u001b[1m41/41\u001b[0m \u001b[32m━━━━━━━━━━━━━━━━━━━━\u001b[0m\u001b[37m\u001b[0m \u001b[1m6s\u001b[0m 149ms/step - accuracy: 5.3624e-04 - loss: 0.0064 - mean_absolute_error: 0.0811 - mean_squared_error: 0.0145\n",
            "Epoch 17/150\n",
            "\u001b[1m41/41\u001b[0m \u001b[32m━━━━━━━━━━━━━━━━━━━━\u001b[0m\u001b[37m\u001b[0m \u001b[1m10s\u001b[0m 147ms/step - accuracy: 0.0022 - loss: 0.0081 - mean_absolute_error: 0.0799 - mean_squared_error: 0.0141\n",
            "Epoch 18/150\n",
            "\u001b[1m41/41\u001b[0m \u001b[32m━━━━━━━━━━━━━━━━━━━━\u001b[0m\u001b[37m\u001b[0m \u001b[1m6s\u001b[0m 149ms/step - accuracy: 0.0023 - loss: 0.0069 - mean_absolute_error: 0.0789 - mean_squared_error: 0.0137\n",
            "Epoch 19/150\n",
            "\u001b[1m41/41\u001b[0m \u001b[32m━━━━━━━━━━━━━━━━━━━━\u001b[0m\u001b[37m\u001b[0m \u001b[1m6s\u001b[0m 147ms/step - accuracy: 0.0018 - loss: 0.0067 - mean_absolute_error: 0.0779 - mean_squared_error: 0.0133\n",
            "Epoch 20/150\n",
            "\u001b[1m41/41\u001b[0m \u001b[32m━━━━━━━━━━━━━━━━━━━━\u001b[0m\u001b[37m\u001b[0m \u001b[1m6s\u001b[0m 146ms/step - accuracy: 4.1803e-04 - loss: 0.0058 - mean_absolute_error: 0.0769 - mean_squared_error: 0.0130\n",
            "Epoch 21/150\n",
            "\u001b[1m41/41\u001b[0m \u001b[32m━━━━━━━━━━━━━━━━━━━━\u001b[0m\u001b[37m\u001b[0m \u001b[1m6s\u001b[0m 149ms/step - accuracy: 0.0013 - loss: 0.0066 - mean_absolute_error: 0.0760 - mean_squared_error: 0.0127\n",
            "Epoch 22/150\n",
            "\u001b[1m41/41\u001b[0m \u001b[32m━━━━━━━━━━━━━━━━━━━━\u001b[0m\u001b[37m\u001b[0m \u001b[1m7s\u001b[0m 158ms/step - accuracy: 0.0013 - loss: 0.0078 - mean_absolute_error: 0.0752 - mean_squared_error: 0.0124\n",
            "Epoch 23/150\n",
            "\u001b[1m41/41\u001b[0m \u001b[32m━━━━━━━━━━━━━━━━━━━━\u001b[0m\u001b[37m\u001b[0m \u001b[1m6s\u001b[0m 147ms/step - accuracy: 8.1940e-04 - loss: 0.0054 - mean_absolute_error: 0.0744 - mean_squared_error: 0.0121\n",
            "Epoch 24/150\n",
            "\u001b[1m41/41\u001b[0m \u001b[32m━━━━━━━━━━━━━━━━━━━━\u001b[0m\u001b[37m\u001b[0m \u001b[1m6s\u001b[0m 156ms/step - accuracy: 0.0023 - loss: 0.0054 - mean_absolute_error: 0.0735 - mean_squared_error: 0.0118\n",
            "Epoch 25/150\n",
            "\u001b[1m41/41\u001b[0m \u001b[32m━━━━━━━━━━━━━━━━━━━━\u001b[0m\u001b[37m\u001b[0m \u001b[1m6s\u001b[0m 149ms/step - accuracy: 0.0015 - loss: 0.0053 - mean_absolute_error: 0.0726 - mean_squared_error: 0.0116\n",
            "Epoch 26/150\n",
            "\u001b[1m41/41\u001b[0m \u001b[32m━━━━━━━━━━━━━━━━━━━━\u001b[0m\u001b[37m\u001b[0m \u001b[1m6s\u001b[0m 148ms/step - accuracy: 9.6069e-04 - loss: 0.0050 - mean_absolute_error: 0.0719 - mean_squared_error: 0.0113\n",
            "Epoch 27/150\n",
            "\u001b[1m41/41\u001b[0m \u001b[32m━━━━━━━━━━━━━━━━━━━━\u001b[0m\u001b[37m\u001b[0m \u001b[1m6s\u001b[0m 148ms/step - accuracy: 0.0013 - loss: 0.0058 - mean_absolute_error: 0.0711 - mean_squared_error: 0.0111\n",
            "Epoch 28/150\n",
            "\u001b[1m41/41\u001b[0m \u001b[32m━━━━━━━━━━━━━━━━━━━━\u001b[0m\u001b[37m\u001b[0m \u001b[1m6s\u001b[0m 149ms/step - accuracy: 0.0017 - loss: 0.0052 - mean_absolute_error: 0.0704 - mean_squared_error: 0.0109\n",
            "Epoch 29/150\n",
            "\u001b[1m41/41\u001b[0m \u001b[32m━━━━━━━━━━━━━━━━━━━━\u001b[0m\u001b[37m\u001b[0m \u001b[1m6s\u001b[0m 150ms/step - accuracy: 2.5508e-04 - loss: 0.0051 - mean_absolute_error: 0.0698 - mean_squared_error: 0.0107\n",
            "Epoch 30/150\n",
            "\u001b[1m41/41\u001b[0m \u001b[32m━━━━━━━━━━━━━━━━━━━━\u001b[0m\u001b[37m\u001b[0m \u001b[1m6s\u001b[0m 150ms/step - accuracy: 0.0027 - loss: 0.0049 - mean_absolute_error: 0.0691 - mean_squared_error: 0.0105\n",
            "Epoch 31/150\n",
            "\u001b[1m41/41\u001b[0m \u001b[32m━━━━━━━━━━━━━━━━━━━━\u001b[0m\u001b[37m\u001b[0m \u001b[1m7s\u001b[0m 159ms/step - accuracy: 0.0014 - loss: 0.0052 - mean_absolute_error: 0.0685 - mean_squared_error: 0.0103\n",
            "Epoch 32/150\n",
            "\u001b[1m41/41\u001b[0m \u001b[32m━━━━━━━━━━━━━━━━━━━━\u001b[0m\u001b[37m\u001b[0m \u001b[1m6s\u001b[0m 150ms/step - accuracy: 0.0029 - loss: 0.0049 - mean_absolute_error: 0.0680 - mean_squared_error: 0.0101\n",
            "Epoch 33/150\n",
            "\u001b[1m41/41\u001b[0m \u001b[32m━━━━━━━━━━━━━━━━━━━━\u001b[0m\u001b[37m\u001b[0m \u001b[1m10s\u001b[0m 146ms/step - accuracy: 0.0015 - loss: 0.0060 - mean_absolute_error: 0.0675 - mean_squared_error: 0.0100\n",
            "Epoch 34/150\n",
            "\u001b[1m41/41\u001b[0m \u001b[32m━━━━━━━━━━━━━━━━━━━━\u001b[0m\u001b[37m\u001b[0m \u001b[1m9s\u001b[0m 229ms/step - accuracy: 0.0016 - loss: 0.0052 - mean_absolute_error: 0.0671 - mean_squared_error: 0.0099\n",
            "Epoch 35/150\n",
            "\u001b[1m41/41\u001b[0m \u001b[32m━━━━━━━━━━━━━━━━━━━━\u001b[0m\u001b[37m\u001b[0m \u001b[1m9s\u001b[0m 224ms/step - accuracy: 0.0013 - loss: 0.0049 - mean_absolute_error: 0.0666 - mean_squared_error: 0.0097\n",
            "Epoch 36/150\n",
            "\u001b[1m41/41\u001b[0m \u001b[32m━━━━━━━━━━━━━━━━━━━━\u001b[0m\u001b[37m\u001b[0m \u001b[1m9s\u001b[0m 207ms/step - accuracy: 0.0011 - loss: 0.0059 - mean_absolute_error: 0.0662 - mean_squared_error: 0.0096\n",
            "Epoch 37/150\n",
            "\u001b[1m41/41\u001b[0m \u001b[32m━━━━━━━━━━━━━━━━━━━━\u001b[0m\u001b[37m\u001b[0m \u001b[1m10s\u001b[0m 235ms/step - accuracy: 0.0023 - loss: 0.0046 - mean_absolute_error: 0.0658 - mean_squared_error: 0.0095\n",
            "Epoch 38/150\n",
            "\u001b[1m41/41\u001b[0m \u001b[32m━━━━━━━━━━━━━━━━━━━━\u001b[0m\u001b[37m\u001b[0m \u001b[1m11s\u001b[0m 279ms/step - accuracy: 0.0025 - loss: 0.0049 - mean_absolute_error: 0.0653 - mean_squared_error: 0.0094\n",
            "Epoch 39/150\n",
            "\u001b[1m41/41\u001b[0m \u001b[32m━━━━━━━━━━━━━━━━━━━━\u001b[0m\u001b[37m\u001b[0m \u001b[1m16s\u001b[0m 175ms/step - accuracy: 0.0013 - loss: 0.0042 - mean_absolute_error: 0.0648 - mean_squared_error: 0.0092\n",
            "Epoch 40/150\n",
            "\u001b[1m41/41\u001b[0m \u001b[32m━━━━━━━━━━━━━━━━━━━━\u001b[0m\u001b[37m\u001b[0m \u001b[1m7s\u001b[0m 162ms/step - accuracy: 3.1385e-04 - loss: 0.0042 - mean_absolute_error: 0.0644 - mean_squared_error: 0.0091\n",
            "Epoch 41/150\n",
            "\u001b[1m41/41\u001b[0m \u001b[32m━━━━━━━━━━━━━━━━━━━━\u001b[0m\u001b[37m\u001b[0m \u001b[1m7s\u001b[0m 166ms/step - accuracy: 6.5567e-04 - loss: 0.0043 - mean_absolute_error: 0.0640 - mean_squared_error: 0.0090\n",
            "Epoch 42/150\n",
            "\u001b[1m41/41\u001b[0m \u001b[32m━━━━━━━━━━━━━━━━━━━━\u001b[0m\u001b[37m\u001b[0m \u001b[1m7s\u001b[0m 162ms/step - accuracy: 0.0018 - loss: 0.0043 - mean_absolute_error: 0.0636 - mean_squared_error: 0.0089\n",
            "Epoch 43/150\n",
            "\u001b[1m41/41\u001b[0m \u001b[32m━━━━━━━━━━━━━━━━━━━━\u001b[0m\u001b[37m\u001b[0m \u001b[1m7s\u001b[0m 164ms/step - accuracy: 2.9374e-04 - loss: 0.0045 - mean_absolute_error: 0.0632 - mean_squared_error: 0.0088\n",
            "Epoch 44/150\n",
            "\u001b[1m41/41\u001b[0m \u001b[32m━━━━━━━━━━━━━━━━━━━━\u001b[0m\u001b[37m\u001b[0m \u001b[1m7s\u001b[0m 167ms/step - accuracy: 0.0025 - loss: 0.0047 - mean_absolute_error: 0.0628 - mean_squared_error: 0.0087\n",
            "Epoch 45/150\n",
            "\u001b[1m41/41\u001b[0m \u001b[32m━━━━━━━━━━━━━━━━━━━━\u001b[0m\u001b[37m\u001b[0m \u001b[1m7s\u001b[0m 179ms/step - accuracy: 0.0026 - loss: 0.0039 - mean_absolute_error: 0.0625 - mean_squared_error: 0.0086\n",
            "Epoch 46/150\n",
            "\u001b[1m41/41\u001b[0m \u001b[32m━━━━━━━━━━━━━━━━━━━━\u001b[0m\u001b[37m\u001b[0m \u001b[1m7s\u001b[0m 165ms/step - accuracy: 0.0021 - loss: 0.0039 - mean_absolute_error: 0.0621 - mean_squared_error: 0.0085\n",
            "Epoch 47/150\n",
            "\u001b[1m41/41\u001b[0m \u001b[32m━━━━━━━━━━━━━━━━━━━━\u001b[0m\u001b[37m\u001b[0m \u001b[1m7s\u001b[0m 164ms/step - accuracy: 0.0011 - loss: 0.0044 - mean_absolute_error: 0.0618 - mean_squared_error: 0.0084\n",
            "Epoch 48/150\n",
            "\u001b[1m41/41\u001b[0m \u001b[32m━━━━━━━━━━━━━━━━━━━━\u001b[0m\u001b[37m\u001b[0m \u001b[1m7s\u001b[0m 162ms/step - accuracy: 0.0011 - loss: 0.0049 - mean_absolute_error: 0.0615 - mean_squared_error: 0.0083\n",
            "Epoch 49/150\n",
            "\u001b[1m41/41\u001b[0m \u001b[32m━━━━━━━━━━━━━━━━━━━━\u001b[0m\u001b[37m\u001b[0m \u001b[1m7s\u001b[0m 162ms/step - accuracy: 0.0027 - loss: 0.0036 - mean_absolute_error: 0.0611 - mean_squared_error: 0.0082\n",
            "Epoch 50/150\n",
            "\u001b[1m41/41\u001b[0m \u001b[32m━━━━━━━━━━━━━━━━━━━━\u001b[0m\u001b[37m\u001b[0m \u001b[1m7s\u001b[0m 172ms/step - accuracy: 8.6073e-04 - loss: 0.0041 - mean_absolute_error: 0.0608 - mean_squared_error: 0.0081\n",
            "Epoch 51/150\n",
            "\u001b[1m41/41\u001b[0m \u001b[32m━━━━━━━━━━━━━━━━━━━━\u001b[0m\u001b[37m\u001b[0m \u001b[1m7s\u001b[0m 170ms/step - accuracy: 0.0018 - loss: 0.0031 - mean_absolute_error: 0.0605 - mean_squared_error: 0.0080\n",
            "Epoch 52/150\n",
            "\u001b[1m41/41\u001b[0m \u001b[32m━━━━━━━━━━━━━━━━━━━━\u001b[0m\u001b[37m\u001b[0m \u001b[1m7s\u001b[0m 169ms/step - accuracy: 0.0064 - loss: 0.0034 - mean_absolute_error: 0.0602 - mean_squared_error: 0.0080\n",
            "Epoch 53/150\n",
            "\u001b[1m41/41\u001b[0m \u001b[32m━━━━━━━━━━━━━━━━━━━━\u001b[0m\u001b[37m\u001b[0m \u001b[1m7s\u001b[0m 177ms/step - accuracy: 9.2349e-04 - loss: 0.0042 - mean_absolute_error: 0.0599 - mean_squared_error: 0.0079\n",
            "Epoch 54/150\n",
            "\u001b[1m41/41\u001b[0m \u001b[32m━━━━━━━━━━━━━━━━━━━━\u001b[0m\u001b[37m\u001b[0m \u001b[1m7s\u001b[0m 176ms/step - accuracy: 2.9374e-04 - loss: 0.0039 - mean_absolute_error: 0.0596 - mean_squared_error: 0.0078\n",
            "Epoch 55/150\n",
            "\u001b[1m41/41\u001b[0m \u001b[32m━━━━━━━━━━━━━━━━━━━━\u001b[0m\u001b[37m\u001b[0m \u001b[1m7s\u001b[0m 162ms/step - accuracy: 0.0043 - loss: 0.0035 - mean_absolute_error: 0.0593 - mean_squared_error: 0.0077\n",
            "Epoch 56/150\n",
            "\u001b[1m41/41\u001b[0m \u001b[32m━━━━━━━━━━━━━━━━━━━━\u001b[0m\u001b[37m\u001b[0m \u001b[1m7s\u001b[0m 170ms/step - accuracy: 3.5578e-04 - loss: 0.0036 - mean_absolute_error: 0.0591 - mean_squared_error: 0.0076\n",
            "Epoch 57/150\n",
            "\u001b[1m41/41\u001b[0m \u001b[32m━━━━━━━━━━━━━━━━━━━━\u001b[0m\u001b[37m\u001b[0m \u001b[1m7s\u001b[0m 160ms/step - accuracy: 0.0014 - loss: 0.0042 - mean_absolute_error: 0.0588 - mean_squared_error: 0.0076\n",
            "Epoch 58/150\n",
            "\u001b[1m41/41\u001b[0m \u001b[32m━━━━━━━━━━━━━━━━━━━━\u001b[0m\u001b[37m\u001b[0m \u001b[1m7s\u001b[0m 165ms/step - accuracy: 0.0014 - loss: 0.0040 - mean_absolute_error: 0.0586 - mean_squared_error: 0.0075\n",
            "Epoch 59/150\n",
            "\u001b[1m41/41\u001b[0m \u001b[32m━━━━━━━━━━━━━━━━━━━━\u001b[0m\u001b[37m\u001b[0m \u001b[1m7s\u001b[0m 167ms/step - accuracy: 0.0012 - loss: 0.0035 - mean_absolute_error: 0.0583 - mean_squared_error: 0.0075\n",
            "Epoch 60/150\n",
            "\u001b[1m41/41\u001b[0m \u001b[32m━━━━━━━━━━━━━━━━━━━━\u001b[0m\u001b[37m\u001b[0m \u001b[1m10s\u001b[0m 163ms/step - accuracy: 4.5349e-04 - loss: 0.0039 - mean_absolute_error: 0.0581 - mean_squared_error: 0.0074\n",
            "Epoch 61/150\n",
            "\u001b[1m41/41\u001b[0m \u001b[32m━━━━━━━━━━━━━━━━━━━━\u001b[0m\u001b[37m\u001b[0m \u001b[1m7s\u001b[0m 177ms/step - accuracy: 0.0016 - loss: 0.0040 - mean_absolute_error: 0.0578 - mean_squared_error: 0.0073\n",
            "Epoch 62/150\n",
            "\u001b[1m41/41\u001b[0m \u001b[32m━━━━━━━━━━━━━━━━━━━━\u001b[0m\u001b[37m\u001b[0m \u001b[1m8s\u001b[0m 182ms/step - accuracy: 0.0021 - loss: 0.0041 - mean_absolute_error: 0.0576 - mean_squared_error: 0.0073\n",
            "Epoch 63/150\n",
            "\u001b[1m41/41\u001b[0m \u001b[32m━━━━━━━━━━━━━━━━━━━━\u001b[0m\u001b[37m\u001b[0m \u001b[1m7s\u001b[0m 170ms/step - accuracy: 0.0022 - loss: 0.0032 - mean_absolute_error: 0.0574 - mean_squared_error: 0.0072\n",
            "Epoch 64/150\n",
            "\u001b[1m41/41\u001b[0m \u001b[32m━━━━━━━━━━━━━━━━━━━━\u001b[0m\u001b[37m\u001b[0m \u001b[1m7s\u001b[0m 176ms/step - accuracy: 3.2714e-04 - loss: 0.0036 - mean_absolute_error: 0.0571 - mean_squared_error: 0.0072\n",
            "Epoch 65/150\n",
            "\u001b[1m41/41\u001b[0m \u001b[32m━━━━━━━━━━━━━━━━━━━━\u001b[0m\u001b[37m\u001b[0m \u001b[1m10s\u001b[0m 166ms/step - accuracy: 6.9701e-04 - loss: 0.0035 - mean_absolute_error: 0.0569 - mean_squared_error: 0.0071\n",
            "Epoch 66/150\n",
            "\u001b[1m41/41\u001b[0m \u001b[32m━━━━━━━━━━━━━━━━━━━━\u001b[0m\u001b[37m\u001b[0m \u001b[1m7s\u001b[0m 177ms/step - accuracy: 0.0043 - loss: 0.0035 - mean_absolute_error: 0.0567 - mean_squared_error: 0.0070\n",
            "Epoch 67/150\n",
            "\u001b[1m41/41\u001b[0m \u001b[32m━━━━━━━━━━━━━━━━━━━━\u001b[0m\u001b[37m\u001b[0m \u001b[1m10s\u001b[0m 173ms/step - accuracy: 0.0017 - loss: 0.0038 - mean_absolute_error: 0.0565 - mean_squared_error: 0.0070\n",
            "Epoch 68/150\n",
            "\u001b[1m41/41\u001b[0m \u001b[32m━━━━━━━━━━━━━━━━━━━━\u001b[0m\u001b[37m\u001b[0m \u001b[1m7s\u001b[0m 162ms/step - accuracy: 5.1538e-04 - loss: 0.0035 - mean_absolute_error: 0.0563 - mean_squared_error: 0.0069\n",
            "Epoch 69/150\n",
            "\u001b[1m41/41\u001b[0m \u001b[32m━━━━━━━━━━━━━━━━━━━━\u001b[0m\u001b[37m\u001b[0m \u001b[1m8s\u001b[0m 186ms/step - accuracy: 7.4303e-04 - loss: 0.0036 - mean_absolute_error: 0.0561 - mean_squared_error: 0.0069\n",
            "Epoch 70/150\n",
            "\u001b[1m41/41\u001b[0m \u001b[32m━━━━━━━━━━━━━━━━━━━━\u001b[0m\u001b[37m\u001b[0m \u001b[1m7s\u001b[0m 164ms/step - accuracy: 0.0021 - loss: 0.0033 - mean_absolute_error: 0.0559 - mean_squared_error: 0.0068\n",
            "Epoch 71/150\n",
            "\u001b[1m41/41\u001b[0m \u001b[32m━━━━━━━━━━━━━━━━━━━━\u001b[0m\u001b[37m\u001b[0m \u001b[1m7s\u001b[0m 164ms/step - accuracy: 0.0012 - loss: 0.0034 - mean_absolute_error: 0.0557 - mean_squared_error: 0.0068\n",
            "Epoch 72/150\n",
            "\u001b[1m41/41\u001b[0m \u001b[32m━━━━━━━━━━━━━━━━━━━━\u001b[0m\u001b[37m\u001b[0m \u001b[1m7s\u001b[0m 172ms/step - accuracy: 0.0021 - loss: 0.0035 - mean_absolute_error: 0.0555 - mean_squared_error: 0.0067\n",
            "Epoch 73/150\n",
            "\u001b[1m41/41\u001b[0m \u001b[32m━━━━━━━━━━━━━━━━━━━━\u001b[0m\u001b[37m\u001b[0m \u001b[1m8s\u001b[0m 197ms/step - accuracy: 0.0012 - loss: 0.0034 - mean_absolute_error: 0.0554 - mean_squared_error: 0.0067\n",
            "Epoch 74/150\n",
            "\u001b[1m41/41\u001b[0m \u001b[32m━━━━━━━━━━━━━━━━━━━━\u001b[0m\u001b[37m\u001b[0m \u001b[1m8s\u001b[0m 188ms/step - accuracy: 6.3368e-04 - loss: 0.0034 - mean_absolute_error: 0.0552 - mean_squared_error: 0.0067\n",
            "Epoch 75/150\n",
            "\u001b[1m41/41\u001b[0m \u001b[32m━━━━━━━━━━━━━━━━━━━━\u001b[0m\u001b[37m\u001b[0m \u001b[1m7s\u001b[0m 173ms/step - accuracy: 5.2407e-04 - loss: 0.0037 - mean_absolute_error: 0.0550 - mean_squared_error: 0.0066\n",
            "Epoch 76/150\n",
            "\u001b[1m41/41\u001b[0m \u001b[32m━━━━━━━━━━━━━━━━━━━━\u001b[0m\u001b[37m\u001b[0m \u001b[1m7s\u001b[0m 170ms/step - accuracy: 0.0017 - loss: 0.0031 - mean_absolute_error: 0.0548 - mean_squared_error: 0.0066\n",
            "Epoch 77/150\n",
            "\u001b[1m41/41\u001b[0m \u001b[32m━━━━━━━━━━━━━━━━━━━━\u001b[0m\u001b[37m\u001b[0m \u001b[1m8s\u001b[0m 186ms/step - accuracy: 8.2189e-04 - loss: 0.0029 - mean_absolute_error: 0.0546 - mean_squared_error: 0.0065\n",
            "Epoch 78/150\n",
            "\u001b[1m41/41\u001b[0m \u001b[32m━━━━━━━━━━━━━━━━━━━━\u001b[0m\u001b[37m\u001b[0m \u001b[1m7s\u001b[0m 166ms/step - accuracy: 0.0011 - loss: 0.0032 - mean_absolute_error: 0.0545 - mean_squared_error: 0.0065\n",
            "Epoch 79/150\n",
            "\u001b[1m41/41\u001b[0m \u001b[32m━━━━━━━━━━━━━━━━━━━━\u001b[0m\u001b[37m\u001b[0m \u001b[1m7s\u001b[0m 168ms/step - accuracy: 2.9741e-04 - loss: 0.0035 - mean_absolute_error: 0.0543 - mean_squared_error: 0.0064\n",
            "Epoch 80/150\n",
            "\u001b[1m41/41\u001b[0m \u001b[32m━━━━━━━━━━━━━━━━━━━━\u001b[0m\u001b[37m\u001b[0m \u001b[1m7s\u001b[0m 173ms/step - accuracy: 4.0693e-04 - loss: 0.0028 - mean_absolute_error: 0.0541 - mean_squared_error: 0.0064\n",
            "Epoch 81/150\n",
            "\u001b[1m41/41\u001b[0m \u001b[32m━━━━━━━━━━━━━━━━━━━━\u001b[0m\u001b[37m\u001b[0m \u001b[1m7s\u001b[0m 169ms/step - accuracy: 0.0029 - loss: 0.0035 - mean_absolute_error: 0.0539 - mean_squared_error: 0.0064\n",
            "Epoch 82/150\n",
            "\u001b[1m41/41\u001b[0m \u001b[32m━━━━━━━━━━━━━━━━━━━━\u001b[0m\u001b[37m\u001b[0m \u001b[1m7s\u001b[0m 169ms/step - accuracy: 0.0017 - loss: 0.0034 - mean_absolute_error: 0.0538 - mean_squared_error: 0.0063\n",
            "Epoch 83/150\n",
            "\u001b[1m41/41\u001b[0m \u001b[32m━━━━━━━━━━━━━━━━━━━━\u001b[0m\u001b[37m\u001b[0m \u001b[1m10s\u001b[0m 164ms/step - accuracy: 0.0025 - loss: 0.0028 - mean_absolute_error: 0.0536 - mean_squared_error: 0.0063\n",
            "Epoch 84/150\n",
            "\u001b[1m41/41\u001b[0m \u001b[32m━━━━━━━━━━━━━━━━━━━━\u001b[0m\u001b[37m\u001b[0m \u001b[1m7s\u001b[0m 178ms/step - accuracy: 0.0010 - loss: 0.0029 - mean_absolute_error: 0.0535 - mean_squared_error: 0.0062    \n",
            "Epoch 85/150\n",
            "\u001b[1m41/41\u001b[0m \u001b[32m━━━━━━━━━━━━━━━━━━━━\u001b[0m\u001b[37m\u001b[0m \u001b[1m8s\u001b[0m 206ms/step - accuracy: 0.0017 - loss: 0.0038 - mean_absolute_error: 0.0533 - mean_squared_error: 0.0062\n",
            "Epoch 86/150\n",
            "\u001b[1m41/41\u001b[0m \u001b[32m━━━━━━━━━━━━━━━━━━━━\u001b[0m\u001b[37m\u001b[0m \u001b[1m9s\u001b[0m 163ms/step - accuracy: 2.5508e-04 - loss: 0.0033 - mean_absolute_error: 0.0532 - mean_squared_error: 0.0062\n",
            "Epoch 87/150\n",
            "\u001b[1m41/41\u001b[0m \u001b[32m━━━━━━━━━━━━━━━━━━━━\u001b[0m\u001b[37m\u001b[0m \u001b[1m7s\u001b[0m 164ms/step - accuracy: 0.0037 - loss: 0.0031 - mean_absolute_error: 0.0530 - mean_squared_error: 0.0061\n",
            "Epoch 88/150\n",
            "\u001b[1m41/41\u001b[0m \u001b[32m━━━━━━━━━━━━━━━━━━━━\u001b[0m\u001b[37m\u001b[0m \u001b[1m8s\u001b[0m 192ms/step - accuracy: 2.0738e-04 - loss: 0.0033 - mean_absolute_error: 0.0529 - mean_squared_error: 0.0061\n",
            "Epoch 89/150\n",
            "\u001b[1m41/41\u001b[0m \u001b[32m━━━━━━━━━━━━━━━━━━━━\u001b[0m\u001b[37m\u001b[0m \u001b[1m7s\u001b[0m 182ms/step - accuracy: 0.0019 - loss: 0.0029 - mean_absolute_error: 0.0527 - mean_squared_error: 0.0061\n",
            "Epoch 90/150\n",
            "\u001b[1m41/41\u001b[0m \u001b[32m━━━━━━━━━━━━━━━━━━━━\u001b[0m\u001b[37m\u001b[0m \u001b[1m10s\u001b[0m 239ms/step - accuracy: 6.7633e-04 - loss: 0.0031 - mean_absolute_error: 0.0526 - mean_squared_error: 0.0060\n",
            "Epoch 91/150\n",
            "\u001b[1m41/41\u001b[0m \u001b[32m━━━━━━━━━━━━━━━━━━━━\u001b[0m\u001b[37m\u001b[0m \u001b[1m9s\u001b[0m 211ms/step - accuracy: 0.0017 - loss: 0.0030 - mean_absolute_error: 0.0525 - mean_squared_error: 0.0060\n",
            "Epoch 92/150\n",
            "\u001b[1m41/41\u001b[0m \u001b[32m━━━━━━━━━━━━━━━━━━━━\u001b[0m\u001b[37m\u001b[0m \u001b[1m7s\u001b[0m 182ms/step - accuracy: 0.0016 - loss: 0.0032 - mean_absolute_error: 0.0523 - mean_squared_error: 0.0060\n",
            "Epoch 93/150\n",
            "\u001b[1m41/41\u001b[0m \u001b[32m━━━━━━━━━━━━━━━━━━━━\u001b[0m\u001b[37m\u001b[0m \u001b[1m8s\u001b[0m 185ms/step - accuracy: 5.1006e-04 - loss: 0.0028 - mean_absolute_error: 0.0522 - mean_squared_error: 0.0059\n",
            "Epoch 94/150\n",
            "\u001b[1m41/41\u001b[0m \u001b[32m━━━━━━━━━━━━━━━━━━━━\u001b[0m\u001b[37m\u001b[0m \u001b[1m7s\u001b[0m 166ms/step - accuracy: 0.0010 - loss: 0.0028 - mean_absolute_error: 0.0521 - mean_squared_error: 0.0059   \n",
            "Epoch 95/150\n",
            "\u001b[1m41/41\u001b[0m \u001b[32m━━━━━━━━━━━━━━━━━━━━\u001b[0m\u001b[37m\u001b[0m \u001b[1m10s\u001b[0m 168ms/step - accuracy: 0.0013 - loss: 0.0028 - mean_absolute_error: 0.0519 - mean_squared_error: 0.0059\n",
            "Epoch 96/150\n",
            "\u001b[1m41/41\u001b[0m \u001b[32m━━━━━━━━━━━━━━━━━━━━\u001b[0m\u001b[37m\u001b[0m \u001b[1m7s\u001b[0m 169ms/step - accuracy: 0.0026 - loss: 0.0026 - mean_absolute_error: 0.0518 - mean_squared_error: 0.0058\n",
            "Epoch 97/150\n",
            "\u001b[1m41/41\u001b[0m \u001b[32m━━━━━━━━━━━━━━━━━━━━\u001b[0m\u001b[37m\u001b[0m \u001b[1m7s\u001b[0m 165ms/step - accuracy: 0.0019 - loss: 0.0030 - mean_absolute_error: 0.0517 - mean_squared_error: 0.0058\n",
            "Epoch 98/150\n",
            "\u001b[1m41/41\u001b[0m \u001b[32m━━━━━━━━━━━━━━━━━━━━\u001b[0m\u001b[37m\u001b[0m \u001b[1m7s\u001b[0m 172ms/step - accuracy: 0.0023 - loss: 0.0031 - mean_absolute_error: 0.0515 - mean_squared_error: 0.0058\n",
            "Epoch 99/150\n",
            "\u001b[1m41/41\u001b[0m \u001b[32m━━━━━━━━━━━━━━━━━━━━\u001b[0m\u001b[37m\u001b[0m \u001b[1m7s\u001b[0m 167ms/step - accuracy: 0.0023 - loss: 0.0034 - mean_absolute_error: 0.0514 - mean_squared_error: 0.0058\n",
            "Epoch 100/150\n",
            "\u001b[1m41/41\u001b[0m \u001b[32m━━━━━━━━━━━━━━━━━━━━\u001b[0m\u001b[37m\u001b[0m \u001b[1m7s\u001b[0m 167ms/step - accuracy: 0.0010 - loss: 0.0031 - mean_absolute_error: 0.0513 - mean_squared_error: 0.0057   \n",
            "Epoch 101/150\n",
            "\u001b[1m41/41\u001b[0m \u001b[32m━━━━━━━━━━━━━━━━━━━━\u001b[0m\u001b[37m\u001b[0m \u001b[1m7s\u001b[0m 179ms/step - accuracy: 0.0012 - loss: 0.0026 - mean_absolute_error: 0.0512 - mean_squared_error: 0.0057\n",
            "Epoch 102/150\n",
            "\u001b[1m41/41\u001b[0m \u001b[32m━━━━━━━━━━━━━━━━━━━━\u001b[0m\u001b[37m\u001b[0m \u001b[1m7s\u001b[0m 166ms/step - accuracy: 3.7937e-04 - loss: 0.0030 - mean_absolute_error: 0.0511 - mean_squared_error: 0.0057\n",
            "Epoch 103/150\n",
            "\u001b[1m41/41\u001b[0m \u001b[32m━━━━━━━━━━━━━━━━━━━━\u001b[0m\u001b[37m\u001b[0m \u001b[1m7s\u001b[0m 167ms/step - accuracy: 0.0029 - loss: 0.0027 - mean_absolute_error: 0.0510 - mean_squared_error: 0.0056\n",
            "Epoch 104/150\n",
            "\u001b[1m41/41\u001b[0m \u001b[32m━━━━━━━━━━━━━━━━━━━━\u001b[0m\u001b[37m\u001b[0m \u001b[1m7s\u001b[0m 172ms/step - accuracy: 2.6942e-04 - loss: 0.0028 - mean_absolute_error: 0.0509 - mean_squared_error: 0.0056\n",
            "Epoch 105/150\n",
            "\u001b[1m41/41\u001b[0m \u001b[32m━━━━━━━━━━━━━━━━━━━━\u001b[0m\u001b[37m\u001b[0m \u001b[1m7s\u001b[0m 164ms/step - accuracy: 0.0012 - loss: 0.0030 - mean_absolute_error: 0.0508 - mean_squared_error: 0.0056\n",
            "Epoch 106/150\n",
            "\u001b[1m41/41\u001b[0m \u001b[32m━━━━━━━━━━━━━━━━━━━━\u001b[0m\u001b[37m\u001b[0m \u001b[1m7s\u001b[0m 167ms/step - accuracy: 0.0019 - loss: 0.0030 - mean_absolute_error: 0.0507 - mean_squared_error: 0.0056\n",
            "Epoch 107/150\n",
            "\u001b[1m41/41\u001b[0m \u001b[32m━━━━━━━━━━━━━━━━━━━━\u001b[0m\u001b[37m\u001b[0m \u001b[1m7s\u001b[0m 168ms/step - accuracy: 0.0012 - loss: 0.0032 - mean_absolute_error: 0.0506 - mean_squared_error: 0.0056\n",
            "Epoch 108/150\n",
            "\u001b[1m41/41\u001b[0m \u001b[32m━━━━━━━━━━━━━━━━━━━━\u001b[0m\u001b[37m\u001b[0m \u001b[1m7s\u001b[0m 170ms/step - accuracy: 4.2783e-04 - loss: 0.0030 - mean_absolute_error: 0.0505 - mean_squared_error: 0.0055\n",
            "Epoch 109/150\n",
            "\u001b[1m41/41\u001b[0m \u001b[32m━━━━━━━━━━━━━━━━━━━━\u001b[0m\u001b[37m\u001b[0m \u001b[1m11s\u001b[0m 183ms/step - accuracy: 0.0022 - loss: 0.0029 - mean_absolute_error: 0.0504 - mean_squared_error: 0.0055\n",
            "Epoch 110/150\n",
            "\u001b[1m41/41\u001b[0m \u001b[32m━━━━━━━━━━━━━━━━━━━━\u001b[0m\u001b[37m\u001b[0m \u001b[1m7s\u001b[0m 164ms/step - accuracy: 0.0034 - loss: 0.0030 - mean_absolute_error: 0.0503 - mean_squared_error: 0.0055\n",
            "Epoch 111/150\n",
            "\u001b[1m41/41\u001b[0m \u001b[32m━━━━━━━━━━━━━━━━━━━━\u001b[0m\u001b[37m\u001b[0m \u001b[1m7s\u001b[0m 164ms/step - accuracy: 2.0847e-04 - loss: 0.0024 - mean_absolute_error: 0.0502 - mean_squared_error: 0.0055\n",
            "Epoch 112/150\n",
            "\u001b[1m41/41\u001b[0m \u001b[32m━━━━━━━━━━━━━━━━━━━━\u001b[0m\u001b[37m\u001b[0m \u001b[1m7s\u001b[0m 175ms/step - accuracy: 0.0017 - loss: 0.0027 - mean_absolute_error: 0.0501 - mean_squared_error: 0.0054\n",
            "Epoch 113/150\n",
            "\u001b[1m41/41\u001b[0m \u001b[32m━━━━━━━━━━━━━━━━━━━━\u001b[0m\u001b[37m\u001b[0m \u001b[1m7s\u001b[0m 171ms/step - accuracy: 0.0010 - loss: 0.0031 - mean_absolute_error: 0.0500 - mean_squared_error: 0.0054  \n",
            "Epoch 114/150\n",
            "\u001b[1m41/41\u001b[0m \u001b[32m━━━━━━━━━━━━━━━━━━━━\u001b[0m\u001b[37m\u001b[0m \u001b[1m7s\u001b[0m 167ms/step - accuracy: 0.0013 - loss: 0.0028 - mean_absolute_error: 0.0500 - mean_squared_error: 0.0054\n",
            "Epoch 115/150\n",
            "\u001b[1m41/41\u001b[0m \u001b[32m━━━━━━━━━━━━━━━━━━━━\u001b[0m\u001b[37m\u001b[0m \u001b[1m7s\u001b[0m 175ms/step - accuracy: 0.0021 - loss: 0.0035 - mean_absolute_error: 0.0499 - mean_squared_error: 0.0054\n",
            "Epoch 116/150\n",
            "\u001b[1m41/41\u001b[0m \u001b[32m━━━━━━━━━━━━━━━━━━━━\u001b[0m\u001b[37m\u001b[0m \u001b[1m9s\u001b[0m 209ms/step - accuracy: 5.1498e-04 - loss: 0.0029 - mean_absolute_error: 0.0498 - mean_squared_error: 0.0053\n",
            "Epoch 117/150\n",
            "\u001b[1m41/41\u001b[0m \u001b[32m━━━━━━━━━━━━━━━━━━━━\u001b[0m\u001b[37m\u001b[0m \u001b[1m8s\u001b[0m 205ms/step - accuracy: 2.4816e-04 - loss: 0.0028 - mean_absolute_error: 0.0497 - mean_squared_error: 0.0053\n",
            "Epoch 118/150\n",
            "\u001b[1m41/41\u001b[0m \u001b[32m━━━━━━━━━━━━━━━━━━━━\u001b[0m\u001b[37m\u001b[0m \u001b[1m7s\u001b[0m 168ms/step - accuracy: 8.1814e-04 - loss: 0.0032 - mean_absolute_error: 0.0496 - mean_squared_error: 0.0053\n",
            "Epoch 119/150\n",
            "\u001b[1m41/41\u001b[0m \u001b[32m━━━━━━━━━━━━━━━━━━━━\u001b[0m\u001b[37m\u001b[0m \u001b[1m7s\u001b[0m 174ms/step - accuracy: 0.0023 - loss: 0.0027 - mean_absolute_error: 0.0495 - mean_squared_error: 0.0053\n",
            "Epoch 120/150\n",
            "\u001b[1m41/41\u001b[0m \u001b[32m━━━━━━━━━━━━━━━━━━━━\u001b[0m\u001b[37m\u001b[0m \u001b[1m9s\u001b[0m 209ms/step - accuracy: 3.8591e-04 - loss: 0.0027 - mean_absolute_error: 0.0494 - mean_squared_error: 0.0053\n",
            "Epoch 121/150\n",
            "\u001b[1m41/41\u001b[0m \u001b[32m━━━━━━━━━━━━━━━━━━━━\u001b[0m\u001b[37m\u001b[0m \u001b[1m8s\u001b[0m 184ms/step - accuracy: 2.5508e-04 - loss: 0.0030 - mean_absolute_error: 0.0494 - mean_squared_error: 0.0052\n",
            "Epoch 122/150\n",
            "\u001b[1m41/41\u001b[0m \u001b[32m━━━━━━━━━━━━━━━━━━━━\u001b[0m\u001b[37m\u001b[0m \u001b[1m9s\u001b[0m 218ms/step - accuracy: 5.4773e-04 - loss: 0.0027 - mean_absolute_error: 0.0493 - mean_squared_error: 0.0052\n",
            "Epoch 123/150\n",
            "\u001b[1m41/41\u001b[0m \u001b[32m━━━━━━━━━━━━━━━━━━━━\u001b[0m\u001b[37m\u001b[0m \u001b[1m11s\u001b[0m 256ms/step - accuracy: 0.0024 - loss: 0.0026 - mean_absolute_error: 0.0492 - mean_squared_error: 0.0052\n",
            "Epoch 124/150\n",
            "\u001b[1m41/41\u001b[0m \u001b[32m━━━━━━━━━━━━━━━━━━━━\u001b[0m\u001b[37m\u001b[0m \u001b[1m9s\u001b[0m 224ms/step - accuracy: 4.4670e-04 - loss: 0.0028 - mean_absolute_error: 0.0491 - mean_squared_error: 0.0052\n",
            "Epoch 125/150\n",
            "\u001b[1m41/41\u001b[0m \u001b[32m━━━━━━━━━━━━━━━━━━━━\u001b[0m\u001b[37m\u001b[0m \u001b[1m9s\u001b[0m 216ms/step - accuracy: 0.0033 - loss: 0.0029 - mean_absolute_error: 0.0490 - mean_squared_error: 0.0052\n",
            "Epoch 126/150\n",
            "\u001b[1m41/41\u001b[0m \u001b[32m━━━━━━━━━━━━━━━━━━━━\u001b[0m\u001b[37m\u001b[0m \u001b[1m8s\u001b[0m 198ms/step - accuracy: 0.0019 - loss: 0.0026 - mean_absolute_error: 0.0489 - mean_squared_error: 0.0051\n",
            "Epoch 127/150\n",
            "\u001b[1m41/41\u001b[0m \u001b[32m━━━━━━━━━━━━━━━━━━━━\u001b[0m\u001b[37m\u001b[0m \u001b[1m8s\u001b[0m 197ms/step - accuracy: 9.7124e-04 - loss: 0.0028 - mean_absolute_error: 0.0488 - mean_squared_error: 0.0051\n",
            "Epoch 128/150\n",
            "\u001b[1m41/41\u001b[0m \u001b[32m━━━━━━━━━━━━━━━━━━━━\u001b[0m\u001b[37m\u001b[0m \u001b[1m8s\u001b[0m 194ms/step - accuracy: 0.0029 - loss: 0.0028 - mean_absolute_error: 0.0488 - mean_squared_error: 0.0051\n",
            "Epoch 129/150\n",
            "\u001b[1m41/41\u001b[0m \u001b[32m━━━━━━━━━━━━━━━━━━━━\u001b[0m\u001b[37m\u001b[0m \u001b[1m8s\u001b[0m 197ms/step - accuracy: 0.0047 - loss: 0.0030 - mean_absolute_error: 0.0487 - mean_squared_error: 0.0051\n",
            "Epoch 130/150\n",
            "\u001b[1m41/41\u001b[0m \u001b[32m━━━━━━━━━━━━━━━━━━━━\u001b[0m\u001b[37m\u001b[0m \u001b[1m8s\u001b[0m 204ms/step - accuracy: 0.0035 - loss: 0.0027 - mean_absolute_error: 0.0486 - mean_squared_error: 0.0051\n",
            "Epoch 131/150\n",
            "\u001b[1m41/41\u001b[0m \u001b[32m━━━━━━━━━━━━━━━━━━━━\u001b[0m\u001b[37m\u001b[0m \u001b[1m9s\u001b[0m 209ms/step - accuracy: 0.0027 - loss: 0.0028 - mean_absolute_error: 0.0485 - mean_squared_error: 0.0051\n",
            "Epoch 132/150\n",
            "\u001b[1m41/41\u001b[0m \u001b[32m━━━━━━━━━━━━━━━━━━━━\u001b[0m\u001b[37m\u001b[0m \u001b[1m10s\u001b[0m 202ms/step - accuracy: 4.7420e-04 - loss: 0.0026 - mean_absolute_error: 0.0485 - mean_squared_error: 0.0050\n",
            "Epoch 133/150\n",
            "\u001b[1m41/41\u001b[0m \u001b[32m━━━━━━━━━━━━━━━━━━━━\u001b[0m\u001b[37m\u001b[0m \u001b[1m8s\u001b[0m 202ms/step - accuracy: 0.0010 - loss: 0.0027 - mean_absolute_error: 0.0484 - mean_squared_error: 0.0050   \n",
            "Epoch 134/150\n",
            "\u001b[1m41/41\u001b[0m \u001b[32m━━━━━━━━━━━━━━━━━━━━\u001b[0m\u001b[37m\u001b[0m \u001b[1m8s\u001b[0m 188ms/step - accuracy: 4.4972e-04 - loss: 0.0027 - mean_absolute_error: 0.0483 - mean_squared_error: 0.0050\n",
            "Epoch 135/150\n",
            "\u001b[1m41/41\u001b[0m \u001b[32m━━━━━━━━━━━━━━━━━━━━\u001b[0m\u001b[37m\u001b[0m \u001b[1m8s\u001b[0m 194ms/step - accuracy: 0.0029 - loss: 0.0032 - mean_absolute_error: 0.0482 - mean_squared_error: 0.0050\n",
            "Epoch 136/150\n",
            "\u001b[1m41/41\u001b[0m \u001b[32m━━━━━━━━━━━━━━━━━━━━\u001b[0m\u001b[37m\u001b[0m \u001b[1m8s\u001b[0m 188ms/step - accuracy: 9.4728e-04 - loss: 0.0027 - mean_absolute_error: 0.0482 - mean_squared_error: 0.0050\n",
            "Epoch 137/150\n",
            "\u001b[1m41/41\u001b[0m \u001b[32m━━━━━━━━━━━━━━━━━━━━\u001b[0m\u001b[37m\u001b[0m \u001b[1m8s\u001b[0m 193ms/step - accuracy: 0.0024 - loss: 0.0027 - mean_absolute_error: 0.0481 - mean_squared_error: 0.0050\n",
            "Epoch 138/150\n",
            "\u001b[1m41/41\u001b[0m \u001b[32m━━━━━━━━━━━━━━━━━━━━\u001b[0m\u001b[37m\u001b[0m \u001b[1m8s\u001b[0m 199ms/step - accuracy: 0.0012 - loss: 0.0028 - mean_absolute_error: 0.0480 - mean_squared_error: 0.0049\n",
            "Epoch 139/150\n",
            "\u001b[1m41/41\u001b[0m \u001b[32m━━━━━━━━━━━━━━━━━━━━\u001b[0m\u001b[37m\u001b[0m \u001b[1m8s\u001b[0m 196ms/step - accuracy: 0.0018 - loss: 0.0028 - mean_absolute_error: 0.0480 - mean_squared_error: 0.0049\n",
            "Epoch 140/150\n",
            "\u001b[1m41/41\u001b[0m \u001b[32m━━━━━━━━━━━━━━━━━━━━\u001b[0m\u001b[37m\u001b[0m \u001b[1m8s\u001b[0m 202ms/step - accuracy: 8.2189e-04 - loss: 0.0028 - mean_absolute_error: 0.0479 - mean_squared_error: 0.0049\n",
            "Epoch 141/150\n",
            "\u001b[1m41/41\u001b[0m \u001b[32m━━━━━━━━━━━━━━━━━━━━\u001b[0m\u001b[37m\u001b[0m \u001b[1m10s\u001b[0m 192ms/step - accuracy: 0.0020 - loss: 0.0028 - mean_absolute_error: 0.0478 - mean_squared_error: 0.0049\n",
            "Epoch 142/150\n",
            "\u001b[1m41/41\u001b[0m \u001b[32m━━━━━━━━━━━━━━━━━━━━\u001b[0m\u001b[37m\u001b[0m \u001b[1m8s\u001b[0m 202ms/step - accuracy: 0.0017 - loss: 0.0026 - mean_absolute_error: 0.0478 - mean_squared_error: 0.0049\n",
            "Epoch 143/150\n",
            "\u001b[1m41/41\u001b[0m \u001b[32m━━━━━━━━━━━━━━━━━━━━\u001b[0m\u001b[37m\u001b[0m \u001b[1m8s\u001b[0m 197ms/step - accuracy: 0.0031 - loss: 0.0027 - mean_absolute_error: 0.0477 - mean_squared_error: 0.0049\n",
            "Epoch 144/150\n",
            "\u001b[1m41/41\u001b[0m \u001b[32m━━━━━━━━━━━━━━━━━━━━\u001b[0m\u001b[37m\u001b[0m \u001b[1m8s\u001b[0m 203ms/step - accuracy: 0.0018 - loss: 0.0035 - mean_absolute_error: 0.0476 - mean_squared_error: 0.0048\n",
            "Epoch 145/150\n",
            "\u001b[1m41/41\u001b[0m \u001b[32m━━━━━━━━━━━━━━━━━━━━\u001b[0m\u001b[37m\u001b[0m \u001b[1m10s\u001b[0m 235ms/step - accuracy: 4.1156e-04 - loss: 0.0026 - mean_absolute_error: 0.0476 - mean_squared_error: 0.0048\n",
            "Epoch 146/150\n",
            "\u001b[1m41/41\u001b[0m \u001b[32m━━━━━━━━━━━━━━━━━━━━\u001b[0m\u001b[37m\u001b[0m \u001b[1m9s\u001b[0m 225ms/step - accuracy: 2.4931e-04 - loss: 0.0028 - mean_absolute_error: 0.0475 - mean_squared_error: 0.0048\n",
            "Epoch 147/150\n",
            "\u001b[1m41/41\u001b[0m \u001b[32m━━━━━━━━━━━━━━━━━━━━\u001b[0m\u001b[37m\u001b[0m \u001b[1m8s\u001b[0m 196ms/step - accuracy: 0.0015 - loss: 0.0024 - mean_absolute_error: 0.0475 - mean_squared_error: 0.0048\n",
            "Epoch 148/150\n",
            "\u001b[1m41/41\u001b[0m \u001b[32m━━━━━━━━━━━━━━━━━━━━\u001b[0m\u001b[37m\u001b[0m \u001b[1m8s\u001b[0m 190ms/step - accuracy: 6.8505e-04 - loss: 0.0027 - mean_absolute_error: 0.0474 - mean_squared_error: 0.0048\n",
            "Epoch 149/150\n",
            "\u001b[1m41/41\u001b[0m \u001b[32m━━━━━━━━━━━━━━━━━━━━\u001b[0m\u001b[37m\u001b[0m \u001b[1m8s\u001b[0m 192ms/step - accuracy: 9.5100e-04 - loss: 0.0029 - mean_absolute_error: 0.0473 - mean_squared_error: 0.0048\n",
            "Epoch 150/150\n",
            "\u001b[1m41/41\u001b[0m \u001b[32m━━━━━━━━━━━━━━━━━━━━\u001b[0m\u001b[37m\u001b[0m \u001b[1m10s\u001b[0m 190ms/step - accuracy: 4.2600e-04 - loss: 0.0027 - mean_absolute_error: 0.0473 - mean_squared_error: 0.0048\n"
          ]
        },
        {
          "data": {
            "text/plain": [
              "<keras.src.callbacks.history.History at 0x2981b97bdd0>"
            ]
          },
          "execution_count": 24,
          "metadata": {},
          "output_type": "execute_result"
        }
      ],
      "source": [
        "# Try importing AbstractRNNCell from tensorflow.python.keras.layers instead\n",
        "\n",
        "from tensorflow.python.keras.layers import AbstractRNNCell\n",
        "\n",
        "# Remove the incorrect import and keep the original correct one\n",
        "# from tensorflow.python.keras.layers import Dense, Dropout, LSTM, BatchNormalization\n",
        "from tensorflow.keras.layers import Dense, Dropout, LSTM, BatchNormalization # This line was already in a previous cell, keep it\n",
        "from tensorflow.python.keras.callbacks import TensorBoard\n",
        "from tensorflow.python.keras.callbacks import ModelCheckpoint\n",
        "\n",
        "from tensorflow.python.keras.initializers import Orthogonal\n",
        "from tensorflow.python.keras.metrics import MeanSquaredError, MeanAbsoluteError\n",
        "\n",
        "model.compile(optimizer=opt,\n",
        "              loss='mean_squared_error',  # Retain MSE for regression\n",
        "              metrics=['accuracy',  # Include accuracy for reference (optional)\n",
        "                       MeanSquaredError(),\n",
        "                       MeanAbsoluteError()])\n",
        "\n",
        "model.fit(x_train,y_train,epochs=150)"
      ]
    },
    {
      "cell_type": "code",
      "execution_count": 25,
      "metadata": {
        "colab": {
          "base_uri": "https://localhost:8080/"
        },
        "id": "LZtdL6iHHoMA",
        "outputId": "49f096c8-ba60-441f-a289-4aca0e0f9214"
      },
      "outputs": [
        {
          "name": "stderr",
          "output_type": "stream",
          "text": [
            "WARNING:absl:You are saving your model as an HDF5 file via `model.save()` or `keras.saving.save_model(model)`. This file format is considered legacy. We recommend using instead the native Keras format, e.g. `model.save('my_model.keras')` or `keras.saving.save_model(model, 'my_model.keras')`. \n"
          ]
        }
      ],
      "source": [
        "model.save('8_15_23_150_LXg.h5')"
      ]
    },
    {
      "cell_type": "code",
      "execution_count": 26,
      "metadata": {},
      "outputs": [],
      "source": [
        "model.save('my_model.keras')"
      ]
    },
    {
      "cell_type": "code",
      "execution_count": 27,
      "metadata": {
        "colab": {
          "base_uri": "https://localhost:8080/",
          "height": 206
        },
        "id": "w6KaeZCQHufr",
        "outputId": "011e0393-46b4-4824-cb91-4e1a9b5012df"
      },
      "outputs": [
        {
          "data": {
            "text/html": [
              "<div>\n",
              "<style scoped>\n",
              "    .dataframe tbody tr th:only-of-type {\n",
              "        vertical-align: middle;\n",
              "    }\n",
              "\n",
              "    .dataframe tbody tr th {\n",
              "        vertical-align: top;\n",
              "    }\n",
              "\n",
              "    .dataframe thead th {\n",
              "        text-align: right;\n",
              "    }\n",
              "</style>\n",
              "<table border=\"1\" class=\"dataframe\">\n",
              "  <thead>\n",
              "    <tr style=\"text-align: right;\">\n",
              "      <th></th>\n",
              "      <th>Close</th>\n",
              "    </tr>\n",
              "  </thead>\n",
              "  <tbody>\n",
              "    <tr>\n",
              "      <th>1409</th>\n",
              "      <td>73.0102</td>\n",
              "    </tr>\n",
              "    <tr>\n",
              "      <th>1410</th>\n",
              "      <td>73.0024</td>\n",
              "    </tr>\n",
              "    <tr>\n",
              "      <th>1411</th>\n",
              "      <td>73.3138</td>\n",
              "    </tr>\n",
              "    <tr>\n",
              "      <th>1412</th>\n",
              "      <td>73.3520</td>\n",
              "    </tr>\n",
              "    <tr>\n",
              "      <th>1413</th>\n",
              "      <td>72.4482</td>\n",
              "    </tr>\n",
              "  </tbody>\n",
              "</table>\n",
              "</div>"
            ],
            "text/plain": [
              "        Close\n",
              "1409  73.0102\n",
              "1410  73.0024\n",
              "1411  73.3138\n",
              "1412  73.3520\n",
              "1413  72.4482"
            ]
          },
          "execution_count": 27,
          "metadata": {},
          "output_type": "execute_result"
        }
      ],
      "source": [
        "data_testing.head()"
      ]
    },
    {
      "cell_type": "code",
      "execution_count": 28,
      "metadata": {
        "colab": {
          "base_uri": "https://localhost:8080/",
          "height": 206
        },
        "id": "Ve8KnrCaHwxh",
        "outputId": "a9501bcc-14ad-4905-90f2-70b919fe409a"
      },
      "outputs": [
        {
          "data": {
            "text/html": [
              "<div>\n",
              "<style scoped>\n",
              "    .dataframe tbody tr th:only-of-type {\n",
              "        vertical-align: middle;\n",
              "    }\n",
              "\n",
              "    .dataframe tbody tr th {\n",
              "        vertical-align: top;\n",
              "    }\n",
              "\n",
              "    .dataframe thead th {\n",
              "        text-align: right;\n",
              "    }\n",
              "</style>\n",
              "<table border=\"1\" class=\"dataframe\">\n",
              "  <thead>\n",
              "    <tr style=\"text-align: right;\">\n",
              "      <th></th>\n",
              "      <th>Close</th>\n",
              "    </tr>\n",
              "  </thead>\n",
              "  <tbody>\n",
              "    <tr>\n",
              "      <th>0</th>\n",
              "      <td>134.10</td>\n",
              "    </tr>\n",
              "    <tr>\n",
              "      <th>1</th>\n",
              "      <td>133.22</td>\n",
              "    </tr>\n",
              "    <tr>\n",
              "      <th>2</th>\n",
              "      <td>132.46</td>\n",
              "    </tr>\n",
              "    <tr>\n",
              "      <th>3</th>\n",
              "      <td>131.74</td>\n",
              "    </tr>\n",
              "    <tr>\n",
              "      <th>4</th>\n",
              "      <td>131.28</td>\n",
              "    </tr>\n",
              "  </tbody>\n",
              "</table>\n",
              "</div>"
            ],
            "text/plain": [
              "    Close\n",
              "0  134.10\n",
              "1  133.22\n",
              "2  132.46\n",
              "3  131.74\n",
              "4  131.28"
            ]
          },
          "execution_count": 28,
          "metadata": {},
          "output_type": "execute_result"
        }
      ],
      "source": [
        "data_training.head()"
      ]
    },
    {
      "cell_type": "code",
      "execution_count": 29,
      "metadata": {
        "id": "SRF8WNTxHwz6"
      },
      "outputs": [],
      "source": [
        "# We need previous 100 days data and we need to compare and append the list.\n",
        "past_100_days=data_training.tail(100)\n",
        "final_df=pd.concat([past_100_days,data_testing],ignore_index=True)"
      ]
    },
    {
      "cell_type": "code",
      "execution_count": 30,
      "metadata": {
        "colab": {
          "base_uri": "https://localhost:8080/",
          "height": 206
        },
        "id": "GnC7ViwyHw2Z",
        "outputId": "38320add-af85-486f-cec9-55a020fc7ad2"
      },
      "outputs": [
        {
          "data": {
            "text/html": [
              "<div>\n",
              "<style scoped>\n",
              "    .dataframe tbody tr th:only-of-type {\n",
              "        vertical-align: middle;\n",
              "    }\n",
              "\n",
              "    .dataframe tbody tr th {\n",
              "        vertical-align: top;\n",
              "    }\n",
              "\n",
              "    .dataframe thead th {\n",
              "        text-align: right;\n",
              "    }\n",
              "</style>\n",
              "<table border=\"1\" class=\"dataframe\">\n",
              "  <thead>\n",
              "    <tr style=\"text-align: right;\">\n",
              "      <th></th>\n",
              "      <th>Close</th>\n",
              "    </tr>\n",
              "  </thead>\n",
              "  <tbody>\n",
              "    <tr>\n",
              "      <th>0</th>\n",
              "      <td>84.7661</td>\n",
              "    </tr>\n",
              "    <tr>\n",
              "      <th>1</th>\n",
              "      <td>84.4487</td>\n",
              "    </tr>\n",
              "    <tr>\n",
              "      <th>2</th>\n",
              "      <td>84.6383</td>\n",
              "    </tr>\n",
              "    <tr>\n",
              "      <th>3</th>\n",
              "      <td>82.9240</td>\n",
              "    </tr>\n",
              "    <tr>\n",
              "      <th>4</th>\n",
              "      <td>83.0380</td>\n",
              "    </tr>\n",
              "  </tbody>\n",
              "</table>\n",
              "</div>"
            ],
            "text/plain": [
              "     Close\n",
              "0  84.7661\n",
              "1  84.4487\n",
              "2  84.6383\n",
              "3  82.9240\n",
              "4  83.0380"
            ]
          },
          "execution_count": 30,
          "metadata": {},
          "output_type": "execute_result"
        }
      ],
      "source": [
        "final_df.head()"
      ]
    },
    {
      "cell_type": "code",
      "execution_count": 31,
      "metadata": {
        "colab": {
          "base_uri": "https://localhost:8080/"
        },
        "id": "XJQ2pQN3Hw4r",
        "outputId": "78d773b0-59d1-4744-9f81-1661b4a3c3ee"
      },
      "outputs": [
        {
          "data": {
            "text/plain": [
              "array([[1.        ],\n",
              "       [0.99225636],\n",
              "       [0.99688205],\n",
              "       [0.95505813],\n",
              "       [0.95783939],\n",
              "       [0.97579077],\n",
              "       [0.98192664],\n",
              "       [0.96670774],\n",
              "       [0.97746929],\n",
              "       [0.98108738],\n",
              "       [0.95386023],\n",
              "       [0.97451968],\n",
              "       [0.96392647],\n",
              "       [0.936004  ],\n",
              "       [0.93329592],\n",
              "       [0.92907523],\n",
              "       [0.89803725],\n",
              "       [0.90678605],\n",
              "       [0.92179026],\n",
              "       [0.92596216],\n",
              "       [0.91690108],\n",
              "       [0.90302402],\n",
              "       [0.88164241],\n",
              "       [0.85438843],\n",
              "       [0.8407041 ],\n",
              "       [0.84451492],\n",
              "       [0.83909633],\n",
              "       [0.8159191 ],\n",
              "       [0.78720373],\n",
              "       [0.78958   ],\n",
              "       [0.82270149],\n",
              "       [0.81011747],\n",
              "       [0.85606695],\n",
              "       [0.83909633],\n",
              "       [0.84786952],\n",
              "       [0.84343657],\n",
              "       [0.85398343],\n",
              "       [0.86004611],\n",
              "       [0.85223172],\n",
              "       [0.85539603],\n",
              "       [0.85314417],\n",
              "       [0.83356063],\n",
              "       [0.83586128],\n",
              "       [0.83404126],\n",
              "       [0.86421801],\n",
              "       [0.87766325],\n",
              "       [0.87263013],\n",
              "       [0.85019457],\n",
              "       [0.86635032],\n",
              "       [0.89446552],\n",
              "       [0.89762738],\n",
              "       [0.90477085],\n",
              "       [0.89719799],\n",
              "       [0.87279847],\n",
              "       [0.88561914],\n",
              "       [0.88398941],\n",
              "       [0.85817729],\n",
              "       [0.8472718 ],\n",
              "       [0.85290264],\n",
              "       [0.86086097],\n",
              "       [0.87912463],\n",
              "       [0.8472718 ],\n",
              "       [0.83909633],\n",
              "       [0.84554448],\n",
              "       [0.84554448],\n",
              "       [0.84283641],\n",
              "       [0.84957244],\n",
              "       [0.86759701],\n",
              "       [0.88538005],\n",
              "       [0.87303756],\n",
              "       [0.87979799],\n",
              "       [0.88727326],\n",
              "       [0.90117472],\n",
              "       [0.89130122],\n",
              "       [0.89762738],\n",
              "       [0.87809508],\n",
              "       [0.83926467],\n",
              "       [0.83406565],\n",
              "       [0.80633104],\n",
              "       [0.76939629],\n",
              "       [0.75245008],\n",
              "       [0.74454054],\n",
              "       [0.74784879],\n",
              "       [0.74998109],\n",
              "       [0.75834685],\n",
              "       [0.76980373],\n",
              "       [0.73039999],\n",
              "       [0.73845347],\n",
              "       [0.74933457],\n",
              "       [0.753121  ],\n",
              "       [0.74703392],\n",
              "       [0.7465777 ],\n",
              "       [0.70463179],\n",
              "       [0.68298913],\n",
              "       [0.6631421 ],\n",
              "       [0.65961916],\n",
              "       [0.65647926],\n",
              "       [0.6651817 ],\n",
              "       [0.64622028],\n",
              "       [0.682772  ],\n",
              "       [0.71319029],\n",
              "       [0.71299999],\n",
              "       [0.72059724],\n",
              "       [0.72152921],\n",
              "       [0.69947912],\n",
              "       [0.70110885],\n",
              "       [0.68406992],\n",
              "       [0.69046684],\n",
              "       [0.76019127],\n",
              "       [0.75453603],\n",
              "       [0.74578723],\n",
              "       [0.750774  ],\n",
              "       [0.75642924],\n",
              "       [0.7422155 ],\n",
              "       [0.74954926],\n",
              "       [0.74749015],\n",
              "       [0.74954926],\n",
              "       [0.74749015],\n",
              "       [0.73701404],\n",
              "       [0.74868805],\n",
              "       [0.74749015],\n",
              "       [0.76019127],\n",
              "       [0.77723508],\n",
              "       [0.77375849],\n",
              "       [0.75791502],\n",
              "       [0.69576589],\n",
              "       [0.71719141],\n",
              "       [0.69444844],\n",
              "       [0.70901838],\n",
              "       [0.72368835],\n",
              "       [0.69315052],\n",
              "       [0.71402954],\n",
              "       [0.72095588],\n",
              "       [0.72409578],\n",
              "       [0.73039999],\n",
              "       [0.7366554 ],\n",
              "       [0.73056589],\n",
              "       [0.75388951],\n",
              "       [0.74784879],\n",
              "       [0.75448723],\n",
              "       [0.77922344],\n",
              "       [0.76342877],\n",
              "       [0.77030631],\n",
              "       [0.74207156],\n",
              "       [0.74310355],\n",
              "       [0.74518706],\n",
              "       [0.74806348],\n",
              "       [0.74518706],\n",
              "       [0.79993413],\n",
              "       [0.81347451],\n",
              "       [0.8333679 ],\n",
              "       [0.83521476],\n",
              "       [0.83068422],\n",
              "       [0.82756871],\n",
              "       [0.82591459],\n",
              "       [0.83186016],\n",
              "       [0.82440441],\n",
              "       [0.82855191],\n",
              "       [0.83919392],\n",
              "       [0.85740879],\n",
              "       [0.84370006],\n",
              "       [0.87399636],\n",
              "       [0.81213267],\n",
              "       [0.80819986],\n",
              "       [0.80618954],\n",
              "       [0.82277468],\n",
              "       [0.82135965],\n",
              "       [0.8202569 ],\n",
              "       [0.80408163],\n",
              "       [0.81038096],\n",
              "       [0.81148371],\n",
              "       [0.79019969],\n",
              "       [0.76091099],\n",
              "       [0.73706283],\n",
              "       [0.7412323 ],\n",
              "       [0.71549093],\n",
              "       [0.7312856 ],\n",
              "       [0.7322932 ],\n",
              "       [0.74080291],\n",
              "       [0.68708784],\n",
              "       [0.69456555],\n",
              "       [0.68794906],\n",
              "       [0.71697671],\n",
              "       [0.73562585],\n",
              "       [0.73183698],\n",
              "       [0.71697671],\n",
              "       [0.68972517],\n",
              "       [0.66882418],\n",
              "       [0.66800932],\n",
              "       [0.66053161],\n",
              "       [0.67356942],\n",
              "       [0.66549154],\n",
              "       [0.73082938],\n",
              "       [0.72124376],\n",
              "       [0.73876331],\n",
              "       [0.72522293],\n",
              "       [0.72011662],\n",
              "       [0.71879674],\n",
              "       [0.71855764],\n",
              "       [0.73519402],\n",
              "       [0.73183698],\n",
              "       [0.71249497],\n",
              "       [0.70425119],\n",
              "       [0.71685717],\n",
              "       [0.72987301],\n",
              "       [0.7281701 ],\n",
              "       [0.72486185],\n",
              "       [0.72191468],\n",
              "       [0.7174305 ],\n",
              "       [0.69480464],\n",
              "       [0.6845969 ],\n",
              "       [0.7065006 ],\n",
              "       [0.68035181],\n",
              "       [0.68092758],\n",
              "       [0.68035181],\n",
              "       [0.69602937],\n",
              "       [0.68835893],\n",
              "       [0.66668944],\n",
              "       [0.6588287 ],\n",
              "       [0.65000915],\n",
              "       [0.61575564],\n",
              "       [0.61966405],\n",
              "       [0.5862498 ],\n",
              "       [0.56043768],\n",
              "       [0.54802201],\n",
              "       [0.55856887],\n",
              "       [0.55914464],\n",
              "       [0.55238421],\n",
              "       [0.54250826],\n",
              "       [0.53546239],\n",
              "       [0.54183734],\n",
              "       [0.52906303],\n",
              "       [0.56949876],\n",
              "       [0.57266062],\n",
              "       [0.51446625],\n",
              "       [0.5136026 ],\n",
              "       [0.44344633],\n",
              "       [0.37700575],\n",
              "       [0.37391219],\n",
              "       [0.33014626],\n",
              "       [0.34294497],\n",
              "       [0.34915403],\n",
              "       [0.35507276],\n",
              "       [0.36108909],\n",
              "       [0.35797114],\n",
              "       [0.36046452],\n",
              "       [0.3584298 ],\n",
              "       [0.35154982],\n",
              "       [0.35305756],\n",
              "       [0.34527001],\n",
              "       [0.34042963],\n",
              "       [0.3423936 ],\n",
              "       [0.32892397],\n",
              "       [0.31794528],\n",
              "       [0.3251595 ],\n",
              "       [0.32973883],\n",
              "       [0.33776791],\n",
              "       [0.34148359],\n",
              "       [0.34829037],\n",
              "       [0.33736048],\n",
              "       [0.33239811],\n",
              "       [0.32870683],\n",
              "       [0.30622492],\n",
              "       [0.29452895],\n",
              "       [0.29603913],\n",
              "       [0.27681423],\n",
              "       [0.29853008],\n",
              "       [0.29138905],\n",
              "       [0.27949791],\n",
              "       [0.30960391],\n",
              "       [0.31245593],\n",
              "       [0.3011918 ],\n",
              "       [0.29340181],\n",
              "       [0.28788807],\n",
              "       [0.28031521],\n",
              "       [0.29709309],\n",
              "       [0.29213072],\n",
              "       [0.29491199],\n",
              "       [0.30569794],\n",
              "       [0.29733218],\n",
              "       [0.30960391],\n",
              "       [0.30775949],\n",
              "       [0.31348793],\n",
              "       [0.31459068],\n",
              "       [0.30878905],\n",
              "       [0.31471022],\n",
              "       [0.31471022],\n",
              "       [0.3033729 ],\n",
              "       [0.28843944],\n",
              "       [0.28542152],\n",
              "       [0.28304768],\n",
              "       [0.27930761],\n",
              "       [0.27990778],\n",
              "       [0.28113007],\n",
              "       [0.28304768],\n",
              "       [0.2817034 ],\n",
              "       [0.27806336],\n",
              "       [0.27827805],\n",
              "       [0.27010503],\n",
              "       [0.2728863 ],\n",
              "       [0.26921698],\n",
              "       [0.28129841],\n",
              "       [0.2860656 ],\n",
              "       [0.29016431],\n",
              "       [0.25450065],\n",
              "       [0.25646706],\n",
              "       [0.23585152],\n",
              "       [0.23894507],\n",
              "       [0.24239482],\n",
              "       [0.24505654],\n",
              "       [0.24980177],\n",
              "       [0.24572746],\n",
              "       [0.2403357 ],\n",
              "       [0.24378545],\n",
              "       [0.23671518],\n",
              "       [0.24157996],\n",
              "       [0.24016736],\n",
              "       [0.24222892],\n",
              "       [0.24673262],\n",
              "       [0.24548837],\n",
              "       [0.22578528],\n",
              "       [0.22667334],\n",
              "       [0.20761677],\n",
              "       [0.19855813],\n",
              "       [0.17288508],\n",
              "       [0.16495358],\n",
              "       [0.15184015],\n",
              "       [0.18685973],\n",
              "       [0.19508155],\n",
              "       [0.17597863],\n",
              "       [0.14182271],\n",
              "       [0.10299474],\n",
              "       [0.14347683],\n",
              "       [0.23388755],\n",
              "       [0.20670676],\n",
              "       [0.21162033],\n",
              "       [0.19982678],\n",
              "       [0.19788721],\n",
              "       [0.19668688],\n",
              "       [0.1916074 ],\n",
              "       [0.19383486],\n",
              "       [0.21804409],\n",
              "       [0.2296449 ],\n",
              "       [0.24812325],\n",
              "       [0.25836027],\n",
              "       [0.25442746],\n",
              "       [0.2589824 ],\n",
              "       [0.24599095],\n",
              "       [0.26969516],\n",
              "       [0.26729936],\n",
              "       [0.25876526],\n",
              "       [0.2619808 ],\n",
              "       [0.25378338],\n",
              "       [0.26375203],\n",
              "       [0.24378545],\n",
              "       [0.22192566],\n",
              "       [0.22295766],\n",
              "       [0.22048867],\n",
              "       [0.23367042],\n",
              "       [0.18532759],\n",
              "       [0.18532759],\n",
              "       [0.17597863],\n",
              "       [0.18760384],\n",
              "       [0.18834795],\n",
              "       [0.19304439],\n",
              "       [0.17616893],\n",
              "       [0.18410286],\n",
              "       [0.1767447 ],\n",
              "       [0.18348073],\n",
              "       [0.203662  ],\n",
              "       [0.22856655],\n",
              "       [0.2165827 ],\n",
              "       [0.22482648],\n",
              "       [0.23513424],\n",
              "       [0.23144053],\n",
              "       [0.22482648],\n",
              "       [0.23225783],\n",
              "       [0.22482648],\n",
              "       [0.23772034],\n",
              "       [0.21907608],\n",
              "       [0.19769448],\n",
              "       [0.1896166 ],\n",
              "       [0.20421338],\n",
              "       [0.18803567],\n",
              "       [0.13690913],\n",
              "       [0.11500299],\n",
              "       [0.10563207],\n",
              "       [0.09707357],\n",
              "       [0.12739427],\n",
              "       [0.11819169],\n",
              "       [0.135377  ],\n",
              "       [0.13997829],\n",
              "       [0.12691609],\n",
              "       [0.13671884],\n",
              "       [0.12305647],\n",
              "       [0.13055613],\n",
              "       [0.13214194],\n",
              "       [0.14136892],\n",
              "       [0.14745599],\n",
              "       [0.15188894],\n",
              "       [0.15234761],\n",
              "       [0.11737683],\n",
              "       [0.12077778],\n",
              "       [0.12650622],\n",
              "       [0.12487649],\n",
              "       [0.12926309],\n",
              "       [0.11452237],\n",
              "       [0.12487649],\n",
              "       [0.11795016],\n",
              "       [0.14136892],\n",
              "       [0.14362321],\n",
              "       [0.14179831],\n",
              "       [0.13774839],\n",
              "       [0.12650622],\n",
              "       [0.06802396],\n",
              "       [0.09295046],\n",
              "       [0.0822377 ],\n",
              "       [0.06474011],\n",
              "       [0.06435708],\n",
              "       [0.11382949],\n",
              "       [0.0986789 ],\n",
              "       [0.0984642 ],\n",
              "       [0.11775742],\n",
              "       [0.10932091],\n",
              "       [0.0919697 ],\n",
              "       [0.00275687],\n",
              "       [0.05225368],\n",
              "       [0.06593801],\n",
              "       [0.07276919],\n",
              "       [0.09716872],\n",
              "       [0.11037486],\n",
              "       [0.09036193],\n",
              "       [0.08264513],\n",
              "       [0.11967503],\n",
              "       [0.13252254],\n",
              "       [0.0877978 ],\n",
              "       [0.08288422],\n",
              "       [0.08372348],\n",
              "       [0.05503251],\n",
              "       [0.08111056],\n",
              "       [0.04676434],\n",
              "       [0.0520585 ],\n",
              "       [0.0822377 ],\n",
              "       [0.08288422],\n",
              "       [0.10632494],\n",
              "       [0.08892494],\n",
              "       [0.12161704],\n",
              "       [0.11905291],\n",
              "       [0.12077778],\n",
              "       [0.14812691],\n",
              "       [0.1993486 ],\n",
              "       [0.21787575],\n",
              "       [0.21569465],\n",
              "       [0.25550581],\n",
              "       [0.2666504 ],\n",
              "       [0.2761921 ],\n",
              "       [0.26248338],\n",
              "       [0.26686998],\n",
              "       [0.26943167],\n",
              "       [0.24843554],\n",
              "       [0.24562987],\n",
              "       [0.22278932],\n",
              "       [0.26037059],\n",
              "       [0.28549227],\n",
              "       [0.25677934],\n",
              "       [0.22010564],\n",
              "       [0.21610208],\n",
              "       [0.24695219],\n",
              "       [0.24393183],\n",
              "       [0.25394928],\n",
              "       [0.27494541],\n",
              "       [0.2926333 ],\n",
              "       [0.25083133],\n",
              "       [0.26801664],\n",
              "       [0.2870976 ],\n",
              "       [0.26842651],\n",
              "       [0.27827805],\n",
              "       [0.27207143],\n",
              "       [0.27041731],\n",
              "       [0.27247643],\n",
              "       [0.28570697],\n",
              "       [0.28805641],\n",
              "       [0.2839089 ],\n",
              "       [0.25742342],\n",
              "       [0.26506947],\n",
              "       [0.24601535],\n",
              "       [0.25481294],\n",
              "       [0.28184979],\n",
              "       [0.28843944],\n",
              "       [0.282711  ],\n",
              "       [0.30411457],\n",
              "       [0.26358613],\n",
              "       [0.25174378],\n",
              "       [0.25040194],\n",
              "       [0.24562987],\n",
              "       [0.21976896],\n",
              "       [0.23899386],\n",
              "       [0.24479305],\n",
              "       [0.20757042],\n",
              "       [0.21267429],\n",
              "       [0.21207656],\n",
              "       [0.19848494],\n",
              "       [0.17585908],\n",
              "       [0.1850641 ],\n",
              "       [0.17904778],\n",
              "       [0.18321724],\n",
              "       [0.17243129],\n",
              "       [0.13427425],\n",
              "       [0.1656733 ],\n",
              "       [0.16898154],\n",
              "       [0.17319736],\n",
              "       [0.17722532],\n",
              "       [0.17722532],\n",
              "       [0.17569074],\n",
              "       [0.17506862],\n",
              "       [0.1507618 ],\n",
              "       [0.15419203],\n",
              "       [0.14520414],\n",
              "       [0.12274418],\n",
              "       [0.12550106],\n",
              "       [0.15522159],\n",
              "       [0.13036583],\n",
              "       [0.13872916],\n",
              "       [0.1440526 ],\n",
              "       [0.1547678 ],\n",
              "       [0.14462837],\n",
              "       [0.1787111 ],\n",
              "       [0.20831209],\n",
              "       [0.1971919 ],\n",
              "       [0.17327055],\n",
              "       [0.17684229],\n",
              "       [0.17885504],\n",
              "       [0.16931578],\n",
              "       [0.18875294],\n",
              "       [0.15579736],\n",
              "       [0.17926248],\n",
              "       [0.17703258],\n",
              "       [0.1547678 ],\n",
              "       [0.20759481],\n",
              "       [0.20812179],\n",
              "       [0.21509448],\n",
              "       [0.18383937],\n",
              "       [0.12415922],\n",
              "       [0.13094161],\n",
              "       [0.19755053],\n",
              "       [0.24412213],\n",
              "       [0.2772241 ],\n",
              "       [0.2893031 ],\n",
              "       [0.28659502],\n",
              "       [0.28304768],\n",
              "       [0.27614575],\n",
              "       [0.27005624],\n",
              "       [0.28971053],\n",
              "       [0.30289227],\n",
              "       [0.28616319],\n",
              "       [0.29014236],\n",
              "       [0.29963282],\n",
              "       [0.29436061],\n",
              "       [0.29567806],\n",
              "       [0.29567806],\n",
              "       [0.30581749],\n",
              "       [0.30378033],\n",
              "       [0.28616319],\n",
              "       [0.28532393],\n",
              "       [0.30322895],\n",
              "       [0.31773058],\n",
              "       [0.32657453],\n",
              "       [0.30703978],\n",
              "       [0.31022848],\n",
              "       [0.30919648],\n",
              "       [0.31617161],\n",
              "       [0.30881345],\n",
              "       [0.30581749],\n",
              "       [0.28695366],\n",
              "       [0.26619662],\n",
              "       [0.24757188],\n",
              "       [0.23393391],\n",
              "       [0.26128304],\n",
              "       [0.27185186],\n",
              "       [0.27556998],\n",
              "       [0.28659502],\n",
              "       [0.27161277],\n",
              "       [0.26049258],\n",
              "       [0.29512668],\n",
              "       [0.28915915],\n",
              "       [0.29646852],\n",
              "       [0.31097015],\n",
              "       [0.29529502],\n",
              "       [0.27794137],\n",
              "       [0.29177208],\n",
              "       [0.27914171],\n",
              "       [0.283743  ],\n",
              "       [0.27612135],\n",
              "       [0.28124962],\n",
              "       [0.28669017],\n",
              "       [0.28143992],\n",
              "       [0.26006319],\n",
              "       [0.25437867],\n",
              "       [0.26490357],\n",
              "       [0.24338046],\n",
              "       [0.25066543],\n",
              "       [0.23721776],\n",
              "       [0.23844249],\n",
              "       [0.23247496],\n",
              "       [0.2407407 ],\n",
              "       [0.24608854],\n",
              "       [0.23144053],\n",
              "       [0.24608854],\n",
              "       [0.24966027],\n",
              "       [0.24630323],\n",
              "       [0.25673055],\n",
              "       [0.2450785 ],\n",
              "       [0.23443893],\n",
              "       [0.23774473],\n",
              "       [0.22736621],\n",
              "       [0.22413116],\n",
              "       [0.22592922],\n",
              "       [0.22676848],\n",
              "       [0.20718494],\n",
              "       [0.19570611],\n",
              "       [0.20512583],\n",
              "       [0.21159594],\n",
              "       [0.18956781],\n",
              "       [0.18261952],\n",
              "       [0.18935311],\n",
              "       [0.17264599],\n",
              "       [0.16444856],\n",
              "       [0.16957927],\n",
              "       [0.17355844],\n",
              "       [0.17629091],\n",
              "       [0.16387279],\n",
              "       [0.18225844],\n",
              "       [0.17432451],\n",
              "       [0.19362016],\n",
              "       [0.20136136],\n",
              "       [0.17832807],\n",
              "       [0.1591056 ],\n",
              "       [0.15174744],\n",
              "       [0.14723886],\n",
              "       [0.13897313],\n",
              "       [0.13499152],\n",
              "       [0.12749186],\n",
              "       [0.12847262],\n",
              "       [0.11718409],\n",
              "       [0.12171463],\n",
              "       [0.12916794],\n",
              "       [0.10153336],\n",
              "       [0.10131622],\n",
              "       [0.10277761],\n",
              "       [0.11943594],\n",
              "       [0.13273723],\n",
              "       [0.14472596],\n",
              "       [0.13391317],\n",
              "       [0.14472596],\n",
              "       [0.14196909],\n",
              "       [0.14671188],\n",
              "       [0.13000476],\n",
              "       [0.12506923],\n",
              "       [0.11504934],\n",
              "       [0.10953804],\n",
              "       [0.13976359],\n",
              "       [0.12784805],\n",
              "       [0.14963709],\n",
              "       [0.15222562],\n",
              "       [0.14901497],\n",
              "       [0.14505776],\n",
              "       [0.1355429 ],\n",
              "       [0.14134452],\n",
              "       [0.13273723],\n",
              "       [0.12648182],\n",
              "       [0.09752979],\n",
              "       [0.10644693],\n",
              "       [0.09520475],\n",
              "       [0.09793723],\n",
              "       [0.11231687],\n",
              "       [0.10383156],\n",
              "       [0.1018676 ],\n",
              "       [0.07828293],\n",
              "       [0.08017615],\n",
              "       [0.06749698],\n",
              "       [0.06895837],\n",
              "       [0.04693024],\n",
              "       [0.03933298],\n",
              "       [0.04592508],\n",
              "       [0.02135721],\n",
              "       [0.        ],\n",
              "       [0.02533394],\n",
              "       [0.00719226],\n",
              "       [0.03571246],\n",
              "       [0.04693024],\n",
              "       [0.04515901],\n",
              "       [0.0630128 ],\n",
              "       [0.02957903],\n",
              "       [0.02610244],\n",
              "       [0.0304866 ],\n",
              "       [0.01200825],\n",
              "       [0.0477207 ],\n",
              "       [0.08760506],\n",
              "       [0.08741476],\n",
              "       [0.09733706],\n",
              "       [0.11795016],\n",
              "       [0.09206485],\n",
              "       [0.09033753],\n",
              "       [0.12113886],\n",
              "       [0.1592715 ]])"
            ]
          },
          "execution_count": 31,
          "metadata": {},
          "output_type": "execute_result"
        }
      ],
      "source": [
        "input_data = scaler.fit_transform(final_df)\n",
        "input_data"
      ]
    },
    {
      "cell_type": "code",
      "execution_count": 32,
      "metadata": {
        "colab": {
          "base_uri": "https://localhost:8080/"
        },
        "id": "lwmB2R2ZHw8I",
        "outputId": "9d3fd522-7286-42e1-c761-7139858a9c22"
      },
      "outputs": [
        {
          "data": {
            "text/plain": [
              "(705, 1)"
            ]
          },
          "execution_count": 32,
          "metadata": {},
          "output_type": "execute_result"
        }
      ],
      "source": [
        "input_data.shape"
      ]
    },
    {
      "cell_type": "code",
      "execution_count": 33,
      "metadata": {
        "id": "UY5DWY0HIWHN"
      },
      "outputs": [],
      "source": [
        "x_test = []\n",
        "y_test = []\n",
        "\n",
        "for i in range(100,input_data.shape[0]):\n",
        "  x_test.append(input_data[i-100: i])\n",
        "  y_test.append(input_data[i, 0])\n"
      ]
    },
    {
      "cell_type": "code",
      "execution_count": 34,
      "metadata": {
        "colab": {
          "base_uri": "https://localhost:8080/"
        },
        "id": "mU-vpre6IWM2",
        "outputId": "36da5ceb-6895-4ca0-af87-48b1a55eaabb"
      },
      "outputs": [
        {
          "name": "stdout",
          "output_type": "stream",
          "text": [
            "(605, 100, 1)\n",
            "(605,)\n"
          ]
        }
      ],
      "source": [
        "x_test,y_test= np.array(x_test),np.array(y_test)\n",
        "\n",
        "print(x_test.shape)\n",
        "print(y_test.shape)"
      ]
    },
    {
      "cell_type": "code",
      "execution_count": 35,
      "metadata": {
        "colab": {
          "base_uri": "https://localhost:8080/"
        },
        "id": "j_p6o-meIWPO",
        "outputId": "e41199b1-f00f-45e7-c39d-18af940a4b3c"
      },
      "outputs": [
        {
          "name": "stdout",
          "output_type": "stream",
          "text": [
            "\u001b[1m19/19\u001b[0m \u001b[32m━━━━━━━━━━━━━━━━━━━━\u001b[0m\u001b[37m\u001b[0m \u001b[1m3s\u001b[0m 106ms/step\n"
          ]
        }
      ],
      "source": [
        "# Making Predictions\n",
        "\n",
        "y_predicted = model.predict(x_test)"
      ]
    },
    {
      "cell_type": "code",
      "execution_count": 36,
      "metadata": {
        "colab": {
          "base_uri": "https://localhost:8080/"
        },
        "id": "4VXJiuzZIWR2",
        "outputId": "bad4eeaf-605f-466e-c2b5-a2a1c4e4665f"
      },
      "outputs": [
        {
          "data": {
            "text/plain": [
              "(605, 1)"
            ]
          },
          "execution_count": 36,
          "metadata": {},
          "output_type": "execute_result"
        }
      ],
      "source": [
        "y_predicted.shape"
      ]
    },
    {
      "cell_type": "code",
      "execution_count": 37,
      "metadata": {
        "colab": {
          "base_uri": "https://localhost:8080/"
        },
        "id": "X_jqGb_iIWVT",
        "outputId": "80f3fddc-ec21-4e43-aaa3-9ae7da5a4bff"
      },
      "outputs": [
        {
          "data": {
            "text/plain": [
              "array([0.71319029, 0.71299999, 0.72059724, 0.72152921, 0.69947912,\n",
              "       0.70110885, 0.68406992, 0.69046684, 0.76019127, 0.75453603,\n",
              "       0.74578723, 0.750774  , 0.75642924, 0.7422155 , 0.74954926,\n",
              "       0.74749015, 0.74954926, 0.74749015, 0.73701404, 0.74868805,\n",
              "       0.74749015, 0.76019127, 0.77723508, 0.77375849, 0.75791502,\n",
              "       0.69576589, 0.71719141, 0.69444844, 0.70901838, 0.72368835,\n",
              "       0.69315052, 0.71402954, 0.72095588, 0.72409578, 0.73039999,\n",
              "       0.7366554 , 0.73056589, 0.75388951, 0.74784879, 0.75448723,\n",
              "       0.77922344, 0.76342877, 0.77030631, 0.74207156, 0.74310355,\n",
              "       0.74518706, 0.74806348, 0.74518706, 0.79993413, 0.81347451,\n",
              "       0.8333679 , 0.83521476, 0.83068422, 0.82756871, 0.82591459,\n",
              "       0.83186016, 0.82440441, 0.82855191, 0.83919392, 0.85740879,\n",
              "       0.84370006, 0.87399636, 0.81213267, 0.80819986, 0.80618954,\n",
              "       0.82277468, 0.82135965, 0.8202569 , 0.80408163, 0.81038096,\n",
              "       0.81148371, 0.79019969, 0.76091099, 0.73706283, 0.7412323 ,\n",
              "       0.71549093, 0.7312856 , 0.7322932 , 0.74080291, 0.68708784,\n",
              "       0.69456555, 0.68794906, 0.71697671, 0.73562585, 0.73183698,\n",
              "       0.71697671, 0.68972517, 0.66882418, 0.66800932, 0.66053161,\n",
              "       0.67356942, 0.66549154, 0.73082938, 0.72124376, 0.73876331,\n",
              "       0.72522293, 0.72011662, 0.71879674, 0.71855764, 0.73519402,\n",
              "       0.73183698, 0.71249497, 0.70425119, 0.71685717, 0.72987301,\n",
              "       0.7281701 , 0.72486185, 0.72191468, 0.7174305 , 0.69480464,\n",
              "       0.6845969 , 0.7065006 , 0.68035181, 0.68092758, 0.68035181,\n",
              "       0.69602937, 0.68835893, 0.66668944, 0.6588287 , 0.65000915,\n",
              "       0.61575564, 0.61966405, 0.5862498 , 0.56043768, 0.54802201,\n",
              "       0.55856887, 0.55914464, 0.55238421, 0.54250826, 0.53546239,\n",
              "       0.54183734, 0.52906303, 0.56949876, 0.57266062, 0.51446625,\n",
              "       0.5136026 , 0.44344633, 0.37700575, 0.37391219, 0.33014626,\n",
              "       0.34294497, 0.34915403, 0.35507276, 0.36108909, 0.35797114,\n",
              "       0.36046452, 0.3584298 , 0.35154982, 0.35305756, 0.34527001,\n",
              "       0.34042963, 0.3423936 , 0.32892397, 0.31794528, 0.3251595 ,\n",
              "       0.32973883, 0.33776791, 0.34148359, 0.34829037, 0.33736048,\n",
              "       0.33239811, 0.32870683, 0.30622492, 0.29452895, 0.29603913,\n",
              "       0.27681423, 0.29853008, 0.29138905, 0.27949791, 0.30960391,\n",
              "       0.31245593, 0.3011918 , 0.29340181, 0.28788807, 0.28031521,\n",
              "       0.29709309, 0.29213072, 0.29491199, 0.30569794, 0.29733218,\n",
              "       0.30960391, 0.30775949, 0.31348793, 0.31459068, 0.30878905,\n",
              "       0.31471022, 0.31471022, 0.3033729 , 0.28843944, 0.28542152,\n",
              "       0.28304768, 0.27930761, 0.27990778, 0.28113007, 0.28304768,\n",
              "       0.2817034 , 0.27806336, 0.27827805, 0.27010503, 0.2728863 ,\n",
              "       0.26921698, 0.28129841, 0.2860656 , 0.29016431, 0.25450065,\n",
              "       0.25646706, 0.23585152, 0.23894507, 0.24239482, 0.24505654,\n",
              "       0.24980177, 0.24572746, 0.2403357 , 0.24378545, 0.23671518,\n",
              "       0.24157996, 0.24016736, 0.24222892, 0.24673262, 0.24548837,\n",
              "       0.22578528, 0.22667334, 0.20761677, 0.19855813, 0.17288508,\n",
              "       0.16495358, 0.15184015, 0.18685973, 0.19508155, 0.17597863,\n",
              "       0.14182271, 0.10299474, 0.14347683, 0.23388755, 0.20670676,\n",
              "       0.21162033, 0.19982678, 0.19788721, 0.19668688, 0.1916074 ,\n",
              "       0.19383486, 0.21804409, 0.2296449 , 0.24812325, 0.25836027,\n",
              "       0.25442746, 0.2589824 , 0.24599095, 0.26969516, 0.26729936,\n",
              "       0.25876526, 0.2619808 , 0.25378338, 0.26375203, 0.24378545,\n",
              "       0.22192566, 0.22295766, 0.22048867, 0.23367042, 0.18532759,\n",
              "       0.18532759, 0.17597863, 0.18760384, 0.18834795, 0.19304439,\n",
              "       0.17616893, 0.18410286, 0.1767447 , 0.18348073, 0.203662  ,\n",
              "       0.22856655, 0.2165827 , 0.22482648, 0.23513424, 0.23144053,\n",
              "       0.22482648, 0.23225783, 0.22482648, 0.23772034, 0.21907608,\n",
              "       0.19769448, 0.1896166 , 0.20421338, 0.18803567, 0.13690913,\n",
              "       0.11500299, 0.10563207, 0.09707357, 0.12739427, 0.11819169,\n",
              "       0.135377  , 0.13997829, 0.12691609, 0.13671884, 0.12305647,\n",
              "       0.13055613, 0.13214194, 0.14136892, 0.14745599, 0.15188894,\n",
              "       0.15234761, 0.11737683, 0.12077778, 0.12650622, 0.12487649,\n",
              "       0.12926309, 0.11452237, 0.12487649, 0.11795016, 0.14136892,\n",
              "       0.14362321, 0.14179831, 0.13774839, 0.12650622, 0.06802396,\n",
              "       0.09295046, 0.0822377 , 0.06474011, 0.06435708, 0.11382949,\n",
              "       0.0986789 , 0.0984642 , 0.11775742, 0.10932091, 0.0919697 ,\n",
              "       0.00275687, 0.05225368, 0.06593801, 0.07276919, 0.09716872,\n",
              "       0.11037486, 0.09036193, 0.08264513, 0.11967503, 0.13252254,\n",
              "       0.0877978 , 0.08288422, 0.08372348, 0.05503251, 0.08111056,\n",
              "       0.04676434, 0.0520585 , 0.0822377 , 0.08288422, 0.10632494,\n",
              "       0.08892494, 0.12161704, 0.11905291, 0.12077778, 0.14812691,\n",
              "       0.1993486 , 0.21787575, 0.21569465, 0.25550581, 0.2666504 ,\n",
              "       0.2761921 , 0.26248338, 0.26686998, 0.26943167, 0.24843554,\n",
              "       0.24562987, 0.22278932, 0.26037059, 0.28549227, 0.25677934,\n",
              "       0.22010564, 0.21610208, 0.24695219, 0.24393183, 0.25394928,\n",
              "       0.27494541, 0.2926333 , 0.25083133, 0.26801664, 0.2870976 ,\n",
              "       0.26842651, 0.27827805, 0.27207143, 0.27041731, 0.27247643,\n",
              "       0.28570697, 0.28805641, 0.2839089 , 0.25742342, 0.26506947,\n",
              "       0.24601535, 0.25481294, 0.28184979, 0.28843944, 0.282711  ,\n",
              "       0.30411457, 0.26358613, 0.25174378, 0.25040194, 0.24562987,\n",
              "       0.21976896, 0.23899386, 0.24479305, 0.20757042, 0.21267429,\n",
              "       0.21207656, 0.19848494, 0.17585908, 0.1850641 , 0.17904778,\n",
              "       0.18321724, 0.17243129, 0.13427425, 0.1656733 , 0.16898154,\n",
              "       0.17319736, 0.17722532, 0.17722532, 0.17569074, 0.17506862,\n",
              "       0.1507618 , 0.15419203, 0.14520414, 0.12274418, 0.12550106,\n",
              "       0.15522159, 0.13036583, 0.13872916, 0.1440526 , 0.1547678 ,\n",
              "       0.14462837, 0.1787111 , 0.20831209, 0.1971919 , 0.17327055,\n",
              "       0.17684229, 0.17885504, 0.16931578, 0.18875294, 0.15579736,\n",
              "       0.17926248, 0.17703258, 0.1547678 , 0.20759481, 0.20812179,\n",
              "       0.21509448, 0.18383937, 0.12415922, 0.13094161, 0.19755053,\n",
              "       0.24412213, 0.2772241 , 0.2893031 , 0.28659502, 0.28304768,\n",
              "       0.27614575, 0.27005624, 0.28971053, 0.30289227, 0.28616319,\n",
              "       0.29014236, 0.29963282, 0.29436061, 0.29567806, 0.29567806,\n",
              "       0.30581749, 0.30378033, 0.28616319, 0.28532393, 0.30322895,\n",
              "       0.31773058, 0.32657453, 0.30703978, 0.31022848, 0.30919648,\n",
              "       0.31617161, 0.30881345, 0.30581749, 0.28695366, 0.26619662,\n",
              "       0.24757188, 0.23393391, 0.26128304, 0.27185186, 0.27556998,\n",
              "       0.28659502, 0.27161277, 0.26049258, 0.29512668, 0.28915915,\n",
              "       0.29646852, 0.31097015, 0.29529502, 0.27794137, 0.29177208,\n",
              "       0.27914171, 0.283743  , 0.27612135, 0.28124962, 0.28669017,\n",
              "       0.28143992, 0.26006319, 0.25437867, 0.26490357, 0.24338046,\n",
              "       0.25066543, 0.23721776, 0.23844249, 0.23247496, 0.2407407 ,\n",
              "       0.24608854, 0.23144053, 0.24608854, 0.24966027, 0.24630323,\n",
              "       0.25673055, 0.2450785 , 0.23443893, 0.23774473, 0.22736621,\n",
              "       0.22413116, 0.22592922, 0.22676848, 0.20718494, 0.19570611,\n",
              "       0.20512583, 0.21159594, 0.18956781, 0.18261952, 0.18935311,\n",
              "       0.17264599, 0.16444856, 0.16957927, 0.17355844, 0.17629091,\n",
              "       0.16387279, 0.18225844, 0.17432451, 0.19362016, 0.20136136,\n",
              "       0.17832807, 0.1591056 , 0.15174744, 0.14723886, 0.13897313,\n",
              "       0.13499152, 0.12749186, 0.12847262, 0.11718409, 0.12171463,\n",
              "       0.12916794, 0.10153336, 0.10131622, 0.10277761, 0.11943594,\n",
              "       0.13273723, 0.14472596, 0.13391317, 0.14472596, 0.14196909,\n",
              "       0.14671188, 0.13000476, 0.12506923, 0.11504934, 0.10953804,\n",
              "       0.13976359, 0.12784805, 0.14963709, 0.15222562, 0.14901497,\n",
              "       0.14505776, 0.1355429 , 0.14134452, 0.13273723, 0.12648182,\n",
              "       0.09752979, 0.10644693, 0.09520475, 0.09793723, 0.11231687,\n",
              "       0.10383156, 0.1018676 , 0.07828293, 0.08017615, 0.06749698,\n",
              "       0.06895837, 0.04693024, 0.03933298, 0.04592508, 0.02135721,\n",
              "       0.        , 0.02533394, 0.00719226, 0.03571246, 0.04693024,\n",
              "       0.04515901, 0.0630128 , 0.02957903, 0.02610244, 0.0304866 ,\n",
              "       0.01200825, 0.0477207 , 0.08760506, 0.08741476, 0.09733706,\n",
              "       0.11795016, 0.09206485, 0.09033753, 0.12113886, 0.1592715 ])"
            ]
          },
          "execution_count": 37,
          "metadata": {},
          "output_type": "execute_result"
        }
      ],
      "source": [
        "y_test"
      ]
    },
    {
      "cell_type": "code",
      "execution_count": 38,
      "metadata": {
        "colab": {
          "base_uri": "https://localhost:8080/"
        },
        "id": "_kDIEyeNIfGd",
        "outputId": "e70d7970-8d82-4c54-c0d5-1bde3cf59787"
      },
      "outputs": [
        {
          "name": "stdout",
          "output_type": "stream",
          "text": [
            "Mean Squared Error:  0.0018154352532982552\n",
            "R-Squared Score:  0.9656020878894512\n"
          ]
        }
      ],
      "source": [
        "y_predicted\n",
        "\n",
        "from sklearn.metrics import mean_squared_error, r2_score\n",
        "\n",
        "# Calculate Mean Squared Error\n",
        "mse = mean_squared_error(y_test,y_predicted)\n",
        "print(\"Mean Squared Error: \",mse)\n",
        "\n",
        "# Calculate R-Squared Score\n",
        "r2 = r2_score(y_test,y_predicted)\n",
        "print(\"R-Squared Score: \",r2)"
      ]
    },
    {
      "cell_type": "code",
      "execution_count": 39,
      "metadata": {
        "colab": {
          "base_uri": "https://localhost:8080/"
        },
        "id": "J-M5gA-Epb8t",
        "outputId": "c376d0b3-b776-4be1-ab20-0186580d20a7"
      },
      "outputs": [
        {
          "name": "stdout",
          "output_type": "stream",
          "text": [
            "F1 Score:  0.771900826446281\n"
          ]
        }
      ],
      "source": [
        "import numpy as np\n",
        "from sklearn.metrics import f1_score\n",
        "\n",
        "threshold=0.5\n",
        "p_predicted_binary = (y_predicted > threshold).astype(int)\n",
        "y_test_binary = (y_test).astype(int)\n",
        "\n",
        "f1 = f1_score(y_test_binary, p_predicted_binary , average='micro')\n",
        "print(\"F1 Score: \",f1)"
      ]
    },
    {
      "cell_type": "markdown",
      "metadata": {
        "id": "LcBrLcAnnAEv"
      },
      "source": [
        "# Threshold Selection\n",
        "\n",
        "- Threshold Selection: Experiment with different thresholds for converting continuous predictions to binary classes. The optimal threshold depends on your specific business goals (e.g., minimizing false positives vs. false negatives)."
      ]
    },
    {
      "cell_type": "code",
      "execution_count": 40,
      "metadata": {
        "colab": {
          "base_uri": "https://localhost:8080/"
        },
        "id": "eYXU01ZRj11j",
        "outputId": "0c377a45-13d3-4ed2-9c13-13a2a757c1d3"
      },
      "outputs": [
        {
          "name": "stdout",
          "output_type": "stream",
          "text": [
            "Precision: 0.9855072463768116\n",
            "Recall: 1.0\n",
            "Accuracy: 0.996694214876033\n"
          ]
        }
      ],
      "source": [
        "from sklearn.metrics import precision_score, recall_score, f1_score, accuracy_score\n",
        "\n",
        "threshold = 0.5  # Adjust as needed\n",
        "y_pred_binary = (y_predicted > threshold).astype(int)\n",
        "y_test_binary = (y_test > threshold).astype(int)\n",
        "\n",
        "precision = precision_score(y_test_binary, y_pred_binary)\n",
        "recall = recall_score(y_test_binary, y_pred_binary)\n",
        "\n",
        "accuracy = accuracy_score(y_test_binary, y_pred_binary)\n",
        "\n",
        "print(\"Precision:\", precision)\n",
        "print(\"Recall:\", recall)\n",
        "print(\"Accuracy:\", accuracy)"
      ]
    },
    {
      "cell_type": "markdown",
      "metadata": {
        "id": "hiOktxMyrgLW"
      },
      "source": [
        "**Threshold**: The threshold determines how you classify a price change as an increase or not. Adjust it based on your problem definition.\n",
        "Binarization: The code converts the continuous values to 0 (no increase) or 1 (increase) based on the threshold.\n",
        "\n",
        "**Binarization**: The code converts the continuous values to 0 (no increase) or 1 (increase) based on the threshold.\n",
        "\n",
        "**recall_score**: This function calculates the recall, which is the ratio of true positives to the sum of true positives and false negatives. It measures how well your model identifies all the actual positive instances (price increases in this case)."
      ]
    },
    {
      "cell_type": "code",
      "execution_count": 41,
      "metadata": {
        "colab": {
          "base_uri": "https://localhost:8080/"
        },
        "id": "7cD_jfSrp7zQ",
        "outputId": "dc1c98df-9d9f-4f31-fc66-f9d54654d688"
      },
      "outputs": [
        {
          "name": "stdout",
          "output_type": "stream",
          "text": [
            "Recall: 1.0\n"
          ]
        }
      ],
      "source": [
        "from sklearn.metrics import recall_score\n",
        "recall = recall_score(y_test_binary, p_predicted_binary)\n",
        "print(\"Recall:\", recall)"
      ]
    },
    {
      "cell_type": "code",
      "execution_count": 42,
      "metadata": {
        "colab": {
          "base_uri": "https://localhost:8080/"
        },
        "id": "Gd2fc37AIhay",
        "outputId": "1dd83445-763d-45e2-9b8d-6fe6df251e30"
      },
      "outputs": [
        {
          "data": {
            "text/plain": [
              "array([0.02439709])"
            ]
          },
          "execution_count": 42,
          "metadata": {},
          "output_type": "execute_result"
        }
      ],
      "source": [
        "scaler.scale_"
      ]
    },
    {
      "cell_type": "code",
      "execution_count": 43,
      "metadata": {
        "id": "AchcQiJXIija"
      },
      "outputs": [],
      "source": [
        "scale_factor=1/scaler.scale_\n",
        "y_predicted= y_predicted* scale_factor\n",
        "y_test = y_test * scale_factor"
      ]
    },
    {
      "cell_type": "code",
      "execution_count": 44,
      "metadata": {
        "colab": {
          "base_uri": "https://localhost:8080/",
          "height": 542
        },
        "id": "eBPuqVpAImCW",
        "outputId": "dd280686-fae6-499a-8798-3d9cad9a9d5f"
      },
      "outputs": [
        {
          "data": {
            "image/png": "[encoded data removed]",
            "text/plain": [
              "<Figure size 1200x600 with 1 Axes>"
            ]
          },
          "metadata": {},
          "output_type": "display_data"
        }
      ],
      "source": [
        "fig=plt.figure(figsize=(12,6))\n",
        "fig.patch.set_facecolor('#A59DDF')\n",
        "\n",
        "ax=plt.axes()\n",
        "ax.set_facecolor('#211970')\n",
        "\n",
        "plt.grid(True,linestyle='--',color='#626784')\n",
        "plt.plot(y_test,'#A720C4',label=\"Original price\")\n",
        "plt.plot(y_predicted,'#DFB729',label=\"Predicted price\")\n",
        "\n",
        "plt.xlabel('Time')\n",
        "plt.ylabel('Stock Price($)')\n",
        "plt.legend()\n",
        "plt.show()"
      ]
    },
    {
      "cell_type": "code",
      "execution_count": 45,
      "metadata": {
        "id": "o2Jun0cOvlvO"
      },
      "outputs": [
        {
          "ename": "ModuleNotFoundError",
          "evalue": "No module named 'xgboost'",
          "output_type": "error",
          "traceback": [
            "\u001b[1;31m---------------------------------------------------------------------------\u001b[0m",
            "\u001b[1;31mModuleNotFoundError\u001b[0m                       Traceback (most recent call last)",
            "Cell \u001b[1;32mIn[45], line 7\u001b[0m\n\u001b[0;32m      5\u001b[0m \u001b[38;5;28;01mfrom\u001b[39;00m \u001b[38;5;21;01mtensorflow\u001b[39;00m\u001b[38;5;21;01m.\u001b[39;00m\u001b[38;5;21;01mkeras\u001b[39;00m\u001b[38;5;21;01m.\u001b[39;00m\u001b[38;5;21;01mmodels\u001b[39;00m \u001b[38;5;28;01mimport\u001b[39;00m Sequential\n\u001b[0;32m      6\u001b[0m \u001b[38;5;28;01mfrom\u001b[39;00m \u001b[38;5;21;01mtensorflow\u001b[39;00m\u001b[38;5;21;01m.\u001b[39;00m\u001b[38;5;21;01mkeras\u001b[39;00m\u001b[38;5;21;01m.\u001b[39;00m\u001b[38;5;21;01mlayers\u001b[39;00m \u001b[38;5;28;01mimport\u001b[39;00m LSTM, Dense\n\u001b[1;32m----> 7\u001b[0m \u001b[38;5;28;01mimport\u001b[39;00m \u001b[38;5;21;01mxgboost\u001b[39;00m \u001b[38;5;28;01mas\u001b[39;00m \u001b[38;5;21;01mxgb\u001b[39;00m\n\u001b[0;32m      9\u001b[0m \u001b[38;5;66;03m# ... (Load and preprocess your time series data) ...\u001b[39;00m\n\u001b[0;32m     10\u001b[0m \n\u001b[0;32m     11\u001b[0m \u001b[38;5;66;03m# Scale numerical features\u001b[39;00m\n\u001b[0;32m     12\u001b[0m scaler \u001b[38;5;241m=\u001b[39m MinMaxScaler(feature_range\u001b[38;5;241m=\u001b[39m(\u001b[38;5;241m0\u001b[39m,\u001b[38;5;241m1\u001b[39m))\n",
            "\u001b[1;31mModuleNotFoundError\u001b[0m: No module named 'xgboost'"
          ]
        }
      ],
      "source": [
        "import numpy as np\n",
        "import pandas as pd\n",
        "from sklearn.preprocessing import MinMaxScaler\n",
        "from sklearn.model_selection import train_test_split\n",
        "from tensorflow.keras.models import Sequential\n",
        "from tensorflow.keras.layers import LSTM, Dense\n",
        "import xgboost as xgb\n",
        "\n",
        "# ... (Load and preprocess your time series data) ...\n",
        "\n",
        "# Scale numerical features\n",
        "scaler = MinMaxScaler(feature_range=(0,1))\n",
        "data_training_array = scaler.fit_transform(data_training)\n",
        "\n",
        "y = data_training['Close'].values\n",
        "\n",
        "\n",
        "# Split data into train and test sets\n",
        "X_train, X_test, y_train, y_test = train_test_split(\n",
        "   data_training_array, y, test_size=0.2, shuffle=False\n",
        ")\n",
        "\n",
        "# Reshape data for LSTM (samples, timesteps, features)\n",
        "X_train_lstm = X_train.reshape(X_train.shape[0], 1, X_train.shape[1])\n",
        "X_test_lstm = X_test.reshape(X_test.shape[0], 1, X_test.shape[1])\n",
        "\n"
      ]
    },
    {
      "cell_type": "code",
      "execution_count": 156,
      "metadata": {
        "colab": {
          "base_uri": "https://localhost:8080/"
        },
        "id": "lvWlgA0DwaUI",
        "outputId": "e6674935-71df-4023-c116-d702fe4c67bf"
      },
      "outputs": [
        {
          "name": "stdout",
          "output_type": "stream",
          "text": [
            "\u001b[1m36/36\u001b[0m \u001b[32m━━━━━━━━━━━━━━━━━━━━\u001b[0m\u001b[37m\u001b[0m \u001b[1m2s\u001b[0m 14ms/step\n",
            "\u001b[1m9/9\u001b[0m \u001b[32m━━━━━━━━━━━━━━━━━━━━\u001b[0m\u001b[37m\u001b[0m \u001b[1m0s\u001b[0m 14ms/step\n"
          ]
        }
      ],
      "source": [
        "lstm_features_train = model.predict(X_train_lstm)\n",
        "lstm_features_test = model.predict(X_test_lstm)\n",
        "\n",
        "# Train XGBoost model\n",
        "model_xgb = xgb.XGBRegressor()\n",
        "model_xgb.fit(lstm_features_train, y_train)\n",
        "\n",
        "# Make predictions\n",
        "y_pred = model_xgb.predict(lstm_features_test)\n"
      ]
    },
    {
      "cell_type": "code",
      "execution_count": 157,
      "metadata": {
        "colab": {
          "base_uri": "https://localhost:8080/"
        },
        "id": "C8P-BSZHxE-A",
        "outputId": "e335447c-226e-4a10-c8c9-5e60852c6c58"
      },
      "outputs": [
        {
          "name": "stdout",
          "output_type": "stream",
          "text": [
            "Mean Squared Error (Combined Model): 1.0762343006089645\n",
            "R-squared Score (Combined Model): 0.9860693785811929\n"
          ]
        }
      ],
      "source": [
        "# Evaluate the performance of the combined model\n",
        "mse = mean_squared_error(y_test, y_pred)\n",
        "r2 = r2_score(y_test, y_pred)\n",
        "\n",
        "print(\"Mean Squared Error (Combined Model):\", mse)\n",
        "print(\"R-squared Score (Combined Model):\", r2)"
      ]
    }
  ],
  "metadata": {
    "colab": {
      "provenance": []
    },
    "kernelspec": {
      "display_name": "Python 3",
      "name": "python3"
    },
    "language_info": {
      "codemirror_mode": {
        "name": "ipython",
        "version": 3
      },
      "file_extension": ".py",
      "mimetype": "text/x-python",
      "name": "python",
      "nbconvert_exporter": "python",
      "pygments_lexer": "ipython3",
      "version": "3.12.0"
    }
  },
  "nbformat": 4,
  "nbformat_minor": 0
}
